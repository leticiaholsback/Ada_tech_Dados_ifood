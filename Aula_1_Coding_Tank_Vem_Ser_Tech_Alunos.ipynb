{
  "cells": [
    {
      "cell_type": "markdown",
      "metadata": {
        "id": "view-in-github",
        "colab_type": "text"
      },
      "source": [
        "<a href=\"https://colab.research.google.com/github/leticiaholsback/Ada_tech_Dados_ifood/blob/main/Aula_1_Coding_Tank_Vem_Ser_Tech_Alunos.ipynb\" target=\"_parent\"><img src=\"https://colab.research.google.com/assets/colab-badge.svg\" alt=\"Open In Colab\"/></a>"
      ]
    },
    {
      "cell_type": "markdown",
      "id": "423e117e",
      "metadata": {
        "id": "423e117e"
      },
      "source": [
        "<div style=\"background-color: lightgreen; padding: 18px;\">\n",
        "    <h1> Coding Tank | Vem Ser Tech\n",
        "</div>"
      ]
    },
    {
      "cell_type": "markdown",
      "id": "2bd0fc7d",
      "metadata": {
        "id": "2bd0fc7d"
      },
      "source": [
        "<div style=\"background-color: lightblue; padding: 10px;\">\n",
        "    <h2> Tópicos da aula - AULA 1\n",
        "</div>\n",
        "\n",
        "- Variáveis\n",
        "- Tipos básicos\n",
        "- Entradas/Saídas\n",
        "- Operadores aritméticos, atribuição e comparação"
      ]
    },
    {
      "cell_type": "markdown",
      "id": "b8600ec3",
      "metadata": {
        "id": "b8600ec3"
      },
      "source": [
        "# Introdução\n",
        "\n",
        "Vamos explorar como o jupyter notebook funciona, botões, comandos e tipos de célula"
      ]
    },
    {
      "cell_type": "markdown",
      "id": "fa313866",
      "metadata": {
        "id": "fa313866"
      },
      "source": [
        "1"
      ]
    },
    {
      "cell_type": "code",
      "execution_count": null,
      "id": "9463f580",
      "metadata": {
        "id": "9463f580"
      },
      "outputs": [],
      "source": [
        "# CTR + ENTER -> EXECUTA"
      ]
    },
    {
      "cell_type": "code",
      "execution_count": null,
      "id": "241b511d",
      "metadata": {
        "id": "241b511d"
      },
      "outputs": [],
      "source": [
        "# TR + SHIFT -> EXECUTA E PULA PRA PROXIMA LINHA"
      ]
    },
    {
      "cell_type": "code",
      "execution_count": null,
      "id": "9326204d",
      "metadata": {
        "id": "9326204d"
      },
      "outputs": [],
      "source": [
        "# SELECIONA O CODIGO QUE QUERO E COLOCO A PRIMEIRA PARENTESE, JA DEIXA O CODIGO TODO DENTRO DELA"
      ]
    },
    {
      "cell_type": "code",
      "execution_count": null,
      "id": "213c2d0a",
      "metadata": {
        "id": "213c2d0a"
      },
      "outputs": [],
      "source": [
        "# \\t usa tabulação (paragrafo)"
      ]
    },
    {
      "cell_type": "code",
      "execution_count": null,
      "id": "fa52c5b3",
      "metadata": {
        "id": "fa52c5b3"
      },
      "outputs": [],
      "source": []
    },
    {
      "cell_type": "code",
      "execution_count": null,
      "id": "be77b7b6",
      "metadata": {
        "id": "be77b7b6"
      },
      "outputs": [],
      "source": []
    },
    {
      "cell_type": "code",
      "execution_count": null,
      "id": "ba116bad",
      "metadata": {
        "id": "ba116bad"
      },
      "outputs": [],
      "source": []
    },
    {
      "cell_type": "code",
      "execution_count": null,
      "id": "2e30b6d1",
      "metadata": {
        "id": "2e30b6d1"
      },
      "outputs": [],
      "source": []
    },
    {
      "cell_type": "code",
      "execution_count": null,
      "id": "4e004797",
      "metadata": {
        "id": "4e004797"
      },
      "outputs": [],
      "source": []
    },
    {
      "cell_type": "markdown",
      "id": "5393993e",
      "metadata": {
        "id": "5393993e"
      },
      "source": [
        "Mas como podemos armazenar esses valores?"
      ]
    },
    {
      "cell_type": "markdown",
      "id": "c3208653",
      "metadata": {
        "id": "c3208653"
      },
      "source": [
        "# Variáveis\n",
        "\n",
        "Variável é o nome dado ao tipo de conteúdo que pode apresentar diferentes valores enquanto o sistema está em execução. Tudo dependerá do comando do usuário e o tipo de operação que é realizado.\n",
        "\n",
        "Imagine que você conhece uma nova pessoa. A variável seria o lugar no seu cérebro no qual você guarda, por exemplo, o nome desta pessoa, ou seja, é alocado um espaço para armazenar esta informação e posteriormente é passado o valor referente aquele dado.\n",
        "\n",
        "`nome = \"Renata\"`\n",
        "\n",
        "## Tipos básicos\n",
        "\n",
        "Podemos ter informações relacionadas às outras pessoas como nome, idade e salário. Cada uma delas possui o que chamamos de tipos de variável. Os tipos de dados são os seguintes:"
      ]
    },
    {
      "cell_type": "code",
      "execution_count": null,
      "id": "dab98564",
      "metadata": {
        "id": "dab98564"
      },
      "outputs": [],
      "source": []
    },
    {
      "cell_type": "code",
      "execution_count": null,
      "id": "63bfa46a",
      "metadata": {
        "id": "63bfa46a"
      },
      "outputs": [],
      "source": []
    },
    {
      "cell_type": "code",
      "execution_count": null,
      "id": "0ce06f61",
      "metadata": {
        "id": "0ce06f61"
      },
      "outputs": [],
      "source": []
    },
    {
      "cell_type": "code",
      "execution_count": null,
      "id": "04ad08d4",
      "metadata": {
        "id": "04ad08d4"
      },
      "outputs": [],
      "source": []
    },
    {
      "cell_type": "code",
      "execution_count": null,
      "id": "9309e7f3",
      "metadata": {
        "id": "9309e7f3"
      },
      "outputs": [],
      "source": []
    },
    {
      "cell_type": "code",
      "execution_count": null,
      "id": "b45f1b53",
      "metadata": {
        "id": "b45f1b53"
      },
      "outputs": [],
      "source": []
    },
    {
      "cell_type": "code",
      "execution_count": null,
      "id": "15812d79",
      "metadata": {
        "id": "15812d79"
      },
      "outputs": [],
      "source": []
    },
    {
      "cell_type": "code",
      "execution_count": null,
      "id": "6639df36",
      "metadata": {
        "id": "6639df36"
      },
      "outputs": [],
      "source": []
    },
    {
      "cell_type": "code",
      "execution_count": null,
      "id": "932ee297",
      "metadata": {
        "id": "932ee297"
      },
      "outputs": [],
      "source": []
    },
    {
      "cell_type": "markdown",
      "id": "945f06b6",
      "metadata": {
        "id": "945f06b6"
      },
      "source": [
        "Idade é diferente de idade"
      ]
    },
    {
      "cell_type": "markdown",
      "id": "ae10d9dc",
      "metadata": {
        "id": "ae10d9dc"
      },
      "source": [
        "# Entradas\n",
        "\n",
        "Para solicitarmos entradas de informações a serem fornecidas pelo usuário podemos utilizar a função input. Com ela você poderá (opcional) passar uma mensagem instrutiva ao usuário do que deseja que ele insira.  \n",
        "No exemplo abaixo utilizaremos o input."
      ]
    },
    {
      "cell_type": "code",
      "execution_count": null,
      "id": "f62524ea",
      "metadata": {
        "id": "f62524ea"
      },
      "outputs": [],
      "source": []
    },
    {
      "cell_type": "markdown",
      "id": "a9be572a",
      "metadata": {
        "id": "a9be572a"
      },
      "source": [
        "**Intuição**  \n",
        "Veja que ele funciona, porém sem uma mensagem de qual informação é solicitada não é possível identificar o que se deve passar ao programa."
      ]
    },
    {
      "cell_type": "code",
      "execution_count": null,
      "id": "f974c3df",
      "metadata": {
        "id": "f974c3df"
      },
      "outputs": [],
      "source": []
    },
    {
      "cell_type": "markdown",
      "id": "8dec4efe",
      "metadata": {
        "id": "8dec4efe"
      },
      "source": [
        "**Variável**  \n",
        "Podemos guardar o valor passado pelo usuário numa variável"
      ]
    },
    {
      "cell_type": "code",
      "execution_count": null,
      "id": "5b1a0065",
      "metadata": {
        "id": "5b1a0065"
      },
      "outputs": [],
      "source": []
    },
    {
      "cell_type": "markdown",
      "id": "1e00f439",
      "metadata": {
        "id": "1e00f439"
      },
      "source": [
        "Repare nas aspas que saem quando utilizamos apenas a função input. Isso quer dizer que este valor capturado pelo programa é uma string, independente do que o usuário insira."
      ]
    },
    {
      "cell_type": "code",
      "execution_count": null,
      "id": "7f15c937",
      "metadata": {
        "id": "7f15c937"
      },
      "outputs": [],
      "source": []
    },
    {
      "cell_type": "markdown",
      "id": "a0007819",
      "metadata": {
        "id": "a0007819"
      },
      "source": [
        "**Convertendo o tipo de dado**\n",
        "\n",
        "Neste caso é interessante que a idade seja um número, visto que em geral o utilizamos para realizar contas, por exemplo. Para converter este valor para um inteiro, podemos fazer da seguinte forma:"
      ]
    },
    {
      "cell_type": "code",
      "execution_count": null,
      "id": "3abfbb24",
      "metadata": {
        "id": "3abfbb24"
      },
      "outputs": [],
      "source": []
    },
    {
      "cell_type": "code",
      "execution_count": null,
      "id": "b2d05721",
      "metadata": {
        "id": "b2d05721"
      },
      "outputs": [],
      "source": []
    },
    {
      "cell_type": "code",
      "execution_count": null,
      "id": "cdd2d645",
      "metadata": {
        "id": "cdd2d645"
      },
      "outputs": [],
      "source": []
    },
    {
      "cell_type": "code",
      "execution_count": null,
      "id": "e717563c",
      "metadata": {
        "id": "e717563c"
      },
      "outputs": [],
      "source": []
    },
    {
      "cell_type": "code",
      "execution_count": null,
      "id": "3caa3d85",
      "metadata": {
        "id": "3caa3d85"
      },
      "outputs": [],
      "source": []
    },
    {
      "cell_type": "code",
      "execution_count": null,
      "id": "82f17db5",
      "metadata": {
        "id": "82f17db5"
      },
      "outputs": [],
      "source": []
    },
    {
      "cell_type": "markdown",
      "id": "295fd764",
      "metadata": {
        "id": "295fd764"
      },
      "source": [
        "E para simplificar ainda mais é comum que já realizemos a conversão da variável logo na chamada do input."
      ]
    },
    {
      "cell_type": "code",
      "execution_count": null,
      "id": "a71c320f",
      "metadata": {
        "id": "a71c320f"
      },
      "outputs": [],
      "source": []
    },
    {
      "cell_type": "code",
      "execution_count": null,
      "id": "73266b5a",
      "metadata": {
        "id": "73266b5a"
      },
      "outputs": [],
      "source": []
    },
    {
      "cell_type": "markdown",
      "id": "fa2168c4",
      "metadata": {
        "id": "fa2168c4"
      },
      "source": [
        "## Saídas\n",
        "\n",
        "Em diversas situações desejamos imprimir na tela o resultado de alguma operação que realizamos ou simplesmente emitirmos uma mensagem, para estas situações utilizamos o `print`."
      ]
    },
    {
      "cell_type": "code",
      "execution_count": null,
      "id": "8ae62362",
      "metadata": {
        "id": "8ae62362"
      },
      "outputs": [],
      "source": []
    },
    {
      "cell_type": "code",
      "execution_count": null,
      "id": "712911a2",
      "metadata": {
        "id": "712911a2"
      },
      "outputs": [],
      "source": []
    },
    {
      "cell_type": "code",
      "execution_count": null,
      "id": "cebac0fa",
      "metadata": {
        "id": "cebac0fa"
      },
      "outputs": [],
      "source": []
    },
    {
      "cell_type": "code",
      "execution_count": null,
      "id": "b532987d",
      "metadata": {
        "id": "b532987d"
      },
      "outputs": [],
      "source": []
    },
    {
      "cell_type": "code",
      "execution_count": null,
      "id": "18506214",
      "metadata": {
        "id": "18506214"
      },
      "outputs": [],
      "source": []
    },
    {
      "cell_type": "code",
      "execution_count": null,
      "id": "495c3b18",
      "metadata": {
        "id": "495c3b18"
      },
      "outputs": [],
      "source": []
    },
    {
      "cell_type": "code",
      "execution_count": null,
      "id": "1e37b974",
      "metadata": {
        "id": "1e37b974"
      },
      "outputs": [],
      "source": []
    },
    {
      "cell_type": "code",
      "execution_count": null,
      "id": "72fe1a3d",
      "metadata": {
        "id": "72fe1a3d"
      },
      "outputs": [],
      "source": []
    },
    {
      "cell_type": "markdown",
      "id": "c575d984",
      "metadata": {
        "id": "c575d984"
      },
      "source": [
        "**Mais de um argumento**  \n",
        "Para imprimir mais de uma informação, o print permite inserir quantos argumentos forem necessários, desde que separados por vírgula. Veja o exemplo:"
      ]
    },
    {
      "cell_type": "code",
      "execution_count": null,
      "id": "2dfe08f0",
      "metadata": {
        "id": "2dfe08f0"
      },
      "outputs": [],
      "source": []
    },
    {
      "cell_type": "code",
      "execution_count": null,
      "id": "a28e8533",
      "metadata": {
        "id": "a28e8533"
      },
      "outputs": [],
      "source": []
    },
    {
      "cell_type": "markdown",
      "id": "944f604d",
      "metadata": {
        "id": "944f604d"
      },
      "source": [
        "**Print de variáveis**  \n",
        "Também é possível imprimir variáveis de forma simples, basta passar o nome dado para a variável dentro dos parênteses."
      ]
    },
    {
      "cell_type": "code",
      "execution_count": null,
      "id": "2b510478",
      "metadata": {
        "id": "2b510478"
      },
      "outputs": [],
      "source": []
    },
    {
      "cell_type": "markdown",
      "id": "ba3cfb0e",
      "metadata": {
        "id": "ba3cfb0e"
      },
      "source": [
        "E se for necessário imprimir a mensagem \"Olá, eu sou Renata Marchese\", de forma que o nome e o sobrenome sejam provenientes de variáveis nome e sobrenome"
      ]
    },
    {
      "cell_type": "code",
      "execution_count": null,
      "id": "7b142c5e",
      "metadata": {
        "id": "7b142c5e"
      },
      "outputs": [],
      "source": []
    },
    {
      "cell_type": "code",
      "execution_count": null,
      "id": "f814dd24",
      "metadata": {
        "id": "f814dd24"
      },
      "outputs": [],
      "source": []
    },
    {
      "cell_type": "code",
      "execution_count": null,
      "id": "09ada37a",
      "metadata": {
        "id": "09ada37a"
      },
      "outputs": [],
      "source": []
    },
    {
      "cell_type": "markdown",
      "id": "08b9c448",
      "metadata": {
        "id": "08b9c448"
      },
      "source": [
        "**Print com f string**  \n",
        "Outra forma de utilizarmos o print com variáveis é por meio do que chamamos de f string."
      ]
    },
    {
      "cell_type": "code",
      "execution_count": null,
      "id": "37382cff",
      "metadata": {
        "id": "37382cff"
      },
      "outputs": [],
      "source": []
    },
    {
      "cell_type": "markdown",
      "id": "99da0d47",
      "metadata": {
        "id": "99da0d47"
      },
      "source": [
        "**Bora praticar!**  \n",
        "Escreva um programa que receba seu nome, sua idade, hobby e escreva uma única sentença que seja, por exemplo, \"Meu nome é Renata, tenho 22 anos e meu hobby é viajar\""
      ]
    },
    {
      "cell_type": "code",
      "execution_count": null,
      "id": "c7e45e40",
      "metadata": {
        "id": "c7e45e40"
      },
      "outputs": [],
      "source": [
        "nome = input('Qual seu nome:')\n",
        "idade = int(input('Qual é a sua idade'))\n",
        "hobby = input('qual seu hobby?')"
      ]
    },
    {
      "cell_type": "code",
      "execution_count": 16,
      "id": "d93df66c",
      "metadata": {
        "id": "d93df66c"
      },
      "outputs": [],
      "source": [
        "print (f'Olá! Meu nome é {nome}, tenho {idade} e meu hobby é {hobby}')"
      ]
    },
    {
      "cell_type": "code",
      "source": [
        "nome = input('Qual seu nome: ')\n",
        "idade = int(input('Qual é a sua idade: '))\n",
        "hobby = input('Qual seu hobby? ')\n",
        "print(f'Olá! Meu nome é {nome}, tenho {idade} anos e meu hobby é {hobby}')\n"
      ],
      "metadata": {
        "id": "TQ6X_hMxnYY_",
        "outputId": "55046c46-129a-44df-8c45-55cb9b7de1e0",
        "colab": {
          "base_uri": "https://localhost:8080/"
        }
      },
      "id": "TQ6X_hMxnYY_",
      "execution_count": 18,
      "outputs": [
        {
          "output_type": "stream",
          "name": "stdout",
          "text": [
            "Qual seu nome: Leticia\n",
            "Qual é a sua idade: 356\n",
            "Qual seu hobby? planta\n",
            "Olá! Meu nome é Leticia, tenho 356 anos e meu hobby é planta\n"
          ]
        }
      ]
    },
    {
      "cell_type": "code",
      "source": [
        "!python --version"
      ],
      "metadata": {
        "id": "9VUAyT9bpZOa",
        "outputId": "74cdfc69-e11b-4d8f-be09-7b44ee6c426b",
        "colab": {
          "base_uri": "https://localhost:8080/"
        }
      },
      "id": "9VUAyT9bpZOa",
      "execution_count": 23,
      "outputs": [
        {
          "output_type": "stream",
          "name": "stdout",
          "text": [
            "Python 3.10.12\n"
          ]
        }
      ]
    },
    {
      "cell_type": "markdown",
      "id": "5ffd55f4",
      "metadata": {
        "id": "5ffd55f4"
      },
      "source": [
        "# Operadores Algébricos e de Atribuição\n",
        "Rotineiramente nos deparamos com a necessidade de realizarmos cálculos, para isso utilizamos os operadores algébricos como conhecemos na matemática tradicional. Mas como usar com variáveis?"
      ]
    },
    {
      "cell_type": "markdown",
      "id": "2f4c88b7",
      "metadata": {
        "id": "2f4c88b7"
      },
      "source": [
        "**Operadores Aritméticos**\n",
        "\n",
        "|     Operador    |     Nome                 |     Função                                                                       |\n",
        "|-----------------|--------------------------|----------------------------------------------------------------------------------|\n",
        "|     +           |     Adição               |     Realiza   a soma de ambos operandos.                                         |\n",
        "|     -           |     Subtração            |     Realiza   a subtração de ambos operandos.                                    |\n",
        "|     *           |     Multiplicação        |     Realiza   a multiplicação de ambos operandos.                                |\n",
        "|     /           |     Divisão              |     Realiza   a Divisão de ambos operandos.                                      |\n",
        "|     //          |     Divisão   inteira    |     Realiza   a divisão entre operandos e a parte decimal de ambos operandos.    |\n",
        "|     %           |     Módulo               |     Retorna   o resto da divisão de ambos operandos.                             |\n",
        "|     **          |     Exponenciação        |     Retorna   o resultado da elevação da potência pelo outro.                    |"
      ]
    },
    {
      "cell_type": "code",
      "execution_count": null,
      "id": "66ec66c5",
      "metadata": {
        "id": "66ec66c5"
      },
      "outputs": [],
      "source": []
    },
    {
      "cell_type": "code",
      "execution_count": null,
      "id": "2de8314e",
      "metadata": {
        "id": "2de8314e"
      },
      "outputs": [],
      "source": []
    },
    {
      "cell_type": "markdown",
      "id": "1c7dee09",
      "metadata": {
        "id": "1c7dee09"
      },
      "source": [
        "**Operadores de atribuição**\n",
        "\n",
        "|     Operador    |     Equivalente a    |\n",
        "|:---------------:|----------------------|\n",
        "|         =       |     x =   1          |\n",
        "|        +=       |     x =   x + 1      |\n",
        "|        -=       |     x =   x - 1      |\n",
        "|        *=       |     x =   x * 1      |\n",
        "|        /=       |     x =   x / 1      |\n",
        "|        %=       |     x =   x % 1      |"
      ]
    },
    {
      "cell_type": "markdown",
      "id": "e6332069",
      "metadata": {
        "id": "e6332069"
      },
      "source": [
        "**Bora praticar!**  \n",
        "Com tudo que vimos até o momento faça um programa que solicite ao usuário que insira seu ano de nascimento. Desconsiderando o mês do ano de nascimento, emita uma mensagem dizendo quantos anos ele possui."
      ]
    },
    {
      "cell_type": "code",
      "source": [
        "nascimento = int(input('Digite o ano que voce nasceu: '))\n",
        "hoje=2023\n",
        "print(f'Voce tem {hoje - nascimento} anos')"
      ],
      "metadata": {
        "id": "axyLiW6wsdVI",
        "outputId": "0b6a60e4-1a41-4887-b468-2926e64cb39f",
        "colab": {
          "base_uri": "https://localhost:8080/"
        }
      },
      "id": "axyLiW6wsdVI",
      "execution_count": 5,
      "outputs": [
        {
          "output_type": "stream",
          "name": "stdout",
          "text": [
            "Digite o ano que voce nasceu: 1969\n",
            "Voce tem 54 anos\n"
          ]
        }
      ]
    },
    {
      "cell_type": "code",
      "source": [],
      "metadata": {
        "id": "uKTuf72TsdgR"
      },
      "id": "uKTuf72TsdgR",
      "execution_count": null,
      "outputs": []
    },
    {
      "cell_type": "code",
      "execution_count": 1,
      "id": "e81365a4",
      "metadata": {
        "id": "e81365a4",
        "outputId": "1377776f-3571-41ed-a2e8-a788b4789ec0",
        "colab": {
          "base_uri": "https://localhost:8080/"
        }
      },
      "outputs": [
        {
          "output_type": "stream",
          "name": "stdout",
          "text": [
            "1\n"
          ]
        }
      ],
      "source": [
        "#% é o resto da divisao\n",
        "x=5\n",
        "y=2\n",
        "print(x%y)"
      ]
    },
    {
      "cell_type": "code",
      "source": [
        "#// divisão inteira ou seja, devolve um  valor inteiro no final\n",
        "x=5\n",
        "y=2\n",
        "print(x//y)"
      ],
      "metadata": {
        "id": "PrCvwWzisFI9",
        "outputId": "f211589e-4039-4f89-fbcf-d5027782427f",
        "colab": {
          "base_uri": "https://localhost:8080/"
        }
      },
      "id": "PrCvwWzisFI9",
      "execution_count": 2,
      "outputs": [
        {
          "output_type": "stream",
          "name": "stdout",
          "text": [
            "2\n"
          ]
        }
      ]
    },
    {
      "cell_type": "code",
      "source": [],
      "metadata": {
        "id": "JjOPclTLsFTp"
      },
      "id": "JjOPclTLsFTp",
      "execution_count": null,
      "outputs": []
    },
    {
      "cell_type": "markdown",
      "id": "423e0da3",
      "metadata": {
        "id": "423e0da3"
      },
      "source": [
        "## Operadores de Comparação  \n",
        "Os operadores de comparação são aqueles que possuem o objetivo de analisar os valores de uma expressão e retornar um valor booleano, ou seja, verdadeiro (1) ou falso (0).\n",
        "\n",
        "**Operadores de comparação**\n",
        "\n",
        "|     Operador    |           Nome          |     Função                                              |\n",
        "|:---------------:|:-----------------------:|---------------------------------------------------------|\n",
        "|        ==       |         Igual   a       |     Verifica   se um valor é igual ao outro             |\n",
        "|        !=       |      Diferente   de     |     Verifica   se um valor é diferente ao outro         |\n",
        "|         >       |        Maior   que      |     Verifica   se um valor é maior que outro            |\n",
        "|        >=       |     Maior   ou igual    |     Verifica   se um valor é maior ou igual ao outro    |\n",
        "|         <       |        Menor   que      |     Verifica   se um valor é menor que outro            |\n",
        "|        <=       |     Menor   ou igual    |     Verifica   se um valor é menor ou igual ao outro    |"
      ]
    },
    {
      "cell_type": "code",
      "execution_count": 7,
      "id": "c04d8858",
      "metadata": {
        "id": "c04d8858",
        "outputId": "3c9db376-d564-4875-d20c-cf2a59de04b7",
        "colab": {
          "base_uri": "https://localhost:8080/"
        }
      },
      "outputs": [
        {
          "output_type": "stream",
          "name": "stdout",
          "text": [
            "True\n"
          ]
        }
      ],
      "source": [
        "par = (6%2) ==0\n",
        "print (par)"
      ]
    },
    {
      "cell_type": "code",
      "execution_count": 11,
      "id": "da130611",
      "metadata": {
        "id": "da130611",
        "outputId": "2f69b4de-737e-4b45-9688-0ab6423413cf",
        "colab": {
          "base_uri": "https://localhost:8080/"
        }
      },
      "outputs": [
        {
          "output_type": "execute_result",
          "data": {
            "text/plain": [
              "False"
            ]
          },
          "metadata": {},
          "execution_count": 11
        }
      ],
      "source": [
        "#igual\n",
        "3 == 2"
      ]
    },
    {
      "cell_type": "code",
      "execution_count": 9,
      "id": "6b195a66",
      "metadata": {
        "id": "6b195a66",
        "outputId": "df544560-fb49-4c5e-d705-ba888200a115",
        "colab": {
          "base_uri": "https://localhost:8080/"
        }
      },
      "outputs": [
        {
          "output_type": "execute_result",
          "data": {
            "text/plain": [
              "False"
            ]
          },
          "metadata": {},
          "execution_count": 9
        }
      ],
      "source": [
        "#menor igual\n",
        "3<=2"
      ]
    },
    {
      "cell_type": "code",
      "execution_count": 10,
      "id": "941af887",
      "metadata": {
        "id": "941af887",
        "outputId": "127dd377-b381-49bb-f57a-c2911e878388",
        "colab": {
          "base_uri": "https://localhost:8080/"
        }
      },
      "outputs": [
        {
          "output_type": "execute_result",
          "data": {
            "text/plain": [
              "True"
            ]
          },
          "metadata": {},
          "execution_count": 10
        }
      ],
      "source": [
        "#diferente\n",
        "3 != 2"
      ]
    },
    {
      "cell_type": "code",
      "execution_count": null,
      "id": "087160a3",
      "metadata": {
        "id": "087160a3"
      },
      "outputs": [],
      "source": []
    },
    {
      "cell_type": "markdown",
      "id": "c7e1072f",
      "metadata": {
        "id": "c7e1072f"
      },
      "source": [
        "**Bora praticar!**  \n",
        "Imagine que você está implementando um sistema para verificar se os alunos de uma turma estudantil passaram na disciplina ou não. Para isso solicite que o usuário insira as notas das 4 provas realizadas por um estudante e calcule a média. Após isso, emita uma resposta booleana (True ou False) se o estudante passou na disciplina pensando que a média mínima para aprovação é que seja pelo menos 5."
      ]
    },
    {
      "cell_type": "code",
      "execution_count": 19,
      "id": "970f58f3",
      "metadata": {
        "id": "970f58f3",
        "outputId": "b1a428f4-1dc8-4435-e25f-38d9416b8219",
        "colab": {
          "base_uri": "https://localhost:8080/"
        }
      },
      "outputs": [
        {
          "output_type": "stream",
          "name": "stdout",
          "text": [
            "Digite a primeira nota: 5\n",
            "Digite a segunda nota: 4\n",
            "Digite a terça nota: 2\n",
            "Digite a quarta nota: 6\n",
            "Voce tirou 4.25\n",
            "Se voce foi aprovado é True e se voce foi REPROVADO é False: False\n"
          ]
        }
      ],
      "source": [
        "nota1 = float(input(\"Digite a primeira nota: \"))\n",
        "nota2 = float(input(\"Digite a segunda nota: \"))\n",
        "nota3 = float(input(\"Digite a terça nota: \"))\n",
        "nota4 = float(input(\"Digite a quarta nota: \"))\n",
        "media = (nota1+nota2+nota3+nota4)/4\n",
        "print(f\"Voce tirou {media}\")\n",
        "aprovacao = (media >=7)\n",
        "print(f'Se voce foi aprovado é True e se voce foi REPROVADO é False: {aprovacao}')"
      ]
    },
    {
      "cell_type": "markdown",
      "id": "57b1c875",
      "metadata": {
        "id": "57b1c875"
      },
      "source": [
        "Crie um algoritmo que calcule o IMC (índice de massa corporal). O IMC é calculado com a formula PESO/(ALTURA ^ 2). Para isso, coloque as informações nas variáveis e ao final apresente o resultado como no exemplo: \"O IMC é 18\""
      ]
    },
    {
      "cell_type": "code",
      "execution_count": 23,
      "id": "5f01e70b",
      "metadata": {
        "id": "5f01e70b",
        "outputId": "7f7b1267-3129-462d-f8ee-061a6c632aa0",
        "colab": {
          "base_uri": "https://localhost:8080/"
        }
      },
      "outputs": [
        {
          "output_type": "stream",
          "name": "stdout",
          "text": [
            "Digite seu peso, com uso de . :99\n",
            "Digite sua altura, com o use de . :1.65\n",
            "Seu IMC é 36.36363636363637\n"
          ]
        }
      ],
      "source": [
        "peso = float(input('Digite seu peso, com uso de . :'))\n",
        "altura = float (input('Digite sua altura, com o use de . :'))\n",
        "imc = peso/altura**2\n",
        "print (f'Seu IMC é {imc}')"
      ]
    },
    {
      "cell_type": "markdown",
      "id": "7e0e1ca3",
      "metadata": {
        "id": "7e0e1ca3"
      },
      "source": [
        "Escreva um algoritmo que calcule (x + y) * (x + y). Os valores de x e y devem ser inseridos pelo usuário"
      ]
    },
    {
      "cell_type": "code",
      "execution_count": 17,
      "id": "8b5c7977",
      "metadata": {
        "id": "8b5c7977",
        "outputId": "377a09d8-b605-429b-b4b3-33f2a2213de3",
        "colab": {
          "base_uri": "https://localhost:8080/"
        }
      },
      "outputs": [
        {
          "output_type": "stream",
          "name": "stdout",
          "text": [
            "Digite um numero inteiro qualquer que sera x: 5\n",
            "Digite un numero inteiro qualquer que sera y: 8\n",
            "Vou calcular calcule (x + y) * (x + y)\n",
            "O resultado de (x + y) * (x + y) é 169\n"
          ]
        }
      ],
      "source": [
        "x = int(input('Digite um numero inteiro qualquer que sera x: '))\n",
        "y= int (input('Digite un numero inteiro qualquer que sera y: '))\n",
        "print ('Vou calcular calcule (x + y) * (x + y)')\n",
        "calculo = (x + y) * (x + y)\n",
        "print (f'O resultado de (x + y) * (x + y) é {calculo}')"
      ]
    },
    {
      "cell_type": "code",
      "source": [],
      "metadata": {
        "id": "dWKjZdgd3_Rp"
      },
      "id": "dWKjZdgd3_Rp",
      "execution_count": null,
      "outputs": []
    },
    {
      "cell_type": "markdown",
      "metadata": {
        "id": "de4c4b0b"
      },
      "source": [
        "### 1. Faça um programa que peça dois números e imprima a soma deles.\n",
        "\n"
      ],
      "id": "de4c4b0b"
    },
    {
      "cell_type": "code",
      "execution_count": 35,
      "metadata": {
        "id": "f35dc21d",
        "outputId": "e7b4baf7-1430-4a84-9199-5e62d7681882",
        "colab": {
          "base_uri": "https://localhost:8080/"
        }
      },
      "outputs": [
        {
          "output_type": "stream",
          "name": "stdout",
          "text": [
            "Digite um numero:  200\n",
            "Digite un numero: 1\n",
            "A soma dos números são: 201.0\n"
          ]
        }
      ],
      "source": [
        "x = float(input('Digite um numero:  '))\n",
        "y= float (input('Digite un numero: '))\n",
        "calculo = (x + y)\n",
        "print (f'A soma dos números são: {calculo}')"
      ],
      "id": "f35dc21d"
    },
    {
      "cell_type": "markdown",
      "metadata": {
        "id": "938403c2"
      },
      "source": [
        "### 2. Faça um programa que transforme centimetros em metros\n"
      ],
      "id": "938403c2"
    },
    {
      "cell_type": "code",
      "execution_count": 34,
      "metadata": {
        "id": "18fdc35e",
        "outputId": "2cfa57f4-4fef-4091-95b9-64bed980fa93",
        "colab": {
          "base_uri": "https://localhost:8080/"
        }
      },
      "outputs": [
        {
          "output_type": "stream",
          "name": "stdout",
          "text": [
            "Digite o valor em cm usando . : 100\n",
            "O valor em metros é: 1.0\n"
          ]
        }
      ],
      "source": [
        "cm= float(input('Digite o valor em cm usando . : '))\n",
        "metro = cm /100\n",
        "print (f'O valor em metros é: {metro}')"
      ],
      "id": "18fdc35e"
    },
    {
      "cell_type": "markdown",
      "metadata": {
        "id": "e8659b60"
      },
      "source": [
        "### 3. Faça um programa que pergunte quanto você ganha por hora e o número de horas trabalhadas no mês e depois, calcule e mostre o total do seu salário no referido mês.\n",
        "\n"
      ],
      "id": "e8659b60"
    },
    {
      "cell_type": "code",
      "execution_count": 32,
      "metadata": {
        "id": "50c430de",
        "outputId": "1e67b708-d932-4fe1-d919-909b06d9c946",
        "colab": {
          "base_uri": "https://localhost:8080/"
        }
      },
      "outputs": [
        {
          "output_type": "stream",
          "name": "stdout",
          "text": [
            "quantas horas vc trabalhou no mês: 44\n",
            "Quanto você cobra seu trabalho por HORA: 20.00\n",
            "Você trabalhou 44.0 e cobra R$20.0, e o seu salario sera de R$880.0\n"
          ]
        }
      ],
      "source": [
        "horas = float(input('quantas horas vc trabalhou no mês: '))\n",
        "valor_horas = float(input('Quanto você cobra seu trabalho por HORA: '))\n",
        "salario = valor_horas * horas\n",
        "print (f'Você trabalhou {horas} e cobra R${valor_horas}, e o seu salario sera de R${salario}')"
      ],
      "id": "50c430de"
    },
    {
      "cell_type": "markdown",
      "metadata": {
        "id": "62a47676"
      },
      "source": [
        "### 4. Faça um programa que peça um valor monetário e aumente-o em 15%. Seu programa deve imprimir a mensagem “O novo valor é R$[valor]”.\n",
        "\n"
      ],
      "id": "62a47676"
    },
    {
      "cell_type": "code",
      "execution_count": 27,
      "metadata": {
        "id": "bbb8e115",
        "outputId": "d31a2d55-991a-4b17-89c1-2414908efaa8",
        "colab": {
          "base_uri": "https://localhost:8080/"
        }
      },
      "outputs": [
        {
          "output_type": "stream",
          "name": "stdout",
          "text": [
            "Quanto você quer investir?10\n",
            "o valor é 11.5\n"
          ]
        }
      ],
      "source": [
        "valor = float(input('Quanto você quer investir?'))\n",
        "investimento = valor + valor * 0.15\n",
        "print (f'o valor é {investimento}')"
      ],
      "id": "bbb8e115"
    },
    {
      "cell_type": "markdown",
      "metadata": {
        "id": "0b5fb521"
      },
      "source": [
        "### 5. Faça um programa que peça um valor monetário e diminua-o em 15%. Seu programa deve imprimir a mensagem “O novo valor é R$[valor]”.\n",
        "\n"
      ],
      "id": "0b5fb521"
    },
    {
      "cell_type": "code",
      "execution_count": 29,
      "metadata": {
        "id": "25c0fa14",
        "outputId": "4dc45392-78b4-413c-c168-9c13f73abed6",
        "colab": {
          "base_uri": "https://localhost:8080/"
        }
      },
      "outputs": [
        {
          "output_type": "stream",
          "name": "stdout",
          "text": [
            "Quanto você tem?10\n",
            "o valor é 8.5\n"
          ]
        }
      ],
      "source": [
        "valor = float(input('Quanto você tem?'))\n",
        "reverse = valor - valor * 0.15\n",
        "print (f'o valor é {reverse}')"
      ],
      "id": "25c0fa14"
    },
    {
      "cell_type": "code",
      "source": [],
      "metadata": {
        "id": "v7wrUOWv3_eq"
      },
      "id": "v7wrUOWv3_eq",
      "execution_count": null,
      "outputs": []
    }
  ],
  "metadata": {
    "kernelspec": {
      "display_name": "Python 3 (ipykernel)",
      "language": "python",
      "name": "python3"
    },
    "language_info": {
      "codemirror_mode": {
        "name": "ipython",
        "version": 3
      },
      "file_extension": ".py",
      "mimetype": "text/x-python",
      "name": "python",
      "nbconvert_exporter": "python",
      "pygments_lexer": "ipython3",
      "version": "3.9.6"
    },
    "colab": {
      "provenance": [],
      "include_colab_link": true
    }
  },
  "nbformat": 4,
  "nbformat_minor": 5
}