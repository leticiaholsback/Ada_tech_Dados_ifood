{
  "cells": [
    {
      "cell_type": "markdown",
      "metadata": {
        "id": "view-in-github",
        "colab_type": "text"
      },
      "source": [
        "<a href=\"https://colab.research.google.com/github/leticiaholsback/Ada_tech_Dados_ifood/blob/main/Aula_4_Coding_Tank_Vem_Ser_Tech_Alunos.ipynb\" target=\"_parent\"><img src=\"https://colab.research.google.com/assets/colab-badge.svg\" alt=\"Open In Colab\"/></a>"
      ]
    },
    {
      "cell_type": "markdown",
      "id": "4cbb7750",
      "metadata": {
        "id": "4cbb7750"
      },
      "source": [
        "## Exercício da aula passada"
      ]
    },
    {
      "cell_type": "code",
      "execution_count": null,
      "id": "e205a4d7",
      "metadata": {
        "id": "e205a4d7"
      },
      "outputs": [],
      "source": []
    },
    {
      "cell_type": "markdown",
      "id": "341a085c",
      "metadata": {
        "id": "341a085c"
      },
      "source": [
        "<div style=\"background-color: lightgreen; padding: 18px;\">\n",
        "    <h1> Coding Tank | Vem Ser Tech\n",
        "</div>"
      ]
    },
    {
      "cell_type": "markdown",
      "id": "f0230d44",
      "metadata": {
        "id": "f0230d44"
      },
      "source": [
        "<div style=\"background-color: lightblue; padding: 10px;\">\n",
        "    <h2> Tópicos da aula - AULA 4\n",
        "</div>\n",
        "\n",
        "- Loop for\n",
        "- Listas\n",
        "- Índices\n",
        "- Iterações de listas\n",
        "- Métodos de listas"
      ]
    },
    {
      "cell_type": "markdown",
      "id": "ddaaaec8",
      "metadata": {
        "id": "ddaaaec8"
      },
      "source": []
    },
    {
      "cell_type": "code",
      "execution_count": 6,
      "id": "e626193f",
      "metadata": {
        "ExecuteTime": {
          "end_time": "2023-06-29T00:53:10.121923Z",
          "start_time": "2023-06-29T00:53:10.111155Z"
        },
        "colab": {
          "base_uri": "https://localhost:8080/"
        },
        "id": "e626193f",
        "outputId": "cd15a8a5-45c4-48dd-deb1-f133d6f377f1"
      },
      "outputs": [
        {
          "output_type": "stream",
          "name": "stdout",
          "text": [
            "[1, 2, 3, 4, 5, 6, 7, 8]\n"
          ]
        }
      ],
      "source": [
        "lista=[1,2,3,4,5,6,7,8]\n",
        "print(lista [0::1])"
      ]
    },
    {
      "cell_type": "code",
      "execution_count": null,
      "id": "8a7398da",
      "metadata": {
        "ExecuteTime": {
          "end_time": "2023-06-29T00:56:41.565104Z",
          "start_time": "2023-06-29T00:56:41.555151Z"
        },
        "id": "8a7398da"
      },
      "outputs": [],
      "source": []
    },
    {
      "cell_type": "code",
      "execution_count": null,
      "id": "4541e94a",
      "metadata": {
        "ExecuteTime": {
          "end_time": "2023-06-29T00:56:58.487031Z",
          "start_time": "2023-06-29T00:56:58.477176Z"
        },
        "id": "4541e94a"
      },
      "outputs": [],
      "source": []
    },
    {
      "cell_type": "code",
      "execution_count": null,
      "id": "8a57fec8",
      "metadata": {
        "ExecuteTime": {
          "end_time": "2023-06-29T00:57:40.345041Z",
          "start_time": "2023-06-29T00:57:40.339545Z"
        },
        "id": "8a57fec8"
      },
      "outputs": [],
      "source": []
    },
    {
      "cell_type": "code",
      "execution_count": null,
      "id": "03ac344a",
      "metadata": {
        "ExecuteTime": {
          "end_time": "2023-06-29T22:26:30.681040Z",
          "start_time": "2023-06-29T22:26:30.671086Z"
        },
        "id": "03ac344a"
      },
      "outputs": [],
      "source": []
    },
    {
      "cell_type": "code",
      "execution_count": null,
      "id": "f9777dd0",
      "metadata": {
        "ExecuteTime": {
          "end_time": "2023-06-29T22:26:58.328878Z",
          "start_time": "2023-06-29T22:26:58.315522Z"
        },
        "id": "f9777dd0"
      },
      "outputs": [],
      "source": []
    },
    {
      "cell_type": "code",
      "execution_count": null,
      "id": "fb4cc5b7",
      "metadata": {
        "ExecuteTime": {
          "end_time": "2023-06-29T22:27:19.356689Z",
          "start_time": "2023-06-29T22:27:19.312779Z"
        },
        "id": "fb4cc5b7"
      },
      "outputs": [],
      "source": []
    },
    {
      "cell_type": "code",
      "execution_count": null,
      "id": "0339c0fc",
      "metadata": {
        "ExecuteTime": {
          "end_time": "2023-06-29T22:28:00.578066Z",
          "start_time": "2023-06-29T22:28:00.567809Z"
        },
        "id": "0339c0fc"
      },
      "outputs": [],
      "source": []
    },
    {
      "cell_type": "code",
      "execution_count": null,
      "id": "6f038b2b",
      "metadata": {
        "ExecuteTime": {
          "end_time": "2023-06-29T22:28:06.511060Z",
          "start_time": "2023-06-29T22:28:06.501774Z"
        },
        "id": "6f038b2b"
      },
      "outputs": [],
      "source": []
    },
    {
      "cell_type": "code",
      "execution_count": null,
      "id": "1c1228df",
      "metadata": {
        "ExecuteTime": {
          "end_time": "2023-06-29T22:28:53.370752Z",
          "start_time": "2023-06-29T22:28:53.345190Z"
        },
        "id": "1c1228df"
      },
      "outputs": [],
      "source": []
    },
    {
      "cell_type": "code",
      "execution_count": null,
      "id": "20e426c5",
      "metadata": {
        "ExecuteTime": {
          "end_time": "2023-06-29T22:29:03.492265Z",
          "start_time": "2023-06-29T22:29:03.475031Z"
        },
        "id": "20e426c5"
      },
      "outputs": [],
      "source": []
    },
    {
      "cell_type": "code",
      "execution_count": null,
      "id": "459eedd9",
      "metadata": {
        "ExecuteTime": {
          "end_time": "2023-06-29T22:29:09.389792Z",
          "start_time": "2023-06-29T22:29:09.372341Z"
        },
        "id": "459eedd9"
      },
      "outputs": [],
      "source": []
    },
    {
      "cell_type": "code",
      "execution_count": null,
      "id": "f2fc4556",
      "metadata": {
        "ExecuteTime": {
          "end_time": "2023-06-29T22:29:58.239341Z",
          "start_time": "2023-06-29T22:29:58.227247Z"
        },
        "id": "f2fc4556"
      },
      "outputs": [],
      "source": []
    },
    {
      "cell_type": "code",
      "execution_count": null,
      "id": "329ac2df",
      "metadata": {
        "ExecuteTime": {
          "end_time": "2023-06-29T22:50:42.362629Z",
          "start_time": "2023-06-29T22:50:42.336530Z"
        },
        "id": "329ac2df"
      },
      "outputs": [],
      "source": []
    },
    {
      "cell_type": "code",
      "execution_count": null,
      "id": "afc26e8e",
      "metadata": {
        "ExecuteTime": {
          "end_time": "2023-06-29T22:53:07.476480Z",
          "start_time": "2023-06-29T22:53:07.455763Z"
        },
        "id": "afc26e8e"
      },
      "outputs": [],
      "source": []
    },
    {
      "cell_type": "code",
      "execution_count": null,
      "id": "7c369dcf",
      "metadata": {
        "ExecuteTime": {
          "end_time": "2023-06-29T22:54:39.387621Z",
          "start_time": "2023-06-29T22:54:39.366577Z"
        },
        "id": "7c369dcf"
      },
      "outputs": [],
      "source": []
    },
    {
      "cell_type": "code",
      "execution_count": null,
      "id": "56be891f",
      "metadata": {
        "ExecuteTime": {
          "end_time": "2023-06-29T23:38:11.739834Z",
          "start_time": "2023-06-29T23:38:11.715051Z"
        },
        "id": "56be891f"
      },
      "outputs": [],
      "source": []
    },
    {
      "cell_type": "markdown",
      "id": "f4bac6d5",
      "metadata": {
        "ExecuteTime": {
          "end_time": "2023-06-29T22:52:13.757377Z",
          "start_time": "2023-06-29T22:52:13.737024Z"
        },
        "id": "f4bac6d5"
      },
      "source": [
        "Existem várias outras funções/métodos de listas que vocês irão aprender no próximo módulo, como:\n",
        "\n",
        "- append\n",
        "- insert\n",
        "- remove\n",
        "- pop\n",
        "- sort\n",
        "- sorted\n",
        "- reverse\n",
        "- index\n",
        "- max, min, len\n",
        "    "
      ]
    },
    {
      "cell_type": "code",
      "execution_count": null,
      "id": "eb90e370",
      "metadata": {
        "ExecuteTime": {
          "end_time": "2023-06-29T22:56:30.796648Z",
          "start_time": "2023-06-29T22:56:30.777686Z"
        },
        "id": "eb90e370"
      },
      "outputs": [],
      "source": []
    },
    {
      "cell_type": "code",
      "execution_count": null,
      "id": "cd79e129",
      "metadata": {
        "ExecuteTime": {
          "end_time": "2023-06-29T22:56:52.653894Z",
          "start_time": "2023-06-29T22:56:52.636248Z"
        },
        "id": "cd79e129"
      },
      "outputs": [],
      "source": []
    },
    {
      "cell_type": "code",
      "execution_count": null,
      "id": "7d06c247",
      "metadata": {
        "ExecuteTime": {
          "end_time": "2023-06-29T22:56:59.905041Z",
          "start_time": "2023-06-29T22:56:59.879562Z"
        },
        "id": "7d06c247"
      },
      "outputs": [],
      "source": []
    },
    {
      "cell_type": "code",
      "execution_count": null,
      "id": "2e1a56b6",
      "metadata": {
        "ExecuteTime": {
          "end_time": "2023-06-29T23:09:55.227172Z",
          "start_time": "2023-06-29T23:09:49.854071Z"
        },
        "id": "2e1a56b6"
      },
      "outputs": [],
      "source": []
    },
    {
      "cell_type": "markdown",
      "id": "d9df7da1",
      "metadata": {
        "id": "d9df7da1"
      },
      "source": [
        "**Percorrer a lista**"
      ]
    },
    {
      "cell_type": "code",
      "execution_count": null,
      "id": "d53d4480",
      "metadata": {
        "ExecuteTime": {
          "end_time": "2023-06-29T23:22:53.411814Z",
          "start_time": "2023-06-29T23:22:53.402698Z"
        },
        "id": "d53d4480"
      },
      "outputs": [],
      "source": []
    },
    {
      "cell_type": "code",
      "execution_count": null,
      "id": "bf65f123",
      "metadata": {
        "ExecuteTime": {
          "end_time": "2023-06-29T23:23:25.535201Z",
          "start_time": "2023-06-29T23:23:25.519513Z"
        },
        "id": "bf65f123"
      },
      "outputs": [],
      "source": []
    },
    {
      "cell_type": "code",
      "execution_count": null,
      "id": "a4ea6ea3",
      "metadata": {
        "ExecuteTime": {
          "end_time": "2023-06-29T23:27:35.335331Z",
          "start_time": "2023-06-29T23:27:35.312749Z"
        },
        "id": "a4ea6ea3"
      },
      "outputs": [],
      "source": []
    },
    {
      "cell_type": "code",
      "execution_count": null,
      "id": "c65aa2e3",
      "metadata": {
        "ExecuteTime": {
          "end_time": "2023-06-29T23:33:04.852539Z",
          "start_time": "2023-06-29T23:33:02.725599Z"
        },
        "id": "c65aa2e3"
      },
      "outputs": [],
      "source": []
    },
    {
      "cell_type": "code",
      "execution_count": null,
      "id": "f7d29b9c",
      "metadata": {
        "ExecuteTime": {
          "end_time": "2023-06-29T23:42:43.573109Z",
          "start_time": "2023-06-29T23:42:43.562622Z"
        },
        "id": "f7d29b9c"
      },
      "outputs": [],
      "source": []
    },
    {
      "cell_type": "code",
      "execution_count": null,
      "id": "1b5dfd34",
      "metadata": {
        "ExecuteTime": {
          "end_time": "2023-06-29T23:43:22.469671Z",
          "start_time": "2023-06-29T23:43:22.454646Z"
        },
        "id": "1b5dfd34"
      },
      "outputs": [],
      "source": []
    },
    {
      "cell_type": "code",
      "execution_count": null,
      "id": "bb5da1d9",
      "metadata": {
        "ExecuteTime": {
          "end_time": "2023-06-29T23:46:18.391787Z",
          "start_time": "2023-06-29T23:46:16.515786Z"
        },
        "id": "bb5da1d9"
      },
      "outputs": [],
      "source": []
    },
    {
      "cell_type": "markdown",
      "id": "9d63c551",
      "metadata": {
        "id": "9d63c551"
      },
      "source": [
        "**Maneiras de percorrer uma lista**\n",
        "\n",
        "numeros = [1, 3, 5, 7, 9]\n",
        "\n",
        "- Usando while\n",
        "\n",
        "Pros: Eu sei não só o elemento mas sei o indice também   \n",
        "Contra: Eu preciso controlar o índice\n",
        "\n",
        "```python\n",
        "contador = 0\n",
        "while (contador < len(numeros)):\n",
        "    print(numeros[contador])\n",
        "    contador = contador + 1  Se eu esquecer essa linha vira um loop infinito\n",
        "```\n",
        "\n",
        "\n",
        "- Jeito intermediario: for in range\n",
        "\n",
        "Pros: Sei o indice, não preciso controlar o loop  \n",
        "Contra: Precisa saber usar a função range  \n",
        "range(5) ->  [0, 1, 2, 3, 4]\n",
        "\n",
        "```python\n",
        "numeros = [1, 3, 5, 7, 9]\n",
        "for indice in range(len(numeros)):\n",
        "    print(numeros[indice])\n",
        "```\n",
        "\n",
        "\n",
        "- Usando só for (sem índice)\n",
        "\n",
        "Pros: não preciso me preocupar com o índice e nem com loop  \n",
        "Contra: não sei índice\n",
        "\n",
        "```python\n",
        "numeros = [1, 3, 5, 7, 9]\n",
        "for numero in numeros:        numero é uma especie de variavel temporaria, usamos item, elemento, etc\n",
        "    print(numero)\n",
        "```"
      ]
    },
    {
      "cell_type": "markdown",
      "id": "d9b25c6c",
      "metadata": {
        "id": "d9b25c6c"
      },
      "source": [
        "Vamos ver um exemplo:"
      ]
    },
    {
      "cell_type": "code",
      "execution_count": null,
      "id": "575436e8",
      "metadata": {
        "ExecuteTime": {
          "end_time": "2023-06-29T23:57:04.136886Z",
          "start_time": "2023-06-29T23:57:04.125680Z"
        },
        "id": "575436e8"
      },
      "outputs": [],
      "source": []
    },
    {
      "cell_type": "code",
      "execution_count": null,
      "id": "8026d21c",
      "metadata": {
        "ExecuteTime": {
          "end_time": "2023-06-29T23:58:36.091895Z",
          "start_time": "2023-06-29T23:58:36.078306Z"
        },
        "id": "8026d21c"
      },
      "outputs": [],
      "source": []
    },
    {
      "cell_type": "markdown",
      "id": "efb6b72d",
      "metadata": {
        "id": "efb6b72d"
      },
      "source": [
        "**Exercícios**"
      ]
    },
    {
      "cell_type": "markdown",
      "id": "80de8ffc",
      "metadata": {
        "id": "80de8ffc"
      },
      "source": [
        "1. Crie uma lista qualquer e faça um programa que imprima cada elemento da lista usando o for."
      ]
    },
    {
      "cell_type": "code",
      "execution_count": 9,
      "id": "4afe9330",
      "metadata": {
        "ExecuteTime": {
          "end_time": "2023-06-30T00:28:06.089625Z",
          "start_time": "2023-06-30T00:28:06.070133Z"
        },
        "colab": {
          "base_uri": "https://localhost:8080/"
        },
        "id": "4afe9330",
        "outputId": "be15c0a0-10aa-4f0d-aeeb-92f1b4203bc9"
      },
      "outputs": [
        {
          "output_type": "stream",
          "name": "stdout",
          "text": [
            "a\n",
            "9\n",
            "9\n",
            "2\n",
            "8\n",
            "1\n",
            "7\n",
            "2\n",
            "1\n",
            "0\n"
          ]
        }
      ],
      "source": [
        "lista_a= ['a',9,9,2,8,1,7,2,1,0]\n",
        "for lista in lista_a:\n",
        "  print(lista)"
      ]
    },
    {
      "cell_type": "code",
      "execution_count": null,
      "id": "db91686b",
      "metadata": {
        "ExecuteTime": {
          "end_time": "2023-06-30T00:29:01.575343Z",
          "start_time": "2023-06-30T00:29:01.569330Z"
        },
        "id": "db91686b"
      },
      "outputs": [],
      "source": []
    },
    {
      "cell_type": "markdown",
      "id": "5ba15420",
      "metadata": {
        "id": "5ba15420"
      },
      "source": [
        "2. Faça um programa que imprima todos os itens de uma lista usando while e compare com o exercício 1.\n",
        "\n"
      ]
    },
    {
      "cell_type": "code",
      "execution_count": 10,
      "id": "7e410b03",
      "metadata": {
        "ExecuteTime": {
          "end_time": "2023-06-30T00:32:38.591587Z",
          "start_time": "2023-06-30T00:32:38.581504Z"
        },
        "colab": {
          "base_uri": "https://localhost:8080/"
        },
        "id": "7e410b03",
        "outputId": "ddc8d851-a719-47e6-c04a-4ceb59be961e"
      },
      "outputs": [
        {
          "output_type": "stream",
          "name": "stdout",
          "text": [
            "a\n",
            "9\n",
            "9\n",
            "2\n",
            "8\n",
            "1\n",
            "7\n",
            "2\n",
            "1\n",
            "0\n"
          ]
        }
      ],
      "source": [
        "contador = 0\n",
        "while (contador < len(lista_a)):\n",
        "    print(lista_a[contador])\n",
        "    contador = contador + 1"
      ]
    },
    {
      "cell_type": "markdown",
      "id": "b8fc8680",
      "metadata": {
        "id": "b8fc8680"
      },
      "source": [
        "3) Faça um programa que peça para o usuário digitar um número n e imprima uma lista com todos os números de 0 a n-1."
      ]
    },
    {
      "cell_type": "code",
      "execution_count": null,
      "id": "e4c19751",
      "metadata": {
        "ExecuteTime": {
          "end_time": "2023-06-30T00:36:12.335746Z",
          "start_time": "2023-06-30T00:36:10.254113Z"
        },
        "id": "e4c19751"
      },
      "outputs": [],
      "source": [
        "n = int (input ('n= '))\n",
        "lista = list (range(n))\n",
        "print (lista)"
      ]
    },
    {
      "cell_type": "code",
      "execution_count": 19,
      "id": "68004d4f",
      "metadata": {
        "ExecuteTime": {
          "end_time": "2023-06-30T00:37:33.286644Z",
          "start_time": "2023-06-30T00:37:31.718426Z"
        },
        "colab": {
          "base_uri": "https://localhost:8080/"
        },
        "id": "68004d4f",
        "outputId": "953b8b1b-9ac4-458e-8e3f-55592beaab24"
      },
      "outputs": [
        {
          "output_type": "stream",
          "name": "stdout",
          "text": [
            "n= 8\n",
            "[0, 1, 2, 3, 4, 5, 6, 7]\n"
          ]
        }
      ],
      "source": [
        "lista=[]\n",
        "\n",
        "n = int (input ('n= '))\n",
        "for numero in range (0,n):\n",
        " lista.append (numero)\n",
        "\n",
        "print (lista)"
      ]
    },
    {
      "cell_type": "code",
      "execution_count": null,
      "id": "56ddb966",
      "metadata": {
        "ExecuteTime": {
          "end_time": "2023-06-30T00:37:54.324393Z",
          "start_time": "2023-06-30T00:37:52.698680Z"
        },
        "id": "56ddb966"
      },
      "outputs": [],
      "source": []
    },
    {
      "cell_type": "markdown",
      "id": "2a24e132",
      "metadata": {
        "id": "2a24e132"
      },
      "source": [
        "4. Faça um programa que olhe todos os itens de uma lista e diga quantos deles são pares."
      ]
    },
    {
      "cell_type": "code",
      "execution_count": 26,
      "id": "167af989",
      "metadata": {
        "ExecuteTime": {
          "end_time": "2023-06-30T00:40:26.677401Z",
          "start_time": "2023-06-30T00:40:26.667897Z"
        },
        "colab": {
          "base_uri": "https://localhost:8080/"
        },
        "id": "167af989",
        "outputId": "207a09fe-e85f-4d40-c3d4-be5e40571060"
      },
      "outputs": [
        {
          "output_type": "stream",
          "name": "stdout",
          "text": [
            "4\n"
          ]
        }
      ],
      "source": [
        "numeros = [1,2,3,4,5,6,7,8,9]\n",
        "pares = 0\n",
        "for num in numeros:\n",
        "  if num %2 ==0:\n",
        "    pares +=1\n",
        "#print (f'sao{len(pares)}')\n",
        "print (pares)"
      ]
    },
    {
      "cell_type": "code",
      "execution_count": null,
      "id": "b7c5e7eb",
      "metadata": {
        "ExecuteTime": {
          "end_time": "2023-06-30T00:42:50.875811Z",
          "start_time": "2023-06-30T00:42:50.847667Z"
        },
        "id": "b7c5e7eb"
      },
      "outputs": [],
      "source": []
    },
    {
      "cell_type": "markdown",
      "id": "d18b5e09",
      "metadata": {
        "id": "d18b5e09"
      },
      "source": [
        "5. Faça um programa que imprima o maior número de uma lista, sem usar o método max()"
      ]
    },
    {
      "cell_type": "code",
      "execution_count": null,
      "id": "9fca7730",
      "metadata": {
        "ExecuteTime": {
          "end_time": "2023-06-30T00:43:38.103964Z",
          "start_time": "2023-06-30T00:43:38.087649Z"
        },
        "id": "9fca7730"
      },
      "outputs": [],
      "source": [
        "lista [5,9]\n",
        "maior = lista [0]\n",
        "\n",
        "for elementi in lista:"
      ]
    },
    {
      "cell_type": "code",
      "execution_count": null,
      "id": "397a3869",
      "metadata": {
        "ExecuteTime": {
          "end_time": "2023-06-30T00:44:52.164241Z",
          "start_time": "2023-06-30T00:44:52.141961Z"
        },
        "id": "397a3869"
      },
      "outputs": [],
      "source": []
    },
    {
      "cell_type": "code",
      "execution_count": null,
      "id": "b2de34f2",
      "metadata": {
        "ExecuteTime": {
          "end_time": "2023-06-30T00:47:07.551587Z",
          "start_time": "2023-06-30T00:47:07.534567Z"
        },
        "id": "b2de34f2"
      },
      "outputs": [],
      "source": []
    },
    {
      "cell_type": "markdown",
      "id": "de77429c",
      "metadata": {
        "id": "de77429c"
      },
      "source": [
        "6. Agora usando o método max() faça um programa que imprima os três maiores números de uma lista."
      ]
    },
    {
      "cell_type": "code",
      "execution_count": 29,
      "id": "b7811538",
      "metadata": {
        "ExecuteTime": {
          "end_time": "2023-06-30T00:49:02.203695Z",
          "start_time": "2023-06-30T00:49:02.189583Z"
        },
        "colab": {
          "base_uri": "https://localhost:8080/"
        },
        "id": "b7811538",
        "outputId": "184e6f86-bcbb-4d78-909a-1fda3746ccee"
      },
      "outputs": [
        {
          "output_type": "stream",
          "name": "stdout",
          "text": [
            "859\n",
            "99\n",
            "12\n"
          ]
        }
      ],
      "source": [
        "lista = [1,9,12,99,859]\n",
        "lista.sort()\n",
        "for i in range (3):\n",
        "  print(max(lista))\n",
        "  lista=lista[0:len(lista)-1]"
      ]
    },
    {
      "cell_type": "code",
      "source": [
        "lista = [1,9,12,99,859]\n",
        "\n",
        "for i in range (3):\n",
        "  print(max(lista))\n",
        "  lista.remove (max(lista))\n",
        "\n",
        "#lista.remove() #remove o valor, sempre a primeira ocorrencia"
      ],
      "metadata": {
        "colab": {
          "base_uri": "https://localhost:8080/"
        },
        "id": "AyOS3MTr8wHx",
        "outputId": "1e59e00b-9b28-4f52-ac04-ce6824fe40e6"
      },
      "id": "AyOS3MTr8wHx",
      "execution_count": 31,
      "outputs": [
        {
          "output_type": "stream",
          "name": "stdout",
          "text": [
            "859\n",
            "99\n",
            "12\n"
          ]
        }
      ]
    },
    {
      "cell_type": "markdown",
      "id": "805a40b8",
      "metadata": {
        "id": "805a40b8"
      },
      "source": [
        "7. Faça um programa que, dadas duas listas de mesmo tamanho, crie uma nova lista com cada elemento igual a soma dos elementos da lista 1 com os da lista 2, na mesma posição."
      ]
    },
    {
      "cell_type": "code",
      "execution_count": 11,
      "id": "6819a3bd",
      "metadata": {
        "ExecuteTime": {
          "end_time": "2023-06-30T01:01:48.670088Z",
          "start_time": "2023-06-30T01:01:48.649865Z"
        },
        "colab": {
          "base_uri": "https://localhost:8080/"
        },
        "id": "6819a3bd",
        "outputId": "eece9d15-0b6d-4f56-bdf7-eecb77e79f20"
      },
      "outputs": [
        {
          "output_type": "stream",
          "name": "stdout",
          "text": [
            "[7, 9, 11, 13, 15]\n"
          ]
        }
      ],
      "source": [
        "# Suponha que estas são as duas listas de mesmo tamanho\n",
        "lista1 = [1, 2, 3, 4, 5]\n",
        "lista2 = [6, 7, 8, 9, 10]\n",
        "\n",
        "# Inicialize uma lista vazia para armazenar a soma dos elementos\n",
        "soma_lista = []\n",
        "\n",
        "# Use um loop for para somar os elementos das duas listas na mesma posição\n",
        "for i in range(len(lista1)):\n",
        "    soma = lista1[i] + lista2[i]\n",
        "    soma_lista.append(soma)\n",
        "\n",
        "# A lista 'soma_lista' agora contém as somas dos elementos das duas listas\n",
        "print(soma_lista)\n"
      ]
    },
    {
      "cell_type": "code",
      "source": [
        "lista1 = [1, 2, 3, 4, 5]\n",
        "lista2 = [6, 7, 8, 9, 10]\n",
        "lista3= []\n",
        "\n",
        "if len(lista1) != len(lista2):\n",
        "  print('tamanho diferente')\n",
        "else:\n",
        "  for indice in range (len(lista1)):\n",
        "    resultado = lista1[indice] + lista2[indice]\n",
        "    lista3.papend(resultado)\n",
        "  print(lista3)\n"
      ],
      "metadata": {
        "id": "xObDw6cv9Ys9"
      },
      "id": "xObDw6cv9Ys9",
      "execution_count": null,
      "outputs": []
    },
    {
      "cell_type": "markdown",
      "id": "d2ee0a79",
      "metadata": {
        "id": "d2ee0a79"
      },
      "source": [
        "\\8. Faça um programa que dadas duas listas de mesmo tamanho, imprima o produto escalar entre elas."
      ]
    },
    {
      "cell_type": "code",
      "execution_count": 35,
      "id": "ccfcd767",
      "metadata": {
        "ExecuteTime": {
          "end_time": "2023-06-30T00:55:17.103825Z",
          "start_time": "2023-06-30T00:55:17.078094Z"
        },
        "colab": {
          "base_uri": "https://localhost:8080/"
        },
        "id": "ccfcd767",
        "outputId": "27deef2a-ce23-492c-fd1e-af2bae47eba7"
      },
      "outputs": [
        {
          "output_type": "stream",
          "name": "stdout",
          "text": [
            "26\n"
          ]
        }
      ],
      "source": [
        "a=[1,2]\n",
        "b=[8,9]\n",
        "soma =0\n",
        "for i in range(len(a)):\n",
        "  soma = soma+ a[i] * b[i]\n",
        "print(soma)"
      ]
    },
    {
      "cell_type": "code",
      "source": [
        "lista1 = [1, 2]\n",
        "lista2 = [6, 7]\n",
        "lista3 = []\n",
        "\n",
        "produto_escalar = 0\n",
        "\n",
        "for i in range(len(lista1)):\n",
        "    produto_escalar += lista1[i] * lista2[i]\n",
        "    lista3. append(produto_escalar)\n",
        "print(\"Produto escalar:\", produto_escalar)"
      ],
      "metadata": {
        "id": "bsSL2qc2-ojd"
      },
      "id": "bsSL2qc2-ojd",
      "execution_count": null,
      "outputs": []
    },
    {
      "cell_type": "markdown",
      "id": "551c234e",
      "metadata": {
        "id": "551c234e"
      },
      "source": [
        "9. Faça um programa que pede para o usuário digitar 5 números e, ao final, imprime uma lista com os 5 números digitados pelo usuário (sem converter os números para int ou float)."
      ]
    },
    {
      "cell_type": "code",
      "execution_count": 32,
      "id": "1083f943",
      "metadata": {
        "ExecuteTime": {
          "end_time": "2023-06-30T00:58:14.308593Z",
          "start_time": "2023-06-30T00:58:02.724853Z"
        },
        "colab": {
          "base_uri": "https://localhost:8080/"
        },
        "id": "1083f943",
        "outputId": "e7b5c4c7-217e-45da-de8f-b5eecec382dc"
      },
      "outputs": [
        {
          "output_type": "stream",
          "name": "stdout",
          "text": [
            "Produto escalar: 20\n"
          ]
        }
      ],
      "source": [
        "\n"
      ]
    },
    {
      "cell_type": "markdown",
      "id": "437b4b02",
      "metadata": {
        "id": "437b4b02"
      },
      "source": [
        "10. Pegue a lista gerada no exercício anterior e transforme cada um dos itens dessa lista em um float."
      ]
    },
    {
      "cell_type": "code",
      "execution_count": 36,
      "id": "ac33840d",
      "metadata": {
        "ExecuteTime": {
          "end_time": "2023-06-30T00:57:02.197028Z",
          "start_time": "2023-06-30T00:57:02.178601Z"
        },
        "colab": {
          "base_uri": "https://localhost:8080/"
        },
        "id": "ac33840d",
        "outputId": "d6c8401a-1bb5-4163-ea0a-4df8daf552ed"
      },
      "outputs": [
        {
          "output_type": "stream",
          "name": "stdout",
          "text": [
            "1\n",
            "2\n",
            "[1, 2]\n"
          ]
        }
      ],
      "source": [
        "for i in range(len(a)):\n",
        "  lista[i] = float(a[i])\n",
        "  print (a[i])\n",
        "print (a)"
      ]
    },
    {
      "cell_type": "code",
      "execution_count": null,
      "id": "8c31450c",
      "metadata": {
        "ExecuteTime": {
          "end_time": "2023-06-30T00:59:44.028566Z",
          "start_time": "2023-06-30T00:59:44.008261Z"
        },
        "id": "8c31450c"
      },
      "outputs": [],
      "source": []
    },
    {
      "cell_type": "markdown",
      "id": "1f274ced",
      "metadata": {
        "id": "1f274ced"
      },
      "source": [
        "11. Faça um Programa que peça as 4 notas bimestrais e mostre a média, usando listas."
      ]
    },
    {
      "cell_type": "code",
      "execution_count": 39,
      "id": "7211dfca",
      "metadata": {
        "ExecuteTime": {
          "end_time": "2023-06-30T01:00:21.646709Z",
          "start_time": "2023-06-30T01:00:14.613647Z"
        },
        "colab": {
          "base_uri": "https://localhost:8080/"
        },
        "id": "7211dfca",
        "outputId": "31d02ea8-6bc7-458c-95b4-549eeb684053"
      },
      "outputs": [
        {
          "output_type": "stream",
          "name": "stdout",
          "text": [
            "Digite a nota: 10\n",
            "10.0\n",
            "Digite a nota: 8\n",
            "9.0\n",
            "Digite a nota: 6\n",
            "8.0\n",
            "Digite a nota: 5\n",
            "7.25\n"
          ]
        }
      ],
      "source": [
        "lista = []\n",
        "for i in range (4):\n",
        "  nota = float (input('Digite a nota: '))\n",
        "  lista.append(nota)\n",
        "  print(sum(lista) / len(lista))"
      ]
    },
    {
      "cell_type": "code",
      "execution_count": null,
      "id": "0beeca4f",
      "metadata": {
        "id": "0beeca4f"
      },
      "outputs": [],
      "source": []
    }
  ],
  "metadata": {
    "kernelspec": {
      "display_name": "Python 3 (ipykernel)",
      "language": "python",
      "name": "python3"
    },
    "language_info": {
      "codemirror_mode": {
        "name": "ipython",
        "version": 3
      },
      "file_extension": ".py",
      "mimetype": "text/x-python",
      "name": "python",
      "nbconvert_exporter": "python",
      "pygments_lexer": "ipython3",
      "version": "3.9.6"
    },
    "varInspector": {
      "cols": {
        "lenName": 16,
        "lenType": 16,
        "lenVar": 40
      },
      "kernels_config": {
        "python": {
          "delete_cmd_postfix": "",
          "delete_cmd_prefix": "del ",
          "library": "var_list.py",
          "varRefreshCmd": "print(var_dic_list())"
        },
        "r": {
          "delete_cmd_postfix": ") ",
          "delete_cmd_prefix": "rm(",
          "library": "var_list.r",
          "varRefreshCmd": "cat(var_dic_list()) "
        }
      },
      "types_to_exclude": [
        "module",
        "function",
        "builtin_function_or_method",
        "instance",
        "_Feature"
      ],
      "window_display": false
    },
    "colab": {
      "provenance": [],
      "include_colab_link": true
    }
  },
  "nbformat": 4,
  "nbformat_minor": 5
}