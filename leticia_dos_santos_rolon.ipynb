{
  "nbformat": 4,
  "nbformat_minor": 0,
  "metadata": {
    "colab": {
      "provenance": [],
      "authorship_tag": "ABX9TyPDGy+w3bq09fUMlCbVN71K",
      "include_colab_link": true
    },
    "kernelspec": {
      "name": "python3",
      "display_name": "Python 3"
    },
    "language_info": {
      "name": "python"
    }
  },
  "cells": [
    {
      "cell_type": "markdown",
      "metadata": {
        "id": "view-in-github",
        "colab_type": "text"
      },
      "source": [
        "<a href=\"https://colab.research.google.com/github/leticiaholsback/Ada_tech_Dados_ifood/blob/main/leticia_dos_santos_rolon.ipynb\" target=\"_parent\"><img src=\"https://colab.research.google.com/assets/colab-badge.svg\" alt=\"Open In Colab\"/></a>"
      ]
    },
    {
      "cell_type": "markdown",
      "source": [
        "#Leticia dos Santos Rolon | Id: 1071017\n",
        "\n",
        "EXERCICIOS COM ENUNCIADO E RESOLUÇÃO"
      ],
      "metadata": {
        "id": "xkMBOx4LA-Z_"
      }
    },
    {
      "cell_type": "markdown",
      "source": [
        "1) Considere o seguinte trecho de código, parte de um sistema de entrega de alimentos por aplicativo:\n",
        "\n",
        "i = input('Digite o número da casa: ')\n",
        "Caso o usuário digite na caixa de texto de entrada o valor 142, qual será o tipo de dado da variável i?\n",
        "\n",
        "a) int\n",
        "\n",
        "b) str\n",
        "\n",
        "c) float\n",
        "\n",
        "d) bool\n",
        "\n",
        "e) list"
      ],
      "metadata": {
        "id": "5R_DqoIqsyxJ"
      }
    },
    {
      "cell_type": "code",
      "source": [
        "i = input('Digite o número da casa: ')\n",
        "type(i)\n",
        "\n",
        "#RESPOSTA B) str\n",
        "#Usando 'type' nos mostra qual o tipo de dado da variável"
      ],
      "metadata": {
        "colab": {
          "base_uri": "https://localhost:8080/"
        },
        "id": "z8a7Ginys1ij",
        "outputId": "cb461cd3-5be2-4dd5-cfc4-672c62a4de86"
      },
      "execution_count": 2,
      "outputs": [
        {
          "name": "stdout",
          "output_type": "stream",
          "text": [
            "Digite o número da casa: 142\n"
          ]
        },
        {
          "output_type": "execute_result",
          "data": {
            "text/plain": [
              "str"
            ]
          },
          "metadata": {},
          "execution_count": 2
        }
      ]
    },
    {
      "cell_type": "markdown",
      "source": [
        "2) Você precisa implementar um código em Python que calcula o preço total de uma compra, dado o preço unitário de um dado produto (armazenado na variável preco) e a quantidade de unidades compradas (armazenado na variável quantidade). Assuma que temos apenas um único produto comprado. Assinale a alternativa que corretamente implementa este procedimento:\n",
        "\n",
        "a) preco_total = quantidade *= preco\n",
        "\n",
        "b) preco_total = quantidade * preco\n",
        "\n",
        "c) preco_total = quantidade += preco\n",
        "\n",
        "d) preco_total = quantidade / preco\n",
        "\n",
        "e) nda"
      ],
      "metadata": {
        "id": "GPdrO_tWs2Us"
      }
    },
    {
      "cell_type": "code",
      "execution_count": 5,
      "metadata": {
        "colab": {
          "base_uri": "https://localhost:8080/"
        },
        "id": "28fNqkKqsoNr",
        "outputId": "4c10eeb7-275a-4119-9d22-fa3b39d17ad3"
      },
      "outputs": [
        {
          "output_type": "stream",
          "name": "stdout",
          "text": [
            "20\n"
          ]
        }
      ],
      "source": [
        "quantidade = 10\n",
        "preco = 2\n",
        "preco_total = quantidade * preco\n",
        "print (preco_total)\n",
        "# RESPOSTA b) preco_total = quantidade * preco"
      ]
    },
    {
      "cell_type": "markdown",
      "source": [
        "3) Na variável restaurantes_ano temos uma lista de listas, em que cada elemento é uma lista de dois elementos, em que o primeiro é o nome de um restaurante cadastrado na plataforma de delivery, e o segundo é o ano em que o cadastro foi realizado. Você deseja criar uma nova lista de listas, em que cada elemento é uma lista de dois elementos, sendo o primeiro o nome do restaurante (como é na lista original), e o segundo é o número de anos em que o restaurante está cadastrado na plataforma (considere que o ano atual é 2023). Qual das alternativas a seguir corretamente completa o trecho de código iniciado abaixo, para corretamente construir a lista desejada?\n",
        "\n",
        "restaurantes_idade = []\n",
        "\n",
        "for lista in restaurantes_ano:\n",
        "\n",
        "    # e) restaurantes_idade.append([lista[0], 2023 - lista[1]])\n",
        "Ao revisar este código, qual das alternativas a seguir produz o mesmo resultado?\n",
        "\n",
        "a) restaurantes_idade.append([lista[0], lista[1] - 2023])\n",
        "\n",
        "b) restaurantes_idade.append([lista[1], 2023 - lista[0]])\n",
        "\n",
        "c) restaurantes_idade.append([lista[1], lista[0] - 2023])\n",
        "\n",
        "d) restaurantes_idade.append([lista, 2023 - lista])\n",
        "\n",
        "e) restaurantes_idade.append([lista[0], 2023 - lista[1]])"
      ],
      "metadata": {
        "id": "-2v79zHHs-U_"
      }
    },
    {
      "cell_type": "code",
      "source": [
        "restaurantes = [[\"Restaurante Vida\", 1980], [\"Restaurante do Sushi\", 2001], [\"Restaurante Churrasco\", 1988]]\n",
        "restaurantes_idade = []\n",
        "ano_atual = 2023\n",
        "\n",
        "for lista in restaurantes_ano:\n",
        "    restaurantes_idade.append([lista[0], 2023 - lista[1]])\n",
        "    #restaurantes_idade.append([lista[0], lista[1] - 2023]) #TESTEI ESSE CÓD E O TEMPO FICOU INCORRETO\n",
        "print (restaurantes_idade)\n",
        "\n",
        "\n",
        "\n",
        " #RESPOSTA É: e) restaurantes_idade.append([lista[0], 2023 - lista[1]])\n",
        "\n"
      ],
      "metadata": {
        "colab": {
          "base_uri": "https://localhost:8080/"
        },
        "id": "eK_wm5AEyZ3q",
        "outputId": "ff7ea535-df12-43de-cf36-3a3f49f69e20"
      },
      "execution_count": 25,
      "outputs": [
        {
          "output_type": "stream",
          "name": "stdout",
          "text": [
            "[['Restaurante Vida', 43], ['Restaurante do Sushi', 24], ['Restaurante Churrasco', 35]]\n"
          ]
        }
      ]
    },
    {
      "cell_type": "markdown",
      "source": [
        "4) Queremos criar uma lista para armazenar os preços dos produtos de determinado restaurante. Em qual das opções abaixo a variável precos_produtos não é uma lista?\n",
        "\n",
        "a) precos_produtos = []\n",
        "\n",
        "b) precos_produtos = list(\"1 2 3 4\")\n",
        "\n",
        "c) precos_produtos = (1, 1.5, 3.8)\n",
        "\n",
        "d) precos_produtos = [1, 2, 3, 4]\n",
        "\n",
        "e) precos_produtos = list()\n",
        "\n",
        "iFood"
      ],
      "metadata": {
        "id": "6rCzpS2FtGcd"
      }
    },
    {
      "cell_type": "code",
      "source": [
        "aprecos_produtos = []\n",
        "bprecos_produtos = list(\"1 2 3 4\")\n",
        "cprecos_produtos = (1, 1.5, 3.8)\n",
        "dprecos_produtos = [1, 2, 3, 4]\n",
        "eprecos_produtos = list()\n",
        "\n",
        "print(type(aprecos_produtos))\n",
        "print(type(bprecos_produtos))\n",
        "print(type(cprecos_produtos))\n",
        "print(type(dprecos_produtos))\n",
        "print(type(eprecos_produtos))\n",
        "\n",
        "\n",
        "#RESPOTA CORRETA É:c) precos_produtos = (1, 1.5, 3.8) FAZENDO UM CODIGO ONDE EU PEÇO QUAL O TIPO DE CADA VARIAVEL (OPÇAO) FOI IDENTIFICADO A C COMO TUPLA"
      ],
      "metadata": {
        "colab": {
          "base_uri": "https://localhost:8080/"
        },
        "id": "_rEZXJtTtJ2k",
        "outputId": "61e06c8e-afe6-4abf-c725-3249cde86dab"
      },
      "execution_count": 28,
      "outputs": [
        {
          "output_type": "stream",
          "name": "stdout",
          "text": [
            "<class 'list'>\n",
            "<class 'list'>\n",
            "<class 'tuple'>\n",
            "<class 'list'>\n",
            "<class 'list'>\n"
          ]
        }
      ]
    },
    {
      "cell_type": "markdown",
      "source": [
        "5) Quando determinado entregador de um serviço de delivery atinge 100 entregas feitas, ele recebe uma gratificação, indicando que ele subiu de nível na plataforma de entregas. Enquanto este número não é alcançado, uma mensagem indicando quantas entregas ainda faltam é exibida na tela. Para implementar esta lógica, você começou criando o seguinte código:\n",
        "\n",
        "num_entregas = 0\n",
        "nivel = 0\n",
        "\n",
        "while (num_entregas < 100):\n",
        "\n",
        "    print(f\"Faltam {100 - num_entregas} entregas para você mudar de nível!\")\n",
        "\n",
        "    # código da alternativa correta aqui\n",
        "    a) num_entregas += 1\n",
        "    # POIS INCREMENTA SEMPRE MAIS UMA ENTREGA\n",
        "\n",
        "print(\"\\nVocê atingiu o próximo nível!\")\n",
        "nivel = 1\n",
        "Assinale a alternativa que corretamente implementa a lógica desejada, substituindo o comentário no código acima:\n",
        "\n",
        "a) num_entregas += 1\n",
        "\n",
        "b) num_entregas = 100 - num_entregas\n",
        "\n",
        "c) num_entregas -= 1\n",
        "\n",
        "d) num_entregas = 100 + num_entregas\n",
        "\n",
        "e) num_entregas += 100"
      ],
      "metadata": {
        "id": "Jr3q0zd6tKwF"
      }
    },
    {
      "cell_type": "code",
      "source": [
        "# código da alternativa correta aqui\n",
        "a) num_entregas += 1\n",
        "# POIS INCREMENTA SEMPRE MAIS UMA ENTREGA"
      ],
      "metadata": {
        "id": "qKGLi83-tOr-"
      },
      "execution_count": null,
      "outputs": []
    },
    {
      "cell_type": "markdown",
      "source": [
        "6) Em um aplicativo de delivery, é muito importante que as entregas sejam feitas no menor tempo possível, para maior satisfação dos clientes. Pensando nisso, uma importante componente do sistema informacional de entregas deve calcular qual é o tempo estimado de entrega de um pedido, com base na distância entre o restaurante e o destino, e assumindo que o entregador viaja a uma velocidade constante de 50 km/h. Faça um código em Python que calcule o tempo de entrega em minutos, completando o template de código a seguir, na qual a distância em km deve ser informada pelo usuário:\n",
        "\n",
        "\n",
        "velocidade = 50\n",
        "\n",
        "distancia = # código para receber como input do usuário a distância em km\n",
        "\n",
        "tempo = # código que implementa a lógica do cálculo do tempo, em minutos\n",
        "\n",
        "print(f\"\\nO tempo estimado de entrega é de {tempo} minutos!\")\n",
        "Dica: o tempo necessário para percorrer uma dada distância à velocidade constante é dado pelo quociente entre a distância e a velocidade. Atenção às unidades!"
      ],
      "metadata": {
        "id": "5I5s33UQtPgJ"
      }
    },
    {
      "cell_type": "code",
      "source": [
        "velocidade = 50\n",
        "\n",
        "distancia = float(input(\"Digite a distância em quilômetros: \"))\n",
        "tempo = (distancia / velocidade) * 60\n",
        "print(f\"\\nO tempo estimado de entrega é de {tempo} minutos!\")\n",
        "\n",
        "#A VELOCIDADE VAI SER CONSTANTE EM 50, DESSA FORMA O COD. PEGA QUANTOS KM É A ENTREGA E DIVIDE PELA VELOCIDADE QUE É 50\n",
        "# E MULTUPLIQUEI POR 60 PORQUE O EXERCICIO PEDE EM MINUTOS (SE BEM QUE NÃO HA .00. DESSA FORMA SERIA INTERESSANTE EMPREGAR .2f p/ ARREDONDAR)\n"
      ],
      "metadata": {
        "colab": {
          "base_uri": "https://localhost:8080/"
        },
        "id": "_DLCQCKltWpg",
        "outputId": "c2b1550f-3b3b-4c5c-cc14-f48229402c4f"
      },
      "execution_count": 29,
      "outputs": [
        {
          "output_type": "stream",
          "name": "stdout",
          "text": [
            "Digite a distância em quilômetros: 10\n",
            "\n",
            "O tempo estimado de entrega é de 12.0 minutos!\n"
          ]
        }
      ]
    },
    {
      "cell_type": "markdown",
      "source": [
        "7) Em um aplicativo de delivery, é importante que tenhamos um registro de todos os clientes que fazem pedidos em determinado restaurante, para que seja possível enviarmos cupons de desconto para os clientes que mais pedem, por exemplo.\n",
        "\n",
        "Para começar a prototipar esta funcionalidade no aplicativo, você deve criar um programa em Python que leia diversos números inteiros e insira todos em uma lista (esses números são os identificadores dos clientes). A cada solicitação de número, pergunte ao usuário se deseja inserir outro número: tendo como resposta 'S' para inserir mais um; ou 'N' caso queira terminar. É possível que o mesmo número seja digitado mais de uma vez (isso pode representar o mesmo cliente fazendo mais de um pedido). Após construir a lista, mostre:\n",
        "\n",
        "todos os números digitados na ordem em que foram inseridos\n",
        "\n",
        "todos os números digitados em ordem crescente\n",
        "\n",
        "a média destes valores\n",
        "\n",
        "apenas os números pares\n",
        "\n",
        "apenas os números ímpares\n",
        "\n",
        "apenas os números repetidos"
      ],
      "metadata": {
        "id": "r7VOqESJtXWu"
      }
    },
    {
      "cell_type": "code",
      "source": [
        "clientes = []\n",
        "\n",
        "while True:\n",
        "    numero = int(input(\"Digite um número inteiro: \"))\n",
        "    clientes.append(numero)\n",
        "\n",
        "    continuar = input(\"\\nDeseja inserir outro número? (S/N): \").upper()\n",
        "\n",
        "    if continuar != 'S':\n",
        "        break\n",
        "\n",
        "print(\"todos os números digitados na ordem em que foram inseridos:\", clientes)\n",
        "print(\"todos os números digitados em ordem crescente:\", sorted(clientes))\n",
        "print(f\"a média dos valores é: {sum(clientes) / len(clientes)}\")\n",
        "print(\"apenas os números pares:\", [num for num in clientes if num % 2==0])\n",
        "print(\"apenas os números ímpares:\", [num for num in clientes if num % 2 != 0])\n",
        "print(\"apenas os números repetidos:\", list(set([num for num in clientes if clientes.count(num) > 1])))\n",
        "\n",
        "#quando eu emprego o num for num in clientes ele passa pela lista e guarda o numero, mostrnaod conforme a condiçao que escrevi como : %2==0 e as demais, mostra se é par, impar e tbm fiz a condição de soma,\n",
        "# o while mantem enquanto o cliente digita S"
      ],
      "metadata": {
        "colab": {
          "base_uri": "https://localhost:8080/"
        },
        "id": "kDTxphILtc7q",
        "outputId": "c3f66a2e-2e37-4af5-8745-c8c0be433f03"
      },
      "execution_count": 37,
      "outputs": [
        {
          "output_type": "stream",
          "name": "stdout",
          "text": [
            "Digite um número inteiro: 1\n",
            "\n",
            "Deseja inserir outro número? (S/N): s\n",
            "Digite um número inteiro: 2\n",
            "\n",
            "Deseja inserir outro número? (S/N): s\n",
            "Digite um número inteiro: 3\n",
            "\n",
            "Deseja inserir outro número? (S/N): s\n",
            "Digite um número inteiro: 4\n",
            "\n",
            "Deseja inserir outro número? (S/N): s\n",
            "Digite um número inteiro: 4\n",
            "\n",
            "Deseja inserir outro número? (S/N): n\n",
            "todos os números digitados na ordem em que foram inseridos: [1, 2, 3, 4, 4]\n",
            "todos os números digitados em ordem crescente: [1, 2, 3, 4, 4]\n",
            "a média dos valores é: 2.8\n",
            "apenas os números pares: [2, 4, 4]\n",
            "apenas os números ímpares: [1, 3]\n",
            "apenas os números repetidos: [4]\n"
          ]
        }
      ]
    },
    {
      "cell_type": "markdown",
      "source": [
        "8) Para que a entrega de alimentos seja feita com qualidade por um serviço de delivery, é muito importante que as caixas de transporte utilizadas por entregadores tenham um revestimento térmico interno, para manter a temperatura dos alimentos. Muitos destes revestimentos são importados de países que utilizam diferentes escalas de temperatura, de modo que as especificações quanto às temperaturas de operação podem gerar confusão.\n",
        "\n",
        "Pensando nisso, escreva um código em Python que recebe um número (que possa ter casas decimais) e a escala de temperatura em que este valor se encontra e para qual ele deseja converter (Celsius, Kelvin ou Fahrenheit). Tanto na escala em que se encontra quanto para a que deseja converter, utilize as letras iniciais como entrada: Celsius - 'C', Kelvin - 'K' ou Fahrenheit - 'F'.\n",
        "\n",
        "Seu código deve solicitar ao usuário as informações necessárias para realizar a conversão de temperatura (temperatura, escala_original, escala_convertida), de acordo com o template abaixo.\n",
        "\n",
        "\n",
        "temperatura = # código para receber o valor numérico da temperatura desejada\n",
        "\n",
        "escala_original = # código para receber a escala original da temperatura informada\n",
        "\n",
        "escala_convertida = # código para receber a escala para a qual deseja-se converter a temperatura\n",
        "\n",
        "# implemente abaixo toda a lógica de conversão de temperaturas, bem como as validações necessárias\n",
        "\n",
        "\n",
        "temperatura = float(input(\"Digite o valor numérico da temperatura desejada: \"))\n",
        "escala_original = input(\"\\nDigite a escala original da temperatura \\nC para Celsius \\n K para Kelvin \\n F para Farenheit): \").upper()\n",
        "escala_convertida = input(\"Digite a escala para a qual deseja-se converter a temperatura \\nC para Celsius \\n K para Kelvin \\n F para Farenheit: \").upper()\n",
        "\n",
        "# não usei o while porque nao rodou.... mas como não precisa de uma opçao para sair, dessa forma acredito que esteja correto tbm\n",
        "if escala_original ==\"C\" and escala_convertida== \"K\":\n",
        "    resultado = temperatura + 273.15\n",
        "elif escala_original == \"C\"and escala_convertida == \"F\":\n",
        "    resultado = (temperatura * 9/5) + 32\n",
        "elif escala_original== \"K\"and escala_convertida == \"C\":\n",
        "    resultado = temperatura - 273.15\n",
        "elif escala_original == \"K\" and escala_convertida ==\"F\":\n",
        "    resultado = (temperatura - 273.15) * 9/5 + 32\n",
        "elif escala_original ==\"F\" and escala_convertida ==\"C\":\n",
        "    resultado = (temperatura - 32) * 5/9\n",
        "elif escala_original==\"F\" and escala_convertida == \"K\":\n",
        "    resultado = (temperatura - 32) * 5/9 + 273.15\n",
        "else:\n",
        "    resultado = temperatura\n",
        "\n",
        "# Exibe o resultado\n",
        "print(f'\\nA temperatura convertida é: {resultado:.2f} {escala_convertida}')\n",
        "\n",
        "\n",
        "Importante: o programa deve trabalhar apenas com as 3 escalas supracitadas! Então, não deixe de fazer as validações necessárias. Além disso, por definição, não existem temperaturas em Kelvin abaixo de zero (o valor zero pode existir), portanto verifique também esta condição para que sejam feitas conversões válidas!\n",
        "\n",
        "Dica: as equações de conversão entre as escalas são as seguintes:\n",
        "\n",
        "Celsius <> Fahrenheit:\n",
        "\n",
        "\\color{white}{\\frac{C}{5} = \\frac{F - 32}{9}}\n",
        "Celsius <> Kelvin:\n",
        "\n",
        "\\color{white}{C = K - 273}\n",
        "Kelvin <> Fahrenheit:\n",
        "\n",
        "\\color{white}{\\frac{K - 273}{5} = \\frac{F - 32}{9}}"
      ],
      "metadata": {
        "id": "W60STLYMtdY0"
      }
    },
    {
      "cell_type": "code",
      "source": [
        "temperatura = float(input(\"Digite o valor numérico da temperatura desejada: \"))\n",
        "escala_original = input(\"\\nDigite a escala original da temperatura \\nC para Celsius \\n K para Kelvin \\n F para Farenheit): \").upper()\n",
        "escala_convertida = input(\"Digite a escala para a qual deseja-se converter a temperatura \\nC para Celsius \\n K para Kelvin \\n F para Farenheit: \").upper()\n",
        "\n",
        "# não usei o while porque nao rodou.... mas como não precisa de uma opçao para sair, dessa forma acredito que esteja correto tbm\n",
        "if escala_original ==\"C\" and escala_convertida== \"K\":\n",
        "    resultado = temperatura + 273.15\n",
        "elif escala_original == \"C\"and escala_convertida == \"F\":\n",
        "    resultado = (temperatura * 9/5) + 32\n",
        "elif escala_original== \"K\"and escala_convertida == \"C\":\n",
        "    resultado = temperatura - 273.15\n",
        "elif escala_original == \"K\" and escala_convertida ==\"F\":\n",
        "    resultado = (temperatura - 273.15) * 9/5 + 32\n",
        "elif escala_original ==\"F\" and escala_convertida ==\"C\":\n",
        "    resultado = (temperatura - 32) * 5/9\n",
        "elif escala_original==\"F\" and escala_convertida == \"K\":\n",
        "    resultado = (temperatura - 32) * 5/9 + 273.15\n",
        "else:\n",
        "    resultado = temperatura\n",
        "\n",
        "# não sei se a lógica dos calculos estão corretos\n",
        "print(f'\\nA temperatura convertida é: {resultado:.2f} {escala_convertida}')"
      ],
      "metadata": {
        "id": "7sem3RGkteOi"
      },
      "execution_count": null,
      "outputs": []
    },
    {
      "cell_type": "markdown",
      "source": [
        "9) Um restaurante deseja saber quais são seus produtos mais vendidos em um aplicativo de delivery. Em uma lista, há registrados os nomes dos produtos, na ordem em que eles são vendidos (portanto, há elementos repetidos nesta lista). Faça um programa que exibe na tela cada um dos produtos na lista de input, e a quantidade em que eles foram vendidos (separados por um traço), de modo que teremos uma mensagem em cada linha. Os produtos devem ser exibidos em ordem alfabética.\n",
        "\n",
        "Ex.: para a lista produtos = [\"Hambúrguer\", \"Fritas\", \"Fritas\", \"Refrigerante\", \"Fritas\", \"Hambúrguer\"]\n",
        "\n",
        "Devemos ter as seguintes mensagens exibidas na tela:\n",
        "\n",
        "Fritas - 3\n",
        "Hambúrguer - 2\n",
        "Refrigerante - 1"
      ],
      "metadata": {
        "id": "7Ph4ye6lte4Z"
      }
    },
    {
      "cell_type": "code",
      "source": [
        "produtos = [\"Hambúrguer\", \"Fritas\", \"Fritas\", \"Refrigerante\", \"Fritas\", \"Hambúrguer\"]\n",
        "\n",
        "produtos.sort()\n",
        "produto_now =produtos[0]\n",
        "contagem = 1\n",
        "\n",
        "for i in range(1, len(produtos)):\n",
        "    if produtos[i] ==produto_now:\n",
        "        contagem += 1\n",
        "    else:\n",
        "        print(f'{produto_now} - {contagem}')\n",
        "        produto_now = produtos[i]\n",
        "        contagem = 1\n",
        "\n",
        "# Exibe o último produto e sua contagem\n",
        "print(f\"{produto_now} -{contagem}\")\n",
        "\n",
        "#pensei aqui em primeiro deixar em ordem alfabetica, e depois ir contando. COm o uso do i in range, vai contando qts vezes\n",
        "#aparece o produto. Esse código também funcionaria com um input, onde poderia inserir outros produtos"
      ],
      "metadata": {
        "colab": {
          "base_uri": "https://localhost:8080/"
        },
        "id": "SPKPr-nVth2o",
        "outputId": "154fb5ad-577c-40c9-bab6-3c95d45d4a28"
      },
      "execution_count": 38,
      "outputs": [
        {
          "output_type": "stream",
          "name": "stdout",
          "text": [
            "Fritas - 3\n",
            "Hambúrguer - 2\n",
            "Refrigerante -1\n"
          ]
        }
      ]
    },
    {
      "cell_type": "markdown",
      "source": [
        "10) Para bem distribuir os pedidos aos entregadores disponíveis, um aplicativo de delivery usa a seguinte regra:\n",
        "\n",
        "cada entregador deve entregar, em uma única corrida, no máximo 5 pedidos;\n",
        "as casas de destino que serão atribuídas a um mesmo entregador serão todas quelas que estão a um raio de no máximo 10 km do restaurante, respeitando a regra anterior.\n",
        "Considere que como input do problema, recebemos uma lista em que cada elemento armazena a distância (de linha reta) em km entre a casa que fez o respectivo pedido e o restaurante. Faça um código que distribua estes pedidos a um dado entregador, seguindo as regras acima, de modo que a saída deve ser uma lista que contém os índices dos elementos da lista original que farão parte da corrida do entregador - considere que os primeiros elementos da lista têm prioridade."
      ],
      "metadata": {
        "id": "8G68PJaXtidu"
      }
    },
    {
      "cell_type": "code",
      "source": [
        "distancias = [10, 1, 1, 1 ,1, 1, 4, 1, 5, 2, 8, 2, 4, 10, 3 ]\n",
        "\n",
        "entregadores = [[]]\n",
        "distancia_total = 0\n",
        "indice = 0\n",
        "\n",
        "while indice < len(distancias):\n",
        "    distancia = distancias[indice]\n",
        "\n",
        "    if len(entregadores[-1]) < 5 and distancia_total + distancia <= 10:\n",
        "        entregadores[-1].append(indice) #adiciona o elemento no fim\n",
        "        distancia_total += distancia\n",
        "        indice += 1 #conta +1\n",
        "    else:\n",
        "        entregadores.append([]) #adiciona o elemento no fim\n",
        "        distancia_total =0\n",
        "\n",
        "for i in range(len(entregadores)):\n",
        "    print(f\"Entregador {i + 1}: Pedidos {entregadores[i]}\")\n",
        "\n",
        "#usei distancia de 10, para ter certeza que deixaria individual para cada entregador. e deixei distancias baixas\n",
        "#para ver se deixaria no maximo 5 por entregador"
      ],
      "metadata": {
        "colab": {
          "base_uri": "https://localhost:8080/"
        },
        "id": "VsjQvKRjtloZ",
        "outputId": "7aa668f5-6a45-4214-ce27-684238d970e6"
      },
      "execution_count": 44,
      "outputs": [
        {
          "output_type": "stream",
          "name": "stdout",
          "text": [
            "Entregador 1: Pedidos [0]\n",
            "Entregador 2: Pedidos [1, 2, 3, 4, 5]\n",
            "Entregador 3: Pedidos [6, 7, 8]\n",
            "Entregador 4: Pedidos [9, 10]\n",
            "Entregador 5: Pedidos [11, 12]\n",
            "Entregador 6: Pedidos [13]\n",
            "Entregador 7: Pedidos [14]\n"
          ]
        }
      ]
    }
  ]
}