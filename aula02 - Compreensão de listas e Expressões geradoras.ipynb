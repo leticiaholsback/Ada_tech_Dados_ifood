{
 "cells": [
  {
   "cell_type": "markdown",
   "id": "b260fe35",
   "metadata": {},
   "source": [
    "#  Apresentação"
   ]
  },
  {
   "cell_type": "markdown",
   "id": "ecee4379",
   "metadata": {},
   "source": [
    "Gabriel Lima Novais\n",
    "\n",
    "\n",
    "- https://www.linkedin.com/in/novaisgabriel/\n",
    "- Email: gabrieel.novais@gmail.com"
   ]
  },
  {
   "cell_type": "markdown",
   "id": "c449c3a8",
   "metadata": {},
   "source": [
    "# Planejamento do Curso\n",
    "\n",
    "As nossas aulas terão os seguintes assuntos:\n",
    "\n",
    "- Apresentação e git básico (30/10)\n",
    "- Estruturas Básicas (01/11)\n",
    "- **Compreensão de listas e Expressões geradoras** (06/11)\n",
    "- Parâmetros (08/11)\n",
    "- Paradigma funcional (10/11)\n",
    "- Gerenciando erros (13/11)\n",
    "- Persistência de dados (17/11)\n",
    "- Exercícios/Apresentação de Projetos (22/11)\n",
    "- Empregabilidade e preenchimento de avaliações (24/11)"
   ]
  },
  {
   "cell_type": "markdown",
   "id": "5eb59ebc",
   "metadata": {},
   "source": [
    "# Compreensão de listas e Expressões geradoras"
   ]
  },
  {
   "cell_type": "markdown",
   "id": "3f2972c2",
   "metadata": {},
   "source": [
    "### Compreensão de listas\n",
    "\n",
    "Exemplo de loop que faríamos com o for:"
   ]
  },
  {
   "cell_type": "code",
   "execution_count": 4,
   "id": "d49d0361",
   "metadata": {},
   "outputs": [
    {
     "name": "stdout",
     "output_type": "stream",
     "text": [
      "[1, 4, 9, 16, 25, 36, 49, 64, 81, 100]\n",
      "10\n"
     ]
    }
   ],
   "source": [
    "quadrados = []\n",
    "\n",
    "for x in range(1, 11):\n",
    "    quadrados.append(x**2)\n",
    "\n",
    "print(quadrados)\n",
    "print(x)"
   ]
  },
  {
   "cell_type": "code",
   "execution_count": 9,
   "id": "d62c29b5",
   "metadata": {},
   "outputs": [
    {
     "data": {
      "text/plain": [
       "[1, 4, 9, 16, 25, 36, 49, 64, 81, 100]"
      ]
     },
     "execution_count": 9,
     "metadata": {},
     "output_type": "execute_result"
    }
   ],
   "source": [
    "[a**2 for a in range(1,11)]"
   ]
  },
  {
   "cell_type": "code",
   "execution_count": 6,
   "id": "09a45adb",
   "metadata": {},
   "outputs": [
    {
     "name": "stdout",
     "output_type": "stream",
     "text": [
      "[1, 4, 9, 16, 25, 36, 49, 64, 81, 100]\n"
     ]
    }
   ],
   "source": [
    "# Poderíamos utilizar a List comprehension da seguinte maneira:\n",
    "\n",
    "quadrados_compreensao = [num**2 for num in range(1, 11)]\n",
    "print(quadrados_compreensao)"
   ]
  },
  {
   "cell_type": "code",
   "execution_count": 7,
   "id": "1be6eee5",
   "metadata": {},
   "outputs": [
    {
     "name": "stdout",
     "output_type": "stream",
     "text": [
      "x: 10\n"
     ]
    },
    {
     "ename": "NameError",
     "evalue": "name 'num' is not defined",
     "output_type": "error",
     "traceback": [
      "\u001b[1;31m---------------------------------------------------------------------------\u001b[0m",
      "\u001b[1;31mNameError\u001b[0m                                 Traceback (most recent call last)",
      "Input \u001b[1;32mIn [7]\u001b[0m, in \u001b[0;36m<cell line: 2>\u001b[1;34m()\u001b[0m\n\u001b[0;32m      1\u001b[0m \u001b[38;5;28mprint\u001b[39m(\u001b[38;5;124m'\u001b[39m\u001b[38;5;124mx:\u001b[39m\u001b[38;5;124m'\u001b[39m, x) \u001b[38;5;66;03m# imprime 10\u001b[39;00m\n\u001b[1;32m----> 2\u001b[0m \u001b[38;5;28mprint\u001b[39m(\u001b[38;5;124m'\u001b[39m\u001b[38;5;124mnum:\u001b[39m\u001b[38;5;124m'\u001b[39m, \u001b[43mnum\u001b[49m)\n",
      "\u001b[1;31mNameError\u001b[0m: name 'num' is not defined"
     ]
    }
   ],
   "source": [
    "print('x:', x) # imprime 10\n",
    "print('num:', num) # erro de variável não existente"
   ]
  },
  {
   "cell_type": "markdown",
   "id": "fd3c4d21",
   "metadata": {},
   "source": [
    "### Condicionais em compreensões\n",
    "\n",
    "Como faríamos para o caso com o for normal:"
   ]
  },
  {
   "cell_type": "code",
   "execution_count": 13,
   "id": "7b0415ff",
   "metadata": {},
   "outputs": [
    {
     "data": {
      "text/plain": [
       "[1, 1.0, 3, 2.0, 5, 3.0, 7, 4.0, 9]"
      ]
     },
     "execution_count": 13,
     "metadata": {},
     "output_type": "execute_result"
    }
   ],
   "source": [
    "# Problema: pegar metade dos números pares de 1 até 30:\n",
    "aux = []\n",
    "for i in range(1,10):\n",
    "    if i%2==0:\n",
    "        aux.append(i/2)\n",
    "    else:\n",
    "        aux.append(i)\n",
    "aux"
   ]
  },
  {
   "cell_type": "code",
   "execution_count": 24,
   "id": "a2e8dff7",
   "metadata": {},
   "outputs": [
    {
     "data": {
      "text/plain": [
       "[1, 1.0, 3, 2.0, 5, 3.0, 7, 4.0, 9]"
      ]
     },
     "execution_count": 24,
     "metadata": {},
     "output_type": "execute_result"
    }
   ],
   "source": [
    "# Como seria usando list comprehension:\n",
    "# ans = [i/2 if i%2==0 else i for i in range(1,10)]\n",
    "ans = [i/2 if i%2==0 else i for i in range(1,10) ]\n",
    "ans"
   ]
  },
  {
   "cell_type": "code",
   "execution_count": 27,
   "id": "f1a5d84c",
   "metadata": {},
   "outputs": [
    {
     "data": {
      "text/plain": [
       "[1, 0, 1, 0, 1, 0, 1, 0, 1]"
      ]
     },
     "execution_count": 27,
     "metadata": {},
     "output_type": "execute_result"
    }
   ],
   "source": [
    "# Outro exemplo: preencher uma lista com 1 ou 0 se for par ou ímpar para números de 1 até 30\n",
    "ans = []\n",
    "for i in range(1,10):\n",
    "    if i%2==0:\n",
    "        ans.append(0)\n",
    "    else:\n",
    "        ans.append(1)\n",
    "ans"
   ]
  },
  {
   "cell_type": "code",
   "execution_count": 28,
   "id": "29402f24",
   "metadata": {},
   "outputs": [
    {
     "data": {
      "text/plain": [
       "[1, 0, 1, 0, 1, 0, 1, 0, 1]"
      ]
     },
     "execution_count": 28,
     "metadata": {},
     "output_type": "execute_result"
    }
   ],
   "source": [
    "# Como seria usando list comprehension:\n",
    "ans = [0 if i%2==0 else 1 for i in range(1,10)]\n",
    "ans"
   ]
  },
  {
   "cell_type": "markdown",
   "id": "f849908a",
   "metadata": {},
   "source": [
    "#### EXERCÍCIO: desfaça os list comprehensions em for \"tradicionais\"...\n",
    "\n",
    "1) ex1: lista = [expressao for item in colecao]\n",
    "\n",
    "2) ex2: lista = [expressao for item in colecao if condicao]\n",
    "\n",
    "3) ex3: lista = [expressao if condicao else expressao_alternativa for item in colecao] "
   ]
  },
  {
   "cell_type": "code",
   "execution_count": null,
   "id": "e0e33f46",
   "metadata": {},
   "outputs": [],
   "source": [
    "#  [expressao for item in colecao]\n",
    "for item in colecao:\n",
    "    expressao"
   ]
  },
  {
   "cell_type": "code",
   "execution_count": 29,
   "id": "79daa4c8",
   "metadata": {},
   "outputs": [
    {
     "data": {
      "text/plain": [
       "[0.0, 0.5, 1.0, 1.5, 2.0]"
      ]
     },
     "execution_count": 29,
     "metadata": {},
     "output_type": "execute_result"
    }
   ],
   "source": [
    "a = [i/2 for i in range(0,5)]\n",
    "a"
   ]
  },
  {
   "cell_type": "code",
   "execution_count": 30,
   "id": "a64b6f66",
   "metadata": {},
   "outputs": [
    {
     "data": {
      "text/plain": [
       "[0.0, 0.5, 1.0, 1.5, 2.0]"
      ]
     },
     "execution_count": 30,
     "metadata": {},
     "output_type": "execute_result"
    }
   ],
   "source": [
    "aux = []\n",
    "for i in range(0,5):\n",
    "    aux.append(i/2)\n",
    "aux"
   ]
  },
  {
   "cell_type": "code",
   "execution_count": null,
   "id": "35165c18",
   "metadata": {},
   "outputs": [],
   "source": [
    "#  [expressao for item in colecao if condicao]\n",
    "for item in colecao:\n",
    "    if condicao:\n",
    "        expressao"
   ]
  },
  {
   "cell_type": "code",
   "execution_count": 31,
   "id": "215771d3",
   "metadata": {},
   "outputs": [
    {
     "data": {
      "text/plain": [
       "[2.0]"
      ]
     },
     "execution_count": 31,
     "metadata": {},
     "output_type": "execute_result"
    }
   ],
   "source": [
    "a = [i/2 for i in range(0,5) if i >3]\n",
    "a"
   ]
  },
  {
   "cell_type": "code",
   "execution_count": 33,
   "id": "78ea7d0c",
   "metadata": {},
   "outputs": [
    {
     "data": {
      "text/plain": [
       "[2.0]"
      ]
     },
     "execution_count": 33,
     "metadata": {},
     "output_type": "execute_result"
    }
   ],
   "source": [
    "aux = []\n",
    "for i in range(0,5):\n",
    "    if i >3:\n",
    "        aux.append(i/2)\n",
    "aux"
   ]
  },
  {
   "cell_type": "code",
   "execution_count": null,
   "id": "2aae8751",
   "metadata": {},
   "outputs": [],
   "source": [
    "# [expressao if condicao else expressao_alternativa for item in colecao]\n",
    "for item in colecao:\n",
    "    if condicao:\n",
    "        expressao\n",
    "    else:\n",
    "        expressao_alternativa"
   ]
  },
  {
   "cell_type": "code",
   "execution_count": 34,
   "id": "3012d276",
   "metadata": {},
   "outputs": [
    {
     "data": {
      "text/plain": [
       "[0.0, 0.3333333333333333, 0.6666666666666666, 1.0, 2.0]"
      ]
     },
     "execution_count": 34,
     "metadata": {},
     "output_type": "execute_result"
    }
   ],
   "source": [
    "a = [i/2 if i> 3 else i/3 for i in range(0,5)]\n",
    "a"
   ]
  },
  {
   "cell_type": "code",
   "execution_count": 35,
   "id": "6870c6b4",
   "metadata": {},
   "outputs": [
    {
     "data": {
      "text/plain": [
       "[0.0, 0.3333333333333333, 0.6666666666666666, 1.0, 2.0]"
      ]
     },
     "execution_count": 35,
     "metadata": {},
     "output_type": "execute_result"
    }
   ],
   "source": [
    "aux = []\n",
    "for i in range(0,5):\n",
    "    if i> 3:\n",
    "        aux.append(i/2)\n",
    "    else:\n",
    "        aux.append(i/3)\n",
    "aux"
   ]
  },
  {
   "cell_type": "markdown",
   "id": "346ed91f",
   "metadata": {},
   "source": [
    "### Aninhando compreensões"
   ]
  },
  {
   "cell_type": "markdown",
   "id": "c1998c35",
   "metadata": {},
   "source": [
    "É possível aninhar compreensões de lista. Ao colocarmos mais de um for consecutivo, o primeiro for será considerado o mais externo, e o seguinte, mais interno. O exemplo abaixo mostra todas as combinações possíveis entre alguns nomes e sobrenomes:"
   ]
  },
  {
   "cell_type": "code",
   "execution_count": 39,
   "id": "497c5f16",
   "metadata": {},
   "outputs": [
    {
     "name": "stdout",
     "output_type": "stream",
     "text": [
      "1\n",
      "2\n",
      "3\n",
      "4\n",
      "5\n",
      "6\n",
      "7\n",
      "8\n",
      "9\n"
     ]
    }
   ],
   "source": [
    "lista = [[1,2,3],[4,5,6],[7,8,9]]\n",
    "# for por posição\n",
    "for i in range(len(lista)):\n",
    "    for j in range(len(lista[i])):\n",
    "        print(lista[i][j])"
   ]
  },
  {
   "cell_type": "code",
   "execution_count": 40,
   "id": "dcf3d1b8",
   "metadata": {},
   "outputs": [
    {
     "name": "stdout",
     "output_type": "stream",
     "text": [
      "1\n",
      "2\n",
      "3\n",
      "4\n",
      "5\n",
      "6\n",
      "7\n",
      "8\n",
      "9\n"
     ]
    }
   ],
   "source": [
    "# for pegando diretamente os elementos\n",
    "for i in lista:\n",
    "    for j in i:\n",
    "        print(j)"
   ]
  },
  {
   "cell_type": "code",
   "execution_count": 42,
   "id": "a644148c",
   "metadata": {},
   "outputs": [],
   "source": [
    "nomes = ['Ana', 'Bruno', 'Carla', 'Daniel', 'Emília']\n",
    "sobrenomes = ['Silva', 'Oliveira']"
   ]
  },
  {
   "cell_type": "code",
   "execution_count": 45,
   "id": "57ab79d9",
   "metadata": {},
   "outputs": [
    {
     "data": {
      "text/plain": [
       "['Ana Silva',\n",
       " 'Ana Oliveira',\n",
       " 'Bruno Silva',\n",
       " 'Bruno Oliveira',\n",
       " 'Carla Silva',\n",
       " 'Carla Oliveira',\n",
       " 'Daniel Silva',\n",
       " 'Daniel Oliveira',\n",
       " 'Emília Silva',\n",
       " 'Emília Oliveira']"
      ]
     },
     "execution_count": 45,
     "metadata": {},
     "output_type": "execute_result"
    }
   ],
   "source": [
    "aux = []\n",
    "for nome in nomes:\n",
    "    for sobrenome in sobrenomes:\n",
    "        aux.append(nome+\" \"+sobrenome)\n",
    "aux"
   ]
  },
  {
   "cell_type": "code",
   "execution_count": 46,
   "id": "cca7124d",
   "metadata": {},
   "outputs": [
    {
     "data": {
      "text/plain": [
       "['Ana', 'Bruno', 'Carla', 'Daniel', 'Emília']"
      ]
     },
     "execution_count": 46,
     "metadata": {},
     "output_type": "execute_result"
    }
   ],
   "source": [
    "[nome for nome in nomes]"
   ]
  },
  {
   "cell_type": "code",
   "execution_count": 47,
   "id": "d3ba0bef",
   "metadata": {},
   "outputs": [
    {
     "name": "stdout",
     "output_type": "stream",
     "text": [
      "['Ana Silva', 'Ana Oliveira', 'Bruno Silva', 'Bruno Oliveira', 'Carla Silva', 'Carla Oliveira', 'Daniel Silva', 'Daniel Oliveira', 'Emília Silva', 'Emília Oliveira']\n"
     ]
    }
   ],
   "source": [
    "combinacoes = [nome + ' ' + sobrenome for nome in nomes for sobrenome in sobrenomes]\n",
    "print(combinacoes)"
   ]
  },
  {
   "cell_type": "code",
   "execution_count": null,
   "id": "9a473313",
   "metadata": {},
   "outputs": [],
   "source": [
    "# A linha acima representa justamente o for abaixo:\n",
    "'''\n",
    "\n",
    "combinacoes = []\n",
    "\n",
    "for nome in nomes:\n",
    "    for sobrenome in sobrenomes:\n",
    "        combinacoes.append(nome + ' ' + sobrenome)\n",
    "\n",
    "'''"
   ]
  },
  {
   "cell_type": "code",
   "execution_count": 49,
   "id": "b95124f4",
   "metadata": {},
   "outputs": [
    {
     "name": "stdout",
     "output_type": "stream",
     "text": [
      "Digite a quantidade de V do time Atlético Python: 10\n",
      "Digite a quantidade de E do time Atlético Python: 11\n",
      "Digite a quantidade de D do time Atlético Python: 12\n",
      "Digite a quantidade de V do time JavaScript United: 12\n",
      "Digite a quantidade de E do time JavaScript United: 23\n",
      "Digite a quantidade de D do time JavaScript United: 23\n",
      "Digite a quantidade de V do time C Seniors: 4\n",
      "Digite a quantidade de E do time C Seniors: 3\n",
      "Digite a quantidade de D do time C Seniors: 2\n",
      "Digite a quantidade de V do time Javeiros do Norte: 1\n",
      "Digite a quantidade de E do time Javeiros do Norte: 1\n",
      "Digite a quantidade de D do time Javeiros do Norte: 1\n",
      "[[10, 11, 12], [12, 23, 23], [4, 3, 2], [1, 1, 1]]\n"
     ]
    }
   ],
   "source": [
    "times = ['Atlético Python', 'JavaScript United', 'C Seniors', 'Javeiros do Norte']\n",
    "entradas = ['V', 'E', 'D']\n",
    "\n",
    "tabela = [[int(input(f'Digite a quantidade de {tipo} do time {time}: ')) for tipo in entradas] for time in times]\n",
    "\n",
    "print(tabela)"
   ]
  },
  {
   "cell_type": "code",
   "execution_count": 51,
   "id": "0dd9e24f",
   "metadata": {},
   "outputs": [
    {
     "name": "stdout",
     "output_type": "stream",
     "text": [
      "Digite a quantidade de V do time Atlético Python: 3\n",
      "Digite a quantidade de E do time Atlético Python: 3\n",
      "Digite a quantidade de D do time Atlético Python: 3\n",
      "Digite a quantidade de V do time JavaScript United: 3\n",
      "Digite a quantidade de E do time JavaScript United: 3\n",
      "Digite a quantidade de D do time JavaScript United: 3\n",
      "Digite a quantidade de V do time C Seniors: 3\n",
      "Digite a quantidade de E do time C Seniors: 33\n",
      "Digite a quantidade de D do time C Seniors: 3\n",
      "Digite a quantidade de V do time Javeiros do Norte: 3\n",
      "Digite a quantidade de E do time Javeiros do Norte: 3\n",
      "Digite a quantidade de D do time Javeiros do Norte: 3\n"
     ]
    },
    {
     "data": {
      "text/plain": [
       "[[3, 3, 3], [3, 3, 3], [3, 33, 3], [3, 3, 3]]"
      ]
     },
     "execution_count": 51,
     "metadata": {},
     "output_type": "execute_result"
    }
   ],
   "source": [
    "#### Exercício: traduza num for a linha da variável tabela:\n",
    "aux2 = []\n",
    "for time in times:\n",
    "    aux = []\n",
    "    for tipo in entradas:\n",
    "        aux.append(int(input(f'Digite a quantidade de {tipo} do time {time}: ')))\n",
    "    aux2.append(aux)\n",
    "aux2"
   ]
  },
  {
   "cell_type": "code",
   "execution_count": 52,
   "id": "c09519a7",
   "metadata": {},
   "outputs": [
    {
     "name": "stdout",
     "output_type": "stream",
     "text": [
      "Digite a quantidade de V do time Atlético Python: 3\n",
      "Digite a quantidade de E do time Atlético Python: 3\n",
      "Digite a quantidade de D do time Atlético Python: 33\n",
      "Digite a quantidade de V do time JavaScript United: 3\n",
      "Digite a quantidade de E do time JavaScript United: 3\n",
      "Digite a quantidade de D do time JavaScript United: 3\n",
      "Digite a quantidade de V do time C Seniors: 3\n",
      "Digite a quantidade de E do time C Seniors: 33\n",
      "Digite a quantidade de D do time C Seniors: 3\n",
      "Digite a quantidade de V do time Javeiros do Norte: 3\n",
      "Digite a quantidade de E do time Javeiros do Norte: 33\n",
      "Digite a quantidade de D do time Javeiros do Norte: 3\n"
     ]
    },
    {
     "data": {
      "text/plain": [
       "[[3, 3, 33], [3, 3, 3], [3, 33, 3], [3, 33, 3]]"
      ]
     },
     "execution_count": 52,
     "metadata": {},
     "output_type": "execute_result"
    }
   ],
   "source": [
    "[[int(input(f'Digite a quantidade de {tipo} do time {time}: ')) for tipo in entradas] for time in times]"
   ]
  },
  {
   "cell_type": "markdown",
   "id": "9840edb9",
   "metadata": {},
   "source": [
    "### Exercício:\n",
    "\n",
    "Redimensionando lista (flatten list) - Faça um list comprehension que deixe a lista:\n",
    "\n",
    "x = [[1,2],[2],[3,4,5]]\n",
    "\n",
    "no formato\n",
    "\n",
    "x = [1,2,2,3,4,5]"
   ]
  },
  {
   "cell_type": "code",
   "execution_count": 5,
   "id": "a08fd929",
   "metadata": {},
   "outputs": [
    {
     "name": "stdout",
     "output_type": "stream",
     "text": [
      "V Atlético Python\n",
      "E Atlético Python\n",
      "D Atlético Python\n",
      "V JavaScript United\n",
      "E JavaScript United\n",
      "D JavaScript United\n",
      "V C Seniors\n",
      "E C Seniors\n",
      "D C Seniors\n",
      "V Javeiros do Norte\n",
      "E Javeiros do Norte\n",
      "D Javeiros do Norte\n"
     ]
    },
    {
     "data": {
      "text/plain": [
       "[[None, None, None],\n",
       " [None, None, None],\n",
       " [None, None, None],\n",
       " [None, None, None]]"
      ]
     },
     "execution_count": 5,
     "metadata": {},
     "output_type": "execute_result"
    }
   ],
   "source": [
    "times = ['Atlético Python', 'JavaScript United', 'C Seniors', 'Javeiros do Norte']\n",
    "entradas = ['V', 'E', 'D']\n",
    "[[print(tipo, time) for tipo in entradas] for time in times]"
   ]
  },
  {
   "cell_type": "code",
   "execution_count": 6,
   "id": "b950bbe8",
   "metadata": {},
   "outputs": [
    {
     "data": {
      "text/plain": [
       "[1, 2, 2, 3, 4, 5]"
      ]
     },
     "execution_count": 6,
     "metadata": {},
     "output_type": "execute_result"
    }
   ],
   "source": [
    "# Solução:\n",
    "x = [[1,2],[2],[3,4,5]]\n",
    "\n",
    "x_f = []\n",
    "for i in x:\n",
    "    for j in i:\n",
    "        x_f.append(j)  \n",
    "x_f"
   ]
  },
  {
   "cell_type": "code",
   "execution_count": 7,
   "id": "3e839a28",
   "metadata": {},
   "outputs": [],
   "source": [
    "x = [[1,2],[2],[3,4,5]]\n",
    "y = [1,2]"
   ]
  },
  {
   "cell_type": "code",
   "execution_count": 13,
   "id": "55f1d3e0",
   "metadata": {},
   "outputs": [
    {
     "data": {
      "text/plain": [
       "[True, True, True]"
      ]
     },
     "execution_count": 13,
     "metadata": {},
     "output_type": "execute_result"
    }
   ],
   "source": [
    "[j in i in x for j in i]"
   ]
  },
  {
   "cell_type": "code",
   "execution_count": 8,
   "id": "2f36117f",
   "metadata": {},
   "outputs": [
    {
     "data": {
      "text/plain": [
       "[1, 2, 2, 3, 4, 5]"
      ]
     },
     "execution_count": 8,
     "metadata": {},
     "output_type": "execute_result"
    }
   ],
   "source": [
    "[j for i in x for j in i]"
   ]
  },
  {
   "cell_type": "code",
   "execution_count": 12,
   "id": "6259239b",
   "metadata": {},
   "outputs": [
    {
     "data": {
      "text/plain": [
       "[[1, 0, 0, 0], [0, 1, 0, 0], [0, 0, 1, 0], [0, 0, 0, 1]]"
      ]
     },
     "execution_count": 12,
     "metadata": {},
     "output_type": "execute_result"
    }
   ],
   "source": [
    "#### Extra: construa uma matrix 4x4 identidade usando list comprehension\n",
    "n=4\n",
    "[[1 if i==j else 0 for j in range(n)] for i in range(n)]"
   ]
  },
  {
   "cell_type": "markdown",
   "id": "208d1dde",
   "metadata": {},
   "source": [
    "#### Com dicionários:\n",
    "\n",
    "Da mesma forma que utilizamos compreensão para listas, podemos utilizá-la para dicionários. A diferença é que precisamos, obrigatoriamente, passar um par chave-valor. O exemplo abaixo parte de uma lista de notas e uma lista de alunos e chega em um dicionário associando cada aluno a uma nota."
   ]
  },
  {
   "cell_type": "code",
   "execution_count": 14,
   "id": "b233575c",
   "metadata": {},
   "outputs": [],
   "source": [
    "alunos = ['Ana', 'Bruno', 'Carla', 'Daniel', 'Emília']\n",
    "medias = [9.0, 8.0, 8.0, 6.5, 7.0]"
   ]
  },
  {
   "cell_type": "code",
   "execution_count": 16,
   "id": "417b9203",
   "metadata": {},
   "outputs": [
    {
     "data": {
      "text/plain": [
       "{'Ana': 9.0, 'Bruno': 8.0, 'Carla': 8.0, 'Daniel': 6.5, 'Emília': 7.0}"
      ]
     },
     "execution_count": 16,
     "metadata": {},
     "output_type": "execute_result"
    }
   ],
   "source": [
    "dict(zip(alunos, medias))"
   ]
  },
  {
   "cell_type": "code",
   "execution_count": 15,
   "id": "22601e03",
   "metadata": {},
   "outputs": [
    {
     "name": "stdout",
     "output_type": "stream",
     "text": [
      "{'Ana': 9.0, 'Bruno': 8.0, 'Carla': 8.0, 'Daniel': 6.5, 'Emília': 7.0}\n"
     ]
    }
   ],
   "source": [
    "cadastro = {alunos[i]:medias[i] for i in range(len(alunos))} #trocando o [] por {} cria dicionário invés de listas\n",
    "\n",
    "print(cadastro)"
   ]
  },
  {
   "cell_type": "code",
   "execution_count": 17,
   "id": "63b5d93d",
   "metadata": {},
   "outputs": [
    {
     "name": "stdout",
     "output_type": "stream",
     "text": [
      "{'Ana': 9.0, 'Bruno': 8.0, 'Carla': 8.0, 'Daniel': 6.5, 'Emília': 7.0}\n"
     ]
    }
   ],
   "source": [
    "#Utilizando o zip:\n",
    "cadastro = {aluno:media for aluno, media in zip(alunos, medias)}\n",
    "\n",
    "print(cadastro)"
   ]
  },
  {
   "cell_type": "markdown",
   "id": "c39ce9f2",
   "metadata": {},
   "source": [
    "### Expressões Geradoras"
   ]
  },
  {
   "cell_type": "code",
   "execution_count": 18,
   "id": "63116935",
   "metadata": {},
   "outputs": [],
   "source": [
    "colchetes = [x for x in range(10)]"
   ]
  },
  {
   "cell_type": "code",
   "execution_count": 19,
   "id": "afeae514",
   "metadata": {},
   "outputs": [
    {
     "data": {
      "text/plain": [
       "[0, 1, 2, 3, 4, 5, 6, 7, 8, 9]"
      ]
     },
     "execution_count": 19,
     "metadata": {},
     "output_type": "execute_result"
    }
   ],
   "source": [
    "colchetes"
   ]
  },
  {
   "cell_type": "code",
   "execution_count": 20,
   "id": "0552ba8d",
   "metadata": {},
   "outputs": [],
   "source": [
    "parenteses = (x for x in range(10))"
   ]
  },
  {
   "cell_type": "code",
   "execution_count": 21,
   "id": "121d07b1",
   "metadata": {},
   "outputs": [
    {
     "data": {
      "text/plain": [
       "<generator object <genexpr> at 0x0000027D8E890D40>"
      ]
     },
     "execution_count": 21,
     "metadata": {},
     "output_type": "execute_result"
    }
   ],
   "source": [
    "parenteses"
   ]
  },
  {
   "cell_type": "markdown",
   "id": "a0996562",
   "metadata": {},
   "source": [
    "Não existe compreensão de tuplas em Python. Quando colocamos uma expressão semelhante a uma compreensão de lista entre parênteses, estamos criando uma expressão geradora."
   ]
  },
  {
   "cell_type": "code",
   "execution_count": 26,
   "id": "c5852662",
   "metadata": {},
   "outputs": [],
   "source": [
    "gerador_quadrados = (x**2 for x in range(20))"
   ]
  },
  {
   "cell_type": "code",
   "execution_count": 27,
   "id": "a2a2860a",
   "metadata": {},
   "outputs": [
    {
     "name": "stdout",
     "output_type": "stream",
     "text": [
      "0\n",
      "1\n",
      "4\n",
      "9\n",
      "16\n",
      "25\n",
      "36\n",
      "49\n",
      "64\n",
      "81\n",
      "100\n",
      "121\n",
      "144\n",
      "169\n",
      "196\n",
      "225\n",
      "256\n",
      "289\n",
      "324\n",
      "361\n"
     ]
    }
   ],
   "source": [
    "for quadrado in gerador_quadrados:\n",
    "    print(quadrado)"
   ]
  },
  {
   "cell_type": "code",
   "execution_count": 29,
   "id": "26d2ef89",
   "metadata": {},
   "outputs": [
    {
     "name": "stdout",
     "output_type": "stream",
     "text": [
      "[1, 3, 5, 7, 9, 11, 13, 15, 17, 19]\n"
     ]
    }
   ],
   "source": [
    "# Modificando a geradora:\n",
    "gerador_impares = (x for x in range(20) if x % 2 == 1)\n",
    "\n",
    "lista_impares = list(gerador_impares)\n",
    "\n",
    "print(lista_impares)"
   ]
  },
  {
   "cell_type": "code",
   "execution_count": 30,
   "id": "a3b3bf00",
   "metadata": {},
   "outputs": [
    {
     "data": {
      "text/plain": [
       "<generator object <genexpr> at 0x0000027D8EDC2400>"
      ]
     },
     "execution_count": 30,
     "metadata": {},
     "output_type": "execute_result"
    }
   ],
   "source": [
    "gerador_impares"
   ]
  },
  {
   "cell_type": "code",
   "execution_count": 31,
   "id": "80fecef5",
   "metadata": {},
   "outputs": [
    {
     "name": "stdout",
     "output_type": "stream",
     "text": [
      "0\n",
      "1\n",
      "4\n",
      "9\n",
      "16\n",
      "25\n",
      "36\n",
      "49\n",
      "64\n",
      "81\n",
      "[]\n"
     ]
    }
   ],
   "source": [
    "# Após modificação não podemos utilizar nosso gerador uma segunda vez!!!\n",
    "gerador_quadrados = (x**2 for x in range(10))\n",
    "\n",
    "for quadrado in gerador_quadrados:\n",
    "    print(quadrado)\n",
    "\n",
    "lista_quadrados = list(gerador_quadrados)\n",
    "print(lista_quadrados) # imprime uma lista vazia"
   ]
  },
  {
   "cell_type": "markdown",
   "id": "050b6aae",
   "metadata": {},
   "source": [
    "Para entender porque o resultado foi uma lista vazia, precisamos entender a diferença entre um iterável e um iterador em Python."
   ]
  },
  {
   "cell_type": "markdown",
   "id": "8699a2d4",
   "metadata": {},
   "source": [
    "### Iteráveis e iteradores\n",
    "\n",
    "Um iterável é um objeto em Python que podemos percorrer utilizando um loop. Geralmente pensamos em iteráveis como algum tipo de coleção. Listas, tuplas, dicionários e strings são todos iteráveis.\n",
    "\n",
    "Porém, o que o loop realmente utiliza não é o iterável, mas o iterador. Quando tentamos percorrer um iterável, é criado um iterador a partir dele utilizando a função iter. Em cada passo da iteração (do loop), a função next é chamada, e ela irá retornar o próximo elemento. Quando os elementos são esgotados, ela irá lançar a exceção (uma espécie de erro sinalizado, que estudaremos em um capítulo futuro) StopIteration."
   ]
  },
  {
   "cell_type": "code",
   "execution_count": 33,
   "id": "40d94573",
   "metadata": {},
   "outputs": [
    {
     "name": "stdout",
     "output_type": "stream",
     "text": [
      "<list_iterator object at 0x0000027D8D4BF640>\n",
      "1\n",
      "3\n",
      "5\n",
      "8\n"
     ]
    }
   ],
   "source": [
    "lista = [1, 3, 5,8]\n",
    "\n",
    "iterador = iter(lista)\n",
    "\n",
    "print(iterador)\n",
    "\n",
    "print(next(iterador))\n",
    "print(next(iterador))\n",
    "print(next(iterador))\n",
    "print(next(iterador)) # Erro: StopIteration"
   ]
  },
  {
   "cell_type": "markdown",
   "id": "76e4b6b5",
   "metadata": {},
   "source": [
    "Uma diferença fundamental entre um iterável e um iterador é que o iterador já possui todos os exemplos salvos em algum lugar. O iterável não. Ele irá gerar/buscar cada elemento no momento que a função next é chamada, e ele não irá salvar os elementos anteriores.\n",
    "\n",
    "Uma expressão geradora não é um iterável, ela é um iterador. Uma lista é um iterável."
   ]
  },
  {
   "cell_type": "code",
   "execution_count": 34,
   "id": "c42e4321",
   "metadata": {},
   "outputs": [
    {
     "name": "stdout",
     "output_type": "stream",
     "text": [
      "0\n",
      "1\n",
      "2\n",
      "3\n",
      "4\n"
     ]
    },
    {
     "ename": "StopIteration",
     "evalue": "",
     "output_type": "error",
     "traceback": [
      "\u001b[1;31m---------------------------------------------------------------------------\u001b[0m",
      "\u001b[1;31mStopIteration\u001b[0m                             Traceback (most recent call last)",
      "\u001b[1;32mc:\\Users\\leticia.santos\\Desktop\\Ada\\aula02 - Compreensão de listas e Expressões geradoras.ipynb Célula 64\u001b[0m line \u001b[0;36m8\n\u001b[0;32m      <a href='vscode-notebook-cell:/c%3A/Users/leticia.santos/Desktop/Ada/aula02%20-%20Compreens%C3%A3o%20de%20listas%20e%20Express%C3%B5es%20geradoras.ipynb#Y114sZmlsZQ%3D%3D?line=5'>6</a>\u001b[0m \u001b[39mprint\u001b[39m(\u001b[39mnext\u001b[39m(gerador))\n\u001b[0;32m      <a href='vscode-notebook-cell:/c%3A/Users/leticia.santos/Desktop/Ada/aula02%20-%20Compreens%C3%A3o%20de%20listas%20e%20Express%C3%B5es%20geradoras.ipynb#Y114sZmlsZQ%3D%3D?line=6'>7</a>\u001b[0m \u001b[39mprint\u001b[39m(\u001b[39mnext\u001b[39m(gerador))\n\u001b[1;32m----> <a href='vscode-notebook-cell:/c%3A/Users/leticia.santos/Desktop/Ada/aula02%20-%20Compreens%C3%A3o%20de%20listas%20e%20Express%C3%B5es%20geradoras.ipynb#Y114sZmlsZQ%3D%3D?line=7'>8</a>\u001b[0m \u001b[39mprint\u001b[39m(\u001b[39mnext\u001b[39;49m(gerador)) \u001b[39m# Erro: StopIteration\u001b[39;00m\n",
      "\u001b[1;31mStopIteration\u001b[0m: "
     ]
    }
   ],
   "source": [
    "gerador = (x for x in range(5))\n",
    "\n",
    "print(next(gerador))\n",
    "print(next(gerador))\n",
    "print(next(gerador))\n",
    "print(next(gerador))\n",
    "print(next(gerador))\n",
    "print(next(gerador)) # Erro: StopIteration"
   ]
  },
  {
   "cell_type": "markdown",
   "id": "4a935837",
   "metadata": {},
   "source": [
    "### Funções geradoras\n",
    "\n",
    "Expressões geradoras são uma forma compacta para criar iteradores. Uma das formas mais completas envolve utilizar programação orientada a objeto para definir uma classe com alguns métodos específicos para que os objetos se comportem como geradores. A outra envolve utilizar uma função geradora.\n",
    "\n",
    "Funções geradoras lembram bastante funções convencionais, mas em vez de return elas utilizarão a palavra yield.\n",
    "\n",
    "A função irá retornar um iterador, e iremos sempre chamar next passando esse gerador.\n",
    "\n",
    "Cada vez que o next for chamado, o iterador irá executar a função até encontrar o yield. O estado da função é salvo e o valor do yield é retornado. Quando chamarmos next novamente, a função irá executar do ponto que parou até encontrar novamente o yield. Quando não houver mais yield, a exceção StopIteraction será lançada."
   ]
  },
  {
   "cell_type": "code",
   "execution_count": 36,
   "id": "7fc61af2",
   "metadata": {},
   "outputs": [
    {
     "name": "stdout",
     "output_type": "stream",
     "text": [
      "1\n",
      "3\n",
      "8\n",
      "5\n"
     ]
    }
   ],
   "source": [
    "#yeld tem varias vezes, toda vez que chama ele traz o próximo, como se fosse o next, ele guarda o ultimo elemento executado\n",
    "def funcao_geradora():\n",
    "    yield 1 \n",
    "    yield 3\n",
    "    yield 8 #coloquei esse para nao dar o erro Stop\n",
    "    yield 5\n",
    "\n",
    "meu_gerador = funcao_geradora()\n",
    "\n",
    "print(next(meu_gerador))\n",
    "print(next(meu_gerador))\n",
    "print(next(meu_gerador))\n",
    "print(next(meu_gerador)) # erro: StopIteration\n",
    "\n",
    "#essa ferramenta, na pratica é mais usada para debug de código"
   ]
  },
  {
   "cell_type": "code",
   "execution_count": 37,
   "id": "c149f641",
   "metadata": {},
   "outputs": [
    {
     "name": "stdout",
     "output_type": "stream",
     "text": [
      "0\n",
      "1\n",
      "2\n",
      "3\n",
      "4\n",
      "5\n",
      "6\n",
      "7\n",
      "8\n",
      "9\n"
     ]
    }
   ],
   "source": [
    "def gerador_de_sequencia(limite:int): #ta querendo dizer que esse limite deve ser inteiro\n",
    "    contador = 0\n",
    "    while contador < limite:\n",
    "        yield contador #vai manter o retorno\n",
    "        contador += 1 #incrementa\n",
    "\n",
    "iterador_sequencia = gerador_de_sequencia(10)\n",
    "\n",
    "for x in iterador_sequencia:\n",
    "    print(x)"
   ]
  },
  {
   "cell_type": "markdown",
   "id": "bf68ae49",
   "metadata": {},
   "source": [
    "#### Observação:\n",
    "\n",
    "Caso tenha interesse em se aprofundar nos assuntos deste capítulo e ver alguns experimentos envolvendo tamanho e performance de cada um, segue algumas boas referências:\n",
    "\n",
    "https://djangostars.com/blog/list-comprehensions-and-generator-expressions/\n",
    "\n",
    "https://towardsdatascience.com/comprehensions-and-generator-expression-in-python-2ae01c48fc50\n",
    "\n",
    "https://docs.python.org/3/howto/functional.html#generator-expressions-and-list-comprehensions"
   ]
  },
  {
   "cell_type": "markdown",
   "id": "f07e7b60",
   "metadata": {},
   "source": [
    "## Exercícios\n",
    "\n",
    "Uitlize sempre list comprehension nos exercícios abaixo:"
   ]
  },
  {
   "cell_type": "markdown",
   "id": "bbf78252",
   "metadata": {},
   "source": [
    "1) Crie uma função que entregue todos os números de 1 a n divisíveis por 7"
   ]
  },
  {
   "cell_type": "code",
   "execution_count": 50,
   "id": "a5858d4a",
   "metadata": {},
   "outputs": [
    {
     "name": "stdout",
     "output_type": "stream",
     "text": [
      "[7, 14, 21, 28]\n"
     ]
    }
   ],
   "source": [
    "a = []\n",
    "def teste (a):\n",
    "    \n",
    "    for numero in range(1,31):\n",
    "        if numero %7 ==0:\n",
    "            a.append(numero)\n",
    "teste(a)   \n",
    "print(a)     "
   ]
  },
  {
   "cell_type": "code",
   "execution_count": 41,
   "id": "6537cf65",
   "metadata": {},
   "outputs": [
    {
     "data": {
      "text/plain": [
       "[7, 14, 21, 28]"
      ]
     },
     "execution_count": 41,
     "metadata": {},
     "output_type": "execute_result"
    }
   ],
   "source": [
    "a= [numero for numero in range (1,30) if numero %7 ==0]\n",
    "a"
   ]
  },
  {
   "cell_type": "markdown",
   "id": "b22be38e",
   "metadata": {},
   "source": [
    "2) Crie uma função que entregue todos os números de 1 a n que tenham o dígito 3."
   ]
  },
  {
   "cell_type": "code",
   "execution_count": 52,
   "id": "8b91e296",
   "metadata": {},
   "outputs": [
    {
     "data": {
      "text/plain": [
       "[3, 13, 23, 30]"
      ]
     },
     "execution_count": 52,
     "metadata": {},
     "output_type": "execute_result"
    }
   ],
   "source": [
    "n=31\n",
    "d=3\n",
    "ans=[]\n",
    "for numero in range (n):\n",
    "    if str(d) in str(numero):\n",
    "        ans.append(numero)\n",
    "\n",
    "ans        "
   ]
  },
  {
   "cell_type": "code",
   "execution_count": 65,
   "id": "acb804fd",
   "metadata": {},
   "outputs": [
    {
     "data": {
      "text/plain": [
       "[3, 13, 23, 30, 31, 32, 33, 34, 35, 36, 37, 38, 39]"
      ]
     },
     "execution_count": 65,
     "metadata": {},
     "output_type": "execute_result"
    }
   ],
   "source": [
    "def digito(d:int, n:int):\n",
    "    ans = [int(numero) for numero in range (n) if str(d) in str(numero)]\n",
    "    return ans\n",
    "digito (3,40)\n",
    "#int(digito)\n",
    "#type(d)"
   ]
  },
  {
   "cell_type": "markdown",
   "id": "0cbbb11a",
   "metadata": {},
   "source": [
    "3) Crie uma função que conte o número de espaços existentes em uma string qualquer"
   ]
  },
  {
   "cell_type": "code",
   "execution_count": 67,
   "id": "00143cf5",
   "metadata": {},
   "outputs": [
    {
     "name": "stdout",
     "output_type": "stream",
     "text": [
      "O número de espaços na frase é: 5\n"
     ]
    }
   ],
   "source": [
    "def contar_espacos(texto):\n",
    "    contador = 0\n",
    "    for caractere in texto:\n",
    "        if caractere == ' ':\n",
    "            contador += 1\n",
    "    return contador\n",
    "\n",
    "# Exemplo de uso\n",
    "frase = \"eu tenho  5 espaços \"\n",
    "numero_de_espacos = contar_espacos(frase)\n",
    "print(f\"O número de espaços na frase é: {numero_de_espacos}\")\n"
   ]
  },
  {
   "cell_type": "code",
   "execution_count": 68,
   "id": "4871e11a",
   "metadata": {},
   "outputs": [
    {
     "name": "stdout",
     "output_type": "stream",
     "text": [
      "O número de espaços na frase é: 5\n"
     ]
    }
   ],
   "source": [
    "def contar_espacos(texto):\n",
    "    return texto.count(' ')\n",
    "\n",
    "# Exemplo de uso\n",
    "frase = \"Esta é uma frase de exemplo.\"\n",
    "numero_de_espacos = contar_espacos(frase)\n",
    "print(f\"O número de espaços na frase é: {numero_de_espacos}\")\n"
   ]
  },
  {
   "cell_type": "code",
   "execution_count": 69,
   "id": "ca6ada04",
   "metadata": {},
   "outputs": [
    {
     "data": {
      "text/plain": [
       "5"
      ]
     },
     "execution_count": 69,
     "metadata": {},
     "output_type": "execute_result"
    }
   ],
   "source": [
    "string_qq = ' leticia dos santos vai conseguir'\n",
    "contador =0\n",
    "for espaco in string_qq:\n",
    "    if espaco == ' ':\n",
    "        contador +=1\n",
    "contador        \n"
   ]
  },
  {
   "cell_type": "code",
   "execution_count": 71,
   "id": "982b3d1f",
   "metadata": {},
   "outputs": [
    {
     "data": {
      "text/plain": [
       "5"
      ]
     },
     "execution_count": 71,
     "metadata": {},
     "output_type": "execute_result"
    }
   ],
   "source": [
    "espacos = [1 for espaco in string_qq if espaco == ' ']\n",
    "sum(espacos)"
   ]
  },
  {
   "cell_type": "markdown",
   "id": "e72ae236",
   "metadata": {},
   "source": [
    "4) Crie uma função que forneça todas as consoantes existentes na string “Yellow Yaks like yelling and yawning and yesturday they yodled while eating yuky yams”"
   ]
  },
  {
   "cell_type": "code",
   "execution_count": 72,
   "id": "c8801858",
   "metadata": {},
   "outputs": [
    {
     "name": "stdout",
     "output_type": "stream",
     "text": [
      "Consoantes na frase: YllwYkslkyllngndywnngndystrdythyydldwhltngykyyms\n"
     ]
    }
   ],
   "source": [
    "def consoantes_na_string(frase):\n",
    "    consoantes = [letra for letra in frase if letra.isalpha() and letra.lower() not in 'aeiou']\n",
    "    return consoantes\n",
    "\n",
    "# Exemplo de uso\n",
    "frase = \"Yellow Yaks like yelling and yawning and yesturday they yodled while eating yuky yams\"\n",
    "consoantes_encontradas = consoantes_na_string(frase)\n",
    "print(\"Consoantes na frase:\", ''.join(consoantes_encontradas))\n"
   ]
  },
  {
   "cell_type": "code",
   "execution_count": null,
   "id": "ddbe07d1",
   "metadata": {},
   "outputs": [],
   "source": []
  },
  {
   "cell_type": "markdown",
   "id": "76b9d918",
   "metadata": {},
   "source": [
    "5) Crie uma função que consiga informar quais são os números repetidos em duas listas de inteiros dadas"
   ]
  },
  {
   "cell_type": "markdown",
   "id": "55422081",
   "metadata": {},
   "source": [
    "6) Crie uma função que retorne todas as palavaras de uma sentença qualquer que tenham menos de 4 letras"
   ]
  },
  {
   "cell_type": "code",
   "execution_count": 75,
   "id": "004912f0",
   "metadata": {},
   "outputs": [
    {
     "name": "stdout",
     "output_type": "stream",
     "text": [
      "Palavras com menos de 4 letras: ['que', 'bom', 'né.']\n"
     ]
    }
   ],
   "source": [
    "def palavras_menos_4_letras(sentenca):\n",
    "    palavras = sentenca.split()\n",
    "    palavras_menos_4 = [palavra for palavra in palavras if len(palavra) < 4]\n",
    "    return palavras_menos_4\n",
    "\n",
    "# Exemplo de uso\n",
    "sentenca = \"Esta tudo dando certo nessa quarta feira que bom né.\"\n",
    "palavras_encontradas = palavras_menos_4_letras(sentenca)\n",
    "print(\"Palavras com menos de 4 letras:\", palavras_encontradas)\n"
   ]
  },
  {
   "cell_type": "code",
   "execution_count": 76,
   "id": "d9170576",
   "metadata": {},
   "outputs": [
    {
     "name": "stdout",
     "output_type": "stream",
     "text": [
      "9.0\n",
      "Ana\n"
     ]
    }
   ],
   "source": [
    "exemplo = {'Ana': 9.0, 'Bruno': 8.0, 'Carla': 8.0, 'Daniel': 6.5, 'Emília': 7.0}\n",
    "valor_mx = max(exemplo.values())\n",
    "print (valor_mx)\n",
    "for key, value in exemplo.items():\n",
    "    if value == valor_mx:\n",
    "        print(key)"
   ]
  },
  {
   "cell_type": "markdown",
   "id": "14e40935",
   "metadata": {},
   "source": [
    "7) Crie uma função que consiga pegar a chave (key) com maior valor dentre todas as chaves existentes"
   ]
  },
  {
   "cell_type": "code",
   "execution_count": 79,
   "id": "56cc9101",
   "metadata": {},
   "outputs": [
    {
     "name": "stdout",
     "output_type": "stream",
     "text": [
      "9.0\n",
      "Ana\n",
      "Leticia\n"
     ]
    }
   ],
   "source": [
    "exemplo = {'Ana': 9.0, 'Leticia': 9.0,'Bruno': 8.0, 'Carla': 8.0, 'Daniel': 6.5, 'Emília': 7.0}\n",
    "valor_mx = max(exemplo.values())\n",
    "print (valor_mx)\n",
    "for key, value in exemplo.items():\n",
    "    if value == valor_mx:\n",
    "        print(key)"
   ]
  }
 ],
 "metadata": {
  "kernelspec": {
   "display_name": "Python 3 (ipykernel)",
   "language": "python",
   "name": "python3"
  },
  "language_info": {
   "codemirror_mode": {
    "name": "ipython",
    "version": 3
   },
   "file_extension": ".py",
   "mimetype": "text/x-python",
   "name": "python",
   "nbconvert_exporter": "python",
   "pygments_lexer": "ipython3",
   "version": "3.9.12"
  }
 },
 "nbformat": 4,
 "nbformat_minor": 5
}
