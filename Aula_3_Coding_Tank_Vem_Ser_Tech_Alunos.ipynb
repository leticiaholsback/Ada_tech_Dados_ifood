{
  "cells": [
    {
      "cell_type": "markdown",
      "metadata": {
        "id": "view-in-github",
        "colab_type": "text"
      },
      "source": [
        "<a href=\"https://colab.research.google.com/github/leticiaholsback/Ada_tech_Dados_ifood/blob/main/Aula_3_Coding_Tank_Vem_Ser_Tech_Alunos.ipynb\" target=\"_parent\"><img src=\"https://colab.research.google.com/assets/colab-badge.svg\" alt=\"Open In Colab\"/></a>"
      ]
    },
    {
      "cell_type": "markdown",
      "id": "72cae5bf",
      "metadata": {
        "id": "72cae5bf"
      },
      "source": [
        "<div style=\"background-color: lightgreen; padding: 18px;\">\n",
        "    <h1> Coding Tank | Vem Ser Tech\n",
        "</div>"
      ]
    },
    {
      "cell_type": "markdown",
      "id": "36ea7563",
      "metadata": {
        "id": "36ea7563"
      },
      "source": [
        "<div style=\"background-color: lightblue; padding: 10px;\">\n",
        "    <h2> Tópicos da aula - AULA 3\n",
        "</div>\n",
        "    \n",
        "- Estruturas de repetição\n",
        "- Loop while"
      ]
    },
    {
      "cell_type": "markdown",
      "id": "e339739b",
      "metadata": {
        "id": "e339739b"
      },
      "source": [
        "Na aula passada fizemos o programa que a pessoa digitava 2 números e a gente dizia o maior. E se quisermos saber qual o maior entre 3 valores? E se quisermos 10? E se quisermos 100? Conseguimos fazer?"
      ]
    },
    {
      "cell_type": "code",
      "execution_count": null,
      "id": "3a4661d9",
      "metadata": {
        "id": "3a4661d9"
      },
      "outputs": [],
      "source": []
    },
    {
      "cell_type": "code",
      "execution_count": null,
      "id": "370b6564",
      "metadata": {
        "id": "370b6564"
      },
      "outputs": [],
      "source": []
    },
    {
      "cell_type": "markdown",
      "id": "3fe6e9ae",
      "metadata": {
        "id": "3fe6e9ae"
      },
      "source": [
        "# Estruturas de Repetição\n",
        "\n",
        "Um **if** não garante que eu consigo validar o valor de um campo pois se o usuário não acertar na 2a vez, ele seguirá inválido"
      ]
    },
    {
      "cell_type": "code",
      "execution_count": null,
      "id": "3045daff",
      "metadata": {
        "id": "3045daff"
      },
      "outputs": [],
      "source": []
    },
    {
      "cell_type": "code",
      "execution_count": null,
      "id": "df254367",
      "metadata": {
        "id": "df254367"
      },
      "outputs": [],
      "source": []
    },
    {
      "cell_type": "code",
      "execution_count": null,
      "id": "f51d6cc9",
      "metadata": {
        "id": "f51d6cc9"
      },
      "outputs": [],
      "source": []
    },
    {
      "cell_type": "markdown",
      "id": "04103985",
      "metadata": {
        "id": "04103985"
      },
      "source": [
        "__Obs.__: SEMPRE que eu trabalho com estrutura de repetição (**WHILE**) é NECESSÁRIO que a condição seja alterada dentro do while, SENÃO entro em looping infinito"
      ]
    },
    {
      "cell_type": "markdown",
      "id": "541e4a88",
      "metadata": {
        "id": "541e4a88"
      },
      "source": [
        "<div style=\"background-color: red; padding: 10px;\">\n",
        "    <h2> CUIDADO AO RODAR - é um loop infinito\n",
        "</div>"
      ]
    },
    {
      "cell_type": "code",
      "execution_count": null,
      "id": "44c98aa4",
      "metadata": {
        "id": "44c98aa4"
      },
      "outputs": [],
      "source": []
    },
    {
      "cell_type": "code",
      "execution_count": null,
      "id": "dda1fea4",
      "metadata": {
        "id": "dda1fea4"
      },
      "outputs": [],
      "source": []
    },
    {
      "cell_type": "markdown",
      "id": "b5f4c9f2",
      "metadata": {
        "id": "b5f4c9f2"
      },
      "source": [
        "__Exemplo:__ Some todos os números de 0 a um número digitado pelo usuário"
      ]
    },
    {
      "cell_type": "code",
      "execution_count": null,
      "id": "85036462",
      "metadata": {
        "id": "85036462"
      },
      "outputs": [],
      "source": []
    },
    {
      "cell_type": "code",
      "execution_count": null,
      "id": "559afceb",
      "metadata": {
        "id": "559afceb"
      },
      "outputs": [],
      "source": []
    },
    {
      "cell_type": "code",
      "execution_count": null,
      "id": "6a859a59",
      "metadata": {
        "id": "6a859a59"
      },
      "outputs": [],
      "source": []
    },
    {
      "cell_type": "code",
      "execution_count": null,
      "id": "298d9fe4",
      "metadata": {
        "id": "298d9fe4"
      },
      "outputs": [],
      "source": []
    },
    {
      "cell_type": "markdown",
      "id": "a54f1580",
      "metadata": {
        "id": "a54f1580"
      },
      "source": [
        "Uma outra forma de incrementar um variável"
      ]
    },
    {
      "cell_type": "code",
      "execution_count": null,
      "id": "410cca56",
      "metadata": {
        "id": "410cca56"
      },
      "outputs": [],
      "source": []
    },
    {
      "cell_type": "markdown",
      "id": "fff96799",
      "metadata": {
        "id": "fff96799"
      },
      "source": [
        "# Alguns comandos de manipulação de fluxo\n",
        "\n",
        "Comando **break**: Utilizado para interromper a execução de um laço (for ou while) antes que ele termine normalmente.\n",
        "\n",
        "```python\n",
        "for item in sequencia:\n",
        "    if condicao:\n",
        "        break\n",
        "```\n",
        "\n",
        "Comando **continue**: Utilizado para pular a iteração atual de um laço e continuar com a próxima iteração.\n",
        "\n",
        "\n",
        "```python\n",
        "for item in sequencia:\n",
        "    if condicao:\n",
        "        continue\n",
        "    # O código aqui será executado apenas se a condição for falsa\n",
        "```\n",
        "   \n",
        "Comando **pass**: É usado como espaço reservado para código futuro. Não faz nada e é frequentemente usado para evitar erros de sintaxe em blocos vazios.\n",
        "\n",
        "```python\n",
        "if condicao:\n",
        "    pass  # código será adicionado posteriormente\n",
        "\n",
        "```"
      ]
    },
    {
      "cell_type": "markdown",
      "id": "07ed062c",
      "metadata": {
        "id": "07ed062c"
      },
      "source": [
        "Neste exercício, você deve criar um jogo simples em que o jogador tenta adivinhar um número secreto. O jogo continua até o jogador adivinhar corretamente ou desistir."
      ]
    },
    {
      "cell_type": "code",
      "execution_count": null,
      "id": "ac1011cc",
      "metadata": {
        "id": "ac1011cc"
      },
      "outputs": [],
      "source": []
    },
    {
      "cell_type": "markdown",
      "id": "bc0eb076",
      "metadata": {
        "id": "bc0eb076"
      },
      "source": [
        "**Bora praticar!**\n",
        "\n",
        "1) Escreva um programa que solicite um número inteiro e imprima na tela todos os números de 1 até o número digitado, separado por espaços.  \n",
        "_Exemplo_  \n",
        "número digitado: 5  \n",
        "resultado esperado: 1 2 3 4 5\n",
        "\n",
        "2) Faça um programa que mostre o fatorial de um número digitado.  \n",
        "_Exemplo_  \n",
        "número digitado: 5  \n",
        "resultado esperado: 120\n",
        "\n",
        "3) Faça um programa que imprima a tabuada do 9 na tela (entre 1 e 10). Insira a conta, por exemplo, 9 * 1 = 9, sendo cada um dos valores em uma linha diferente.\n",
        "\n",
        "4) Faça um programa em que o usuário digite números quaisquer e encerrará no momento em que o valor 0 seja digitado. Ao final diga qual foi o maior número digitado.\n",
        "\n",
        "5) Faça um script que peça para o usuário digitar a idade, o salário e o sexo de uma pessoa até que as entradas digitadas sejam válidas.  \n",
        "  \n",
        "a. Idade: entre 0 e 150  \n",
        "b. Salário: maior que 0  \n",
        "c. Gênero: M, F ou Outro  \n",
        "  \n",
        "Por último imprima os dados recebidos do usuário.\n",
        "\n",
        "6) Faça uma calculadora. O usuário deve inserir qual a operação matemática ele deseja realizar e logo em seguida os dois números. O programa deve finalizar apenas quando o usuário digitar a opção \"sair\" no momento de escolha da operação matemática.\n",
        "\n"
      ]
    },
    {
      "cell_type": "markdown",
      "id": "647738a0",
      "metadata": {
        "id": "647738a0"
      },
      "source": [
        "## Resolução\n",
        "\n",
        "Coloque a solução dos exercícios abaixo no dontpad.com/turma922\n",
        "\n",
        "\n",
        "1) Escreva um programa que solicite um número inteiro e imprima na tela todos os números de 1 até o número digitado, separado por espaços.  \n",
        "_Exemplo_  \n",
        "número digitado: 5  \n",
        "resultado esperado: 1 2 3 4 5"
      ]
    },
    {
      "cell_type": "code",
      "execution_count": 7,
      "id": "9cbf8278",
      "metadata": {
        "colab": {
          "base_uri": "https://localhost:8080/"
        },
        "id": "9cbf8278",
        "outputId": "3a2dc560-fbf1-4c9e-e708-c0e7304db5e0"
      },
      "outputs": [
        {
          "output_type": "stream",
          "name": "stdout",
          "text": [
            "Digite um numero inteiro: 10\n",
            "1 2 3 4 5 6 7 8 9 10\n"
          ]
        }
      ],
      "source": [
        "num= int(input('Digite um numero inteiro: '))\n",
        "\n",
        "if num < 1:\n",
        "    print(\"Por favor, digite um número inteiro positivo.\")\n",
        "else:\n",
        "    contador = 1\n",
        "    while contador <= num:\n",
        "        print(contador, end=\" \" if contador < num else \"\\n\")\n",
        "        contador += 1\n"
      ]
    },
    {
      "cell_type": "code",
      "execution_count": 8,
      "id": "5aa4bc81",
      "metadata": {
        "colab": {
          "base_uri": "https://localhost:8080/"
        },
        "id": "5aa4bc81",
        "outputId": "f0b3c702-5805-4647-9502-a80cbd5ff320"
      },
      "outputs": [
        {
          "output_type": "stream",
          "name": "stdout",
          "text": [
            "Digite um número inteiro: 10\n",
            "1\n",
            "2\n",
            "3\n",
            "4\n",
            "5\n",
            "6\n",
            "7\n",
            "8\n",
            "9\n",
            "10\n"
          ]
        }
      ],
      "source": [
        "numero = int(input(\"Digite um número inteiro: \"))\n",
        "\n",
        "if numero < 1:\n",
        "    print(\"Por favor, digite um número inteiro positivo.\")\n",
        "else:\n",
        "    contador = 1\n",
        "    while contador <= numero:\n",
        "        print(contador)\n",
        "        contador += 1"
      ]
    },
    {
      "cell_type": "code",
      "source": [
        "numero = int(input(\"Digite um número inteiro: \"))\n",
        "contador =1\n",
        "string = ''\n",
        "\n",
        "while contador <= numero:\n",
        "  string = string + str(contador)\n",
        "  print (contador)\n"
      ],
      "metadata": {
        "id": "HBVyQOwcZSlr"
      },
      "id": "HBVyQOwcZSlr",
      "execution_count": null,
      "outputs": []
    },
    {
      "cell_type": "code",
      "source": [
        "numero = int(input(\"Digite um número inteiro: \"))\n",
        "contador = 0\n",
        "\n",
        "while contador < numero:\n",
        "  contador = contador +1\n",
        "  print (contador, end= '')"
      ],
      "metadata": {
        "colab": {
          "base_uri": "https://localhost:8080/"
        },
        "id": "VB95bZrwag8H",
        "outputId": "e71aa982-8ead-4c6e-ba34-321621c475ed"
      },
      "id": "VB95bZrwag8H",
      "execution_count": 29,
      "outputs": [
        {
          "output_type": "stream",
          "name": "stdout",
          "text": [
            "Digite um número inteiro: 3\n",
            "123"
          ]
        }
      ]
    },
    {
      "cell_type": "markdown",
      "id": "c3814815",
      "metadata": {
        "id": "c3814815"
      },
      "source": [
        "2) Faça um programa que mostre o fatorial de um número digitado.  \n",
        "_Exemplo_  \n",
        "número digitado: 5  \n",
        "resultado esperado: 120"
      ]
    },
    {
      "cell_type": "code",
      "execution_count": 19,
      "id": "dd7e7095",
      "metadata": {
        "colab": {
          "base_uri": "https://localhost:8080/"
        },
        "id": "dd7e7095",
        "outputId": "4aadda71-311f-4c98-8f97-99c28bf06980"
      },
      "outputs": [
        {
          "output_type": "stream",
          "name": "stdout",
          "text": [
            "Digite um número inteiro: 5\n",
            "1\n",
            "2\n",
            "3\n",
            "4\n",
            "5\n"
          ]
        }
      ],
      "source": [
        "num = int(input(\"Digite um número inteiro: \"))\n",
        "contador = 1\n",
        "\n",
        "while contador <= num:\n",
        "    print (contador)\n",
        "    contador += 1\n",
        "\n",
        "#aqui nao somou"
      ]
    },
    {
      "cell_type": "code",
      "execution_count": 20,
      "id": "25de583b",
      "metadata": {
        "colab": {
          "base_uri": "https://localhost:8080/"
        },
        "id": "25de583b",
        "outputId": "72f26ebf-0f45-45b1-bc56-bdec1cf96b9e"
      },
      "outputs": [
        {
          "output_type": "stream",
          "name": "stdout",
          "text": [
            "Digite um número inteiro: 5\n",
            "O fatorial de 5 é 120\n"
          ]
        }
      ],
      "source": [
        "num = int(input(\"Digite um número inteiro: \"))\n",
        "fatorial = 1\n",
        "contador = 1\n",
        "\n",
        "while contador <= num:\n",
        "    fatorial *= contador\n",
        "    contador += 1\n",
        "\n",
        "print(f\"O fatorial de {num} é {fatorial}\")\n"
      ]
    },
    {
      "cell_type": "code",
      "source": [
        "num = int(input(\"Digite um número inteiro: \"))\n",
        "fatorial = 1\n",
        "\n",
        "while num >0:\n",
        "    fatorial = fatorial * num\n",
        "    num = num -1\n",
        "\n",
        "\n",
        "print(f\"O fatorial de {num} é {fatorial}\")\n"
      ],
      "metadata": {
        "colab": {
          "base_uri": "https://localhost:8080/"
        },
        "id": "zY5FXwUgbD82",
        "outputId": "dad1145c-ccfe-45ee-cf41-6d04f04da3c7"
      },
      "id": "zY5FXwUgbD82",
      "execution_count": 30,
      "outputs": [
        {
          "output_type": "stream",
          "name": "stdout",
          "text": [
            "Digite um número inteiro: 12\n",
            "O fatorial de 0 é 479001600\n"
          ]
        }
      ]
    },
    {
      "cell_type": "markdown",
      "id": "8edfd4c8",
      "metadata": {
        "id": "8edfd4c8"
      },
      "source": [
        "3) Faça um programa que imprima a tabuada do 9 na tela (entre 1 e 10). Insira a conta, por exemplo, 9 * 1 = 9, sendo cada um dos valores em uma linha diferente."
      ]
    },
    {
      "cell_type": "code",
      "execution_count": 22,
      "id": "e8ef1a39",
      "metadata": {
        "colab": {
          "base_uri": "https://localhost:8080/"
        },
        "id": "e8ef1a39",
        "outputId": "b28210f5-ec09-4aad-fc62-e61933453d34"
      },
      "outputs": [
        {
          "output_type": "stream",
          "name": "stdout",
          "text": [
            "9 * 1 = 9\n",
            "9 * 2 = 18\n",
            "9 * 3 = 27\n",
            "9 * 4 = 36\n",
            "9 * 5 = 45\n",
            "9 * 6 = 54\n",
            "9 * 7 = 63\n",
            "9 * 8 = 72\n",
            "9 * 9 = 81\n",
            "9 * 10 = 90\n"
          ]
        }
      ],
      "source": [
        "num = 9\n",
        "contador = 1\n",
        "\n",
        "while contador <= 10:\n",
        "    resultado = num * contador\n",
        "    print(f\"{num} * {contador} = {resultado}\")\n",
        "    contador += 1\n",
        "\n"
      ]
    },
    {
      "cell_type": "code",
      "execution_count": 33,
      "id": "62598d86",
      "metadata": {
        "colab": {
          "base_uri": "https://localhost:8080/"
        },
        "id": "62598d86",
        "outputId": "8898d760-ff4a-4325-9d1b-e21382b8a66f"
      },
      "outputs": [
        {
          "output_type": "stream",
          "name": "stdout",
          "text": [
            "9 * 1 = 9\n",
            "9 * 2 = 18\n",
            "9 * 3 = 27\n",
            "9 * 4 = 36\n",
            "9 * 5 = 45\n",
            "9 * 6 = 54\n",
            "9 * 7 = 63\n",
            "9 * 8 = 72\n",
            "9 * 9 = 81\n",
            "9 * 10 = 90\n"
          ]
        }
      ],
      "source": [
        "num = 1\n",
        "\n",
        "while num <= 10:\n",
        "    resultado = num * 9\n",
        "    print(f\"9 * {num} = {resultado}\")\n",
        "    num += 1"
      ]
    },
    {
      "cell_type": "markdown",
      "id": "c07b56c5",
      "metadata": {
        "id": "c07b56c5"
      },
      "source": [
        "4) Faça um programa em que o usuário digite números quaisquer e encerrará no momento em que o valor 0 seja digitado. Ao final diga qual foi o maior número digitado."
      ]
    },
    {
      "cell_type": "code",
      "execution_count": 34,
      "id": "55403094",
      "metadata": {
        "colab": {
          "base_uri": "https://localhost:8080/"
        },
        "id": "55403094",
        "outputId": "79b3b357-d63e-48ca-ada3-5ce74e5d459a"
      },
      "outputs": [
        {
          "output_type": "stream",
          "name": "stdout",
          "text": [
            "Digite um número positivo ou 0 para encerrar): 74\n",
            "Digite um número positivo ou 0 para encerrar): -5\n",
            "Digite um número positivo ou 0 para encerrar): 85\n",
            "Digite um número positivo ou 0 para encerrar): 2\n",
            "Digite um número positivo ou 0 para encerrar): 0\n",
            "O maior número digitado foi: 85.0\n"
          ]
        }
      ],
      "source": [
        "maior_num = 0\n",
        "while True:\n",
        "    num = float(input(\"Digite um número positivo ou 0 para encerrar): \"))\n",
        "\n",
        "    if num == 0:\n",
        "        break\n",
        "\n",
        "    if num > maior_num:\n",
        "        maior_num = num\n",
        "\n",
        "if maior_num == 0:\n",
        "    print(\"Nenhum número foi digitado.\")\n",
        "else:\n",
        "    print(f\"O maior número digitado foi: {maior_num}\")\n"
      ]
    },
    {
      "cell_type": "code",
      "source": [
        "maior_numero = 0  # Inicializa a variável para armazenar o maior número\n",
        "\n",
        "while True:\n",
        "    numero = float(input(\"Digite um número (ou 0 para encerrar): \"))\n",
        "\n",
        "    if numero == 0:\n",
        "        break  # Sai do loop quando 0 é digitado\n",
        "\n",
        "    if numero > maior_numero:\n",
        "        maior_numero = numero  # Atualiza o maior número, se necessário\n",
        "\n",
        "if maior_numero == 0:\n",
        "    print(\"Nenhum número foi digitado.\")\n",
        "else:\n",
        "    print(f\"O maior número digitado foi: {maior_numero}\")"
      ],
      "metadata": {
        "id": "91Dqjct5YdEu"
      },
      "id": "91Dqjct5YdEu",
      "execution_count": null,
      "outputs": []
    },
    {
      "cell_type": "markdown",
      "id": "7fd3a936",
      "metadata": {
        "id": "7fd3a936"
      },
      "source": [
        "5) Faça um script que peça para o usuário digitar a idade, o salário e o sexo de uma pessoa até que as entradas digitadas sejam válidas.  \n",
        "  \n",
        "a. Idade: entre 0 e 150  \n",
        "b. Salário: maior que 0  \n",
        "c. Gênero: M, F ou Outro  \n",
        "  \n",
        "Por último imprima os dados recebidos do usuário."
      ]
    },
    {
      "cell_type": "code",
      "execution_count": 36,
      "id": "406e274f",
      "metadata": {
        "colab": {
          "base_uri": "https://localhost:8080/"
        },
        "id": "406e274f",
        "outputId": "d814b703-bc35-464a-8ca1-b879c17d0f22"
      },
      "outputs": [
        {
          "output_type": "stream",
          "name": "stdout",
          "text": [
            "Digite sua idade: 20\n",
            "Digite seu salário: 1980\n",
            "Como você identifica seu sexo entre as opções M, F ou Outros:m\n",
            "Idade valida!\n",
            "Salário válido\n",
            "Informação válida\n",
            "Idade é 20 o salário é 1980.0 e o sexo M\n"
          ]
        }
      ],
      "source": [
        "idade = int(input('Digite sua idade: '))\n",
        "salario = float(input('Digite seu salário: '))\n",
        "sexo = input('Como você identifica seu sexo entre as opções M, F ou Outros:').upper()\n",
        "\n",
        "if idade >= 0 and idade <= 150:\n",
        "    print('Idade valida!')\n",
        "else:\n",
        "    print('Idade inválida')\n",
        "\n",
        "if salario > 0 :\n",
        "    print('Salário válido')\n",
        "else:\n",
        "    print('Salário inválido')\n",
        "\n",
        "if (sexo == 'M') or (sexo == 'F') or (sexo == 'OUTROS'):\n",
        "    print('Informação válida')\n",
        "else:\n",
        "    print('Sexo inválido')\n",
        "print(f'Idade é {idade} o salário é R${salario} e o sexo {sexo}')"
      ]
    },
    {
      "cell_type": "code",
      "execution_count": null,
      "id": "1f0b318d",
      "metadata": {
        "id": "1f0b318d"
      },
      "outputs": [],
      "source": []
    },
    {
      "cell_type": "markdown",
      "id": "51a71f3b",
      "metadata": {
        "id": "51a71f3b"
      },
      "source": [
        "6) Faça uma calculadora. O usuário deve inserir qual a operação matemática ele deseja realizar e logo em seguida os dois números. O programa deve finalizar apenas quando o usuário digitar a opção \"sair\" no momento de escolha da operação matemática."
      ]
    },
    {
      "cell_type": "code",
      "execution_count": 49,
      "id": "649be3f1",
      "metadata": {
        "colab": {
          "base_uri": "https://localhost:8080/"
        },
        "id": "649be3f1",
        "outputId": "32b596d7-0ffe-4ec6-f8cb-c713137543b1"
      },
      "outputs": [
        {
          "output_type": "stream",
          "name": "stdout",
          "text": [
            "Bem vindo a Calculadora\n",
            "\n",
            "Qual operção deseja fazer: \n",
            "A: Adição \n",
            "B: Subtração \n",
            "C:Divisão \n",
            "D: Multiplicação \n",
            "Ou Digite (sair)d\n",
            "\n",
            "Digite o primeiro numero: 8\n",
            "Digite o Segundo numero: 2\n",
            "Voce escolheu Adição e 8 * 2 = 16\n",
            "Qual operção deseja fazer: \n",
            "A: Adição \n",
            "B: Subtração \n",
            "C:Divisão \n",
            "D: Multiplicação \n",
            "Ou Digite (sair)sair\n",
            "\n"
          ]
        }
      ],
      "source": [
        "print ('Bem vindo a Calculadora')\n",
        "print ('')\n",
        "\n",
        "while True:\n",
        "  opr= input('Qual operção deseja fazer: \\nA: Adição \\nB: Subtração \\nC:Divisão \\nD: Multiplicação \\nOu Digite (sair)').lower()\n",
        "  print('')\n",
        "  if opr == 'sair':\n",
        "      break\n",
        "  num_1= int(input('Digite o primeiro numero: '))\n",
        "  num_2= int(input('Digite o Segundo numero: '))\n",
        "\n",
        "\n",
        "  if(opr == 'a'):\n",
        "      adicao=num_1 + num_2\n",
        "      print (f'Voce escolheu Adição e {num_1}+{num_2} = {adicao}')\n",
        "  if(opr == 'b'):\n",
        "      sub=num_1 - num_2\n",
        "      print (f'Voce escolheu Subtração e {num_1}-{num_2} = {sub}')\n",
        "  if(opr == 'c'):\n",
        "      divisao=num_1  / num_2\n",
        "      print (f'Voce escolheu Divisão e {num_1}/{num_2} = {divisao}')\n",
        "  if(opr == 'd'):\n",
        "      multi=num_1 * num_2\n",
        "      print (f'Voce escolheu Adição e {num_1} * {num_2} = {multi}')\n",
        "  #break\n",
        "\n",
        "\n",
        "\n",
        "\n"
      ]
    },
    {
      "cell_type": "code",
      "execution_count": null,
      "id": "97c92312",
      "metadata": {
        "id": "97c92312"
      },
      "outputs": [],
      "source": []
    }
  ],
  "metadata": {
    "kernelspec": {
      "display_name": "Python 3 (ipykernel)",
      "language": "python",
      "name": "python3"
    },
    "language_info": {
      "codemirror_mode": {
        "name": "ipython",
        "version": 3
      },
      "file_extension": ".py",
      "mimetype": "text/x-python",
      "name": "python",
      "nbconvert_exporter": "python",
      "pygments_lexer": "ipython3",
      "version": "3.9.6"
    },
    "colab": {
      "provenance": [],
      "include_colab_link": true
    }
  },
  "nbformat": 4,
  "nbformat_minor": 5
}