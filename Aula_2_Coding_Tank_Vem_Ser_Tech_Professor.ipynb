{
  "cells": [
    {
      "cell_type": "markdown",
      "metadata": {
        "id": "view-in-github",
        "colab_type": "text"
      },
      "source": [
        "<a href=\"https://colab.research.google.com/github/leticiaholsback/Ada_tech_Dados_ifood/blob/main/Aula_2_Coding_Tank_Vem_Ser_Tech_Professor.ipynb\" target=\"_parent\"><img src=\"https://colab.research.google.com/assets/colab-badge.svg\" alt=\"Open In Colab\"/></a>"
      ]
    },
    {
      "cell_type": "markdown",
      "id": "bd275093",
      "metadata": {
        "id": "bd275093"
      },
      "source": [
        "<div style=\"background-color: lightgreen; padding: 18px;\">\n",
        "    <h1> Coding Tank | Vem Ser Tech\n",
        "</div>"
      ]
    },
    {
      "cell_type": "markdown",
      "id": "cf23d9e5",
      "metadata": {
        "id": "cf23d9e5"
      },
      "source": [
        "<div style=\"background-color: lightblue; padding: 10px;\">\n",
        "    <h2> Tópicos da aula - AULA 2\n",
        "</div>\n",
        "\n",
        "- Operadores lógicos de conjunção\n",
        "- Estrutura condicional e controle de fluxo\n",
        "- Comando if\n",
        "- Comando else\n",
        "- Comando elif\n",
        "- Funções de string (introdutório) - opcional\n",
        "\n"
      ]
    },
    {
      "cell_type": "markdown",
      "id": "643dc92b",
      "metadata": {
        "id": "643dc92b"
      },
      "source": [
        "Imagine que o critério de aprovação em uma escola seja a média superior a 7.0 e presença superior a 75%. Neste caso, o aluno precisa atender a ambos os critérios para ser aprovado. Se ele tirou uma ótima nota, mas faltou demais, será reprovado. Se ele compareceu a todas as aulas, mas teve notas baixas, idem.\n"
      ]
    },
    {
      "cell_type": "code",
      "execution_count": null,
      "id": "66ebea14",
      "metadata": {
        "id": "66ebea14",
        "outputId": "ba86efb4-cb2a-4000-a272-ea3928c9d37e"
      },
      "outputs": [
        {
          "name": "stdout",
          "output_type": "stream",
          "text": [
            "Digite a média do aluno (0 a 10): 7\n",
            "Digite a presença do aluno (0 a 1): 0.8\n",
            "Aprovado por média? True\n",
            "Aprovado por presença? True\n"
          ]
        }
      ],
      "source": [
        "media = float(input('Digite a média do aluno (0 a 10): '))\n",
        "presenca = float(input('Digite a presença do aluno (0 a 1): '))\n",
        "\n",
        "print('Aprovado por média?', media > 7)\n",
        "print('Aprovado por presença?', presenca >= 0.75)"
      ]
    },
    {
      "cell_type": "code",
      "execution_count": null,
      "id": "b9f7c2fe",
      "metadata": {
        "id": "b9f7c2fe",
        "outputId": "e6c768a4-4060-4da6-acb6-dd5e1611475a"
      },
      "outputs": [
        {
          "name": "stdout",
          "output_type": "stream",
          "text": [
            "Digite a média do aluno (0 a 10): 5\n",
            "Digite a presença do aluno (0 a 1): 0\n",
            "False\n"
          ]
        }
      ],
      "source": [
        "media = float(input('Digite a média do aluno (0 a 10): '))\n",
        "presenca = float(input('Digite a presença do aluno (0 a 1): '))\n",
        "\n",
        "print((media > 7) or (presenca > 0.75))"
      ]
    },
    {
      "cell_type": "code",
      "execution_count": null,
      "id": "31f125fa",
      "metadata": {
        "id": "31f125fa",
        "outputId": "ba60f87b-1300-4694-c1a1-8f4e3cdfcdbb"
      },
      "outputs": [
        {
          "name": "stdout",
          "output_type": "stream",
          "text": [
            "Digite a média do aluno (0 a 10): 10\n",
            "Digite a presença do aluno (0 a 1): .9\n",
            "O aluno foi aprovado?  True\n"
          ]
        }
      ],
      "source": [
        "media = float(input('Digite a média do aluno (0 a 10): '))\n",
        "presenca = float(input('Digite a presença do aluno (0 a 1): '))\n",
        "\n",
        "aprovado = media > 7 and presenca > 0.75\n",
        "\n",
        "print('O aluno foi aprovado? ', aprovado)"
      ]
    },
    {
      "cell_type": "markdown",
      "id": "3b8a9808",
      "metadata": {
        "id": "3b8a9808"
      },
      "source": [
        "**Operadores lógicos**\n",
        "\n",
        "|     Operador    |                            Definição                           |     Operação    |\n",
        "|:---------------:|:--------------------------------------------------------------:|:---------------:|\n",
        "|        and      |     Retorna   True se ambas as afirmações forem verdadeiras    |         e       |\n",
        "|        or       |       Retorna   True se uma das afirmações for verdadeira      |        ou       |\n",
        "|        not      |          retorna   Falso se o resultado for verdadeiro         |        não      |\n",
        "\n",
        "\n",
        "**AND** é uma conjunção lógica e o **OR** é uma disjunção lógica. O **not** é a negação lógica.\n",
        "\n",
        "| *A*   | *B*   | *A and B* | *A or B* | *not A* |\n",
        "|-------|-------|-----------|----------|---------|\n",
        "| False | False | False     | False    | True    |\n",
        "| False | True  | False     | True     | True    |\n",
        "| True  | False | False     | True     | False   |\n",
        "| True  | True  | True      | True     | False   |\n",
        "\n",
        "\n",
        "Será que conseguimos escrever o problema acima de uma forma mais fácil?\n",
        "\n",
        "## Estrutura condicional\n",
        "\n",
        "- if\n",
        "\n",
        "Obs.: Python é uma linguagem indentada"
      ]
    },
    {
      "cell_type": "code",
      "execution_count": null,
      "id": "71d58acd",
      "metadata": {
        "id": "71d58acd",
        "outputId": "7ae11488-e760-46f5-db6e-c28413e48909"
      },
      "outputs": [
        {
          "name": "stdout",
          "output_type": "stream",
          "text": [
            "Linha 1\n",
            "Linha 3\n",
            "Linha 4\n",
            "Linha 5\n"
          ]
        }
      ],
      "source": [
        "print('Linha 1')\n",
        "if True: ## Se o que esta na frente do if é true, eu rodo a linha de dentro\n",
        "    print('Linha 3')\n",
        "    print('Linha 4')\n",
        "print('Linha 5')"
      ]
    },
    {
      "cell_type": "code",
      "execution_count": null,
      "id": "a72439a6",
      "metadata": {
        "id": "a72439a6",
        "outputId": "d0807839-da09-4cc4-9507-f804ab5d5bef"
      },
      "outputs": [
        {
          "name": "stdout",
          "output_type": "stream",
          "text": [
            "Linha 1\n",
            "Linha 5\n"
          ]
        }
      ],
      "source": [
        "print('Linha 1')\n",
        "if False: ## Se o que esta na frente do if é true, eu rodo a linha de dentro\n",
        "    print('Linha 3')\n",
        "    print('Linha 4')\n",
        "print('Linha 5')"
      ]
    },
    {
      "cell_type": "code",
      "execution_count": null,
      "id": "8574bec8",
      "metadata": {
        "id": "8574bec8"
      },
      "outputs": [],
      "source": []
    },
    {
      "cell_type": "code",
      "execution_count": null,
      "id": "9070e790",
      "metadata": {
        "id": "9070e790",
        "outputId": "3cd2f2d4-2c4e-4183-f316-8d78171622e5"
      },
      "outputs": [
        {
          "name": "stdout",
          "output_type": "stream",
          "text": [
            "Digite nota 1: 5\n",
            "Digite nota 2: 7\n",
            "a média é 6.0\n"
          ]
        }
      ],
      "source": [
        "## Faça um programa que pede a nota de 2 provas e verifica se o aluno passou por nota\n",
        "\n",
        "nota_1 = float(input('Digite nota 1: '))\n",
        "nota_2 = float(input('Digite nota 2: '))\n",
        "\n",
        "media = (nota_1 + nota_2)  / 2\n",
        "\n",
        "if media >= 7:\n",
        "    print('Aprovado')\n",
        "\n",
        "print(f'a média é {media}')"
      ]
    },
    {
      "cell_type": "markdown",
      "id": "21328f19",
      "metadata": {
        "id": "21328f19"
      },
      "source": [
        "Está faltando alguma coisa"
      ]
    },
    {
      "cell_type": "code",
      "execution_count": null,
      "id": "7375b6a2",
      "metadata": {
        "id": "7375b6a2",
        "outputId": "69ee3556-ccad-4546-d74a-6a0b2d9096d4"
      },
      "outputs": [
        {
          "name": "stdout",
          "output_type": "stream",
          "text": [
            "Digite nota 1: 5\n",
            "Digite nota 2: 6\n",
            "Reprovado\n",
            "a média é 5.5\n"
          ]
        }
      ],
      "source": [
        "nota_1 = float(input('Digite nota 1: '))\n",
        "nota_2 = float(input('Digite nota 2: '))\n",
        "\n",
        "media = (nota_1 + nota_2)  / 2\n",
        "\n",
        "if media >= 7:\n",
        "    print('Aprovado')\n",
        "\n",
        "if media < 7:\n",
        "    print('Reprovado')\n",
        "\n",
        "print(f'a média é {media}')"
      ]
    },
    {
      "cell_type": "markdown",
      "id": "223d6399",
      "metadata": {
        "id": "223d6399"
      },
      "source": [
        "Quando tenho duas condições e se uma a acontece a outra não acontece, dizemos que elas são mutuamente excludentes (ou acontece um, ou acontece o outro)\n",
        "\n",
        "- else"
      ]
    },
    {
      "cell_type": "code",
      "execution_count": null,
      "id": "92cef6ca",
      "metadata": {
        "id": "92cef6ca",
        "outputId": "a86539b7-b31e-49d8-a7a0-5c178f6e620d"
      },
      "outputs": [
        {
          "name": "stdout",
          "output_type": "stream",
          "text": [
            "Digite nota 1: 8\n",
            "Digite nota 2: 9\n",
            "Aprovado\n",
            "a média é 8.5\n"
          ]
        }
      ],
      "source": [
        "nota_1 = float(input('Digite nota 1: '))\n",
        "nota_2 = float(input('Digite nota 2: '))\n",
        "\n",
        "media = (nota_1 + nota_2)  / 2\n",
        "\n",
        "if media >= 7:\n",
        "    print('Aprovado')\n",
        "else:\n",
        "    print('Reprovado')\n",
        "\n",
        "print(f'a média é {media}')"
      ]
    },
    {
      "cell_type": "markdown",
      "id": "36c4da02",
      "metadata": {
        "id": "36c4da02"
      },
      "source": [
        "Vamos acrescentar a presença para a aprovação do aluno"
      ]
    },
    {
      "cell_type": "code",
      "execution_count": null,
      "id": "8fc754ec",
      "metadata": {
        "id": "8fc754ec",
        "outputId": "80e090b5-cab8-4db9-d2eb-ca345bdc50b6"
      },
      "outputs": [
        {
          "name": "stdout",
          "output_type": "stream",
          "text": [
            "Digite a nota 1: 8\n",
            "Digite a nota 2: 7\n",
            "Digite a presenca (0 a 1): 0.8\n",
            "Aprovado\n",
            "\n",
            "\n",
            "A média é 7.5 e a presenca é 80.0%\n"
          ]
        }
      ],
      "source": [
        "nota_1 = float(input('Digite a nota 1: '))\n",
        "nota_2 = float(input('Digite a nota 2: '))\n",
        "presenca = float(input('Digite a presenca (0 a 1): '))\n",
        "\n",
        "media = (nota_1 + nota_2) / 2\n",
        "\n",
        "if (media >= 7) and (presenca >= 0.75):\n",
        "    print('Aprovado')\n",
        "else:\n",
        "    print('Reprovado')\n",
        "\n",
        "print('\\n')\n",
        "print(f'A média é {media} e a presenca é {100 * presenca}%')"
      ]
    },
    {
      "cell_type": "markdown",
      "id": "9df03ba0",
      "metadata": {
        "id": "9df03ba0"
      },
      "source": [
        "A estrutura é essa (por enquanto):\n",
        "\n",
        "```python\n",
        "if (condicao): # condição\n",
        "    to do  # só executa se a condição for verdadeira\n",
        "else:\n",
        "    to do\n",
        "```  \n",
        "\n",
        "\n",
        "\n",
        "\n",
        "\n",
        "Vamos incluir a recuperação nesse exemplo (para facilitar, vamos deixar de lado a presença). O aluno tem direito a recuperação se a média é maior que 5.\n",
        "\n",
        "- se media for maior ou igual a 7: aprovado\n",
        "- se a media for maior ou igual a 5 e menor que 7: recuperacao\n",
        "- se a media for menor que 5: reprovado"
      ]
    },
    {
      "cell_type": "code",
      "execution_count": null,
      "id": "334fd649",
      "metadata": {
        "id": "334fd649",
        "outputId": "a963dd4d-fee6-4599-af2e-27346fd45d6a"
      },
      "outputs": [
        {
          "name": "stdout",
          "output_type": "stream",
          "text": [
            "Digite a nota 1: 4\n",
            "Digite a nota 2: 5\n",
            "Reprovado\n",
            "A média é 4.5\n"
          ]
        }
      ],
      "source": [
        "nota_1 = float(input('Digite a nota 1: '))\n",
        "nota_2 = float(input('Digite a nota 2: '))\n",
        "\n",
        "media = (nota_1 + nota_2) / 2\n",
        "\n",
        "if media >= 7:\n",
        "    print('Aprovado')\n",
        "if media >= 5 and media < 7:\n",
        "    print('Recuperacao')\n",
        "if media < 5:\n",
        "    print('Reprovado')\n",
        "\n",
        "print(f'A média é {media}')"
      ]
    },
    {
      "cell_type": "markdown",
      "id": "b9e9e46f",
      "metadata": {
        "id": "b9e9e46f"
      },
      "source": [
        "Se a condição antes for falsa testo a de baixo\n",
        "- elif"
      ]
    },
    {
      "cell_type": "code",
      "execution_count": null,
      "id": "2d84dbe3",
      "metadata": {
        "id": "2d84dbe3",
        "outputId": "c5d08d91-430c-41fb-f99e-9707d2bb1096"
      },
      "outputs": [
        {
          "name": "stdout",
          "output_type": "stream",
          "text": [
            "Digite a nota 1: 4\n",
            "Digite a nota 2: 5\n",
            "Reprovado\n",
            "A média é 4.5\n"
          ]
        }
      ],
      "source": [
        "nota_1 = float(input('Digite a nota 1: '))\n",
        "nota_2 = float(input('Digite a nota 2: '))\n",
        "\n",
        "media = (nota_1 + nota_2) / 2\n",
        "\n",
        "if (media >= 7):\n",
        "    print('Aprovado')\n",
        "elif (media >= 5): ## No python o else if é junto => elif\n",
        "    print('Recuperação')\n",
        "else:\n",
        "    print('Reprovado')\n",
        "\n",
        "print(f'A média é {media}')"
      ]
    },
    {
      "cell_type": "code",
      "execution_count": null,
      "id": "d22c248e",
      "metadata": {
        "id": "d22c248e",
        "outputId": "ba1aaddc-c40a-4ba5-e12c-e25e504c9404"
      },
      "outputs": [
        {
          "name": "stdout",
          "output_type": "stream",
          "text": [
            "Digite a média: 7\n",
            "Aprovado\n"
          ]
        }
      ],
      "source": [
        "media = float(input('Digite a média: '))\n",
        "\n",
        "if media >= 7:\n",
        "    print('Aprovado')\n",
        "elif media >= 5:\n",
        "    print('Recuperacao')\n",
        "elif media >= 4.5:\n",
        "    print('Foi quase hein?')\n",
        "else:\n",
        "    print('Reprovado')"
      ]
    },
    {
      "cell_type": "code",
      "execution_count": null,
      "id": "5225a4e0",
      "metadata": {
        "id": "5225a4e0",
        "outputId": "22d0b0e5-8ddc-41ad-884a-a0a23e6ddab5"
      },
      "outputs": [
        {
          "name": "stdout",
          "output_type": "stream",
          "text": [
            "Digite a média: 7.5\n",
            "Aprovado\n"
          ]
        }
      ],
      "source": [
        "media = float(input('Digite a média: '))\n",
        "\n",
        "if media >= 9.5:\n",
        "    print('Parabéns! Notão!')\n",
        "elif media >= 7:\n",
        "    print('Aprovado')\n",
        "elif media >= 5:\n",
        "    print('Recuperacao')\n",
        "elif media >= 4.5:\n",
        "    print('Foi quase hein?')\n",
        "else:\n",
        "    print('Reprovado')"
      ]
    },
    {
      "cell_type": "code",
      "execution_count": null,
      "id": "fce2225f",
      "metadata": {
        "id": "fce2225f",
        "outputId": "5db1ddf1-f7e3-4c20-8582-3ed513430ee9"
      },
      "outputs": [
        {
          "name": "stdout",
          "output_type": "stream",
          "text": [
            "Digite sua idade: 18\n",
            "Você quer uma cerveja?sim\n",
            "SIM\n",
            "Toma aqui\n"
          ]
        }
      ],
      "source": [
        "## Faça um programa que oferece uma cerveja para alguem, mas só se for maior de idade\n",
        "\n",
        "idade = int(input('Digite sua idade: '))\n",
        "\n",
        "if(idade >= 18):\n",
        "    pergunta = input('Você quer uma cerveja?').upper()\n",
        "    print(pergunta)\n",
        "    if(pergunta == 'SIM'):\n",
        "        print('Toma aqui')\n",
        "    else:\n",
        "        print('Tem refri também')\n",
        "else:\n",
        "    print('Você é menor de idade e não pode beber')"
      ]
    },
    {
      "cell_type": "markdown",
      "id": "1441f388",
      "metadata": {
        "id": "1441f388"
      },
      "source": [
        "![image.png](attachment:image.png)"
      ]
    },
    {
      "cell_type": "markdown",
      "id": "0471ee21",
      "metadata": {
        "id": "0471ee21"
      },
      "source": [
        "## Saiba mais\n",
        "**Funções de strings (só uma introdução para facilitar em alguns exercícios)**\n",
        "\n",
        "Temos algumas funções prontas para alterar a capitalização das letras. Uma delas é a função upper, que transforma todas as letras da string original em maiúsculas:"
      ]
    },
    {
      "cell_type": "code",
      "execution_count": null,
      "id": "e24c3d9f",
      "metadata": {
        "id": "e24c3d9f",
        "outputId": "ea9c4bd0-3cb1-4d88-9649-ab99cc829fc9"
      },
      "outputs": [
        {
          "name": "stdout",
          "output_type": "stream",
          "text": [
            "VAMOS PROGRAMAR\n"
          ]
        }
      ],
      "source": [
        "frase = 'vAmOs PrOgRaMaR'\n",
        "maiuscula = frase.upper()\n",
        "print(maiuscula) # Resultado: 'VAMOS PROGRAMAR'"
      ]
    },
    {
      "cell_type": "markdown",
      "id": "234041d6",
      "metadata": {
        "id": "234041d6"
      },
      "source": [
        "Analogamente, temos a função lower para transformar todas as letras em minúsculas:"
      ]
    },
    {
      "cell_type": "code",
      "execution_count": null,
      "id": "c1ab913c",
      "metadata": {
        "id": "c1ab913c",
        "outputId": "4c7392e9-3f4f-419d-d86c-19b98ced31e9"
      },
      "outputs": [
        {
          "name": "stdout",
          "output_type": "stream",
          "text": [
            "vamos programar\n"
          ]
        }
      ],
      "source": [
        "frase = 'vAmOs PrOgRaMaR'\n",
        "minusculo = frase.lower()\n",
        "print(minusculo) # Resultado: 'vamos programar'"
      ]
    },
    {
      "cell_type": "markdown",
      "id": "7b3e877e",
      "metadata": {
        "id": "7b3e877e"
      },
      "source": [
        "Também é possível formatar a string inteira como um nome próprio: primeira letra de cada palavra maiúscula, todo o restante em minúscula. Para isso temos a função title:"
      ]
    },
    {
      "cell_type": "code",
      "execution_count": null,
      "id": "91d7ba1c",
      "metadata": {
        "id": "91d7ba1c",
        "outputId": "7ddad102-c575-491c-d2be-f21bb58b967f"
      },
      "outputs": [
        {
          "name": "stdout",
          "output_type": "stream",
          "text": [
            "Vamos Programar\n"
          ]
        }
      ],
      "source": [
        "frase = 'vAmOs PrOgRaMaR'\n",
        "titulo = frase.title()\n",
        "print(titulo) # Resultado: 'Vamos Programar'"
      ]
    },
    {
      "cell_type": "markdown",
      "id": "8422ef8c",
      "metadata": {
        "id": "8422ef8c"
      },
      "source": [
        "E, por fim, é possível tratar nossa string como uma frase gramaticalmente correta: primeira letra maiúscula, todo o resto minúsculo. Essa função é a capitalize:"
      ]
    },
    {
      "cell_type": "code",
      "execution_count": null,
      "id": "52c0383c",
      "metadata": {
        "id": "52c0383c",
        "outputId": "0d42c8ed-e2a4-4466-9903-317f2b2a4f24"
      },
      "outputs": [
        {
          "name": "stdout",
          "output_type": "stream",
          "text": [
            "Vamos programar\n"
          ]
        }
      ],
      "source": [
        "frase = 'vAmOs PrOgRaMaR'\n",
        "resultado = frase.capitalize()\n",
        "print(resultado) # Resultado: 'Vamos programar'"
      ]
    },
    {
      "cell_type": "markdown",
      "id": "93b4c1f2",
      "metadata": {
        "id": "93b4c1f2"
      },
      "source": [
        "Uma utilidade para essas funções é padronizar entrada de usuário. Quando pedimos para o usuário digitar 'sim' caso ele deseje fazer algo, ele pode digitar 'SIM', 'sim', 'Sim', 'sIm', 'siM', 'SIm', 'sIM' ou 'SiM'. Prever todas essas condições em uma condicional pode ser bastante trabalhoso, ou mesmo impossível. Imagine se fosse uma string de várias letras... Porém, podemos forçar um padrão para a entrada do usuário e comparar com esse padrão:"
      ]
    },
    {
      "cell_type": "code",
      "execution_count": null,
      "id": "0b519b7a",
      "metadata": {
        "id": "0b519b7a",
        "outputId": "fe28a71d-4870-479f-ad35-8747868a45da"
      },
      "outputs": [
        {
          "name": "stdout",
          "output_type": "stream",
          "text": [
            "Digite \"sim\" se você aceita os termos de uso: simm\n",
            "Você precisa aceitar os termos\n"
          ]
        }
      ],
      "source": [
        "usuario = input('Digite \"sim\" se você aceita os termos de uso: ')\n",
        "if usuario.upper() == 'SIM':\n",
        "    print('Seja bem vindo')\n",
        "else:\n",
        "    print('Você precisa aceitar os termos')"
      ]
    },
    {
      "cell_type": "code",
      "execution_count": null,
      "id": "3dca5bdb",
      "metadata": {
        "id": "3dca5bdb",
        "outputId": "81fd6e85-a759-487d-ecf5-9fa045d0abb6"
      },
      "outputs": [
        {
          "name": "stdout",
          "output_type": "stream",
          "text": [
            "Digite \"sim\" se você aceita os termos de uso: 1\n",
            "Você precisa aceitar os termos\n"
          ]
        }
      ],
      "source": [
        "usuario = input('Digite \"sim\" se você aceita os termos de uso: ').upper()\n",
        "if usuario == 'SIM':\n",
        "    print('Seja bem vindo')\n",
        "else:\n",
        "    print('Você precisa aceitar os termos')"
      ]
    },
    {
      "cell_type": "markdown",
      "id": "b723013f",
      "metadata": {
        "id": "b723013f"
      },
      "source": [
        "Qualquer forma que o usuário digite a palavra 'sim' será aceita.\n",
        "\n",
        "Se quiser confirmar se dentro de uma string qo valor é um número, usamos o .isdigit(). Assim como tem o .isalpha()."
      ]
    },
    {
      "cell_type": "code",
      "execution_count": null,
      "id": "b6e84769",
      "metadata": {
        "id": "b6e84769",
        "outputId": "214001aa-a96a-435b-eb6e-f184fdb4ac49"
      },
      "outputs": [
        {
          "data": {
            "text/plain": [
              "True"
            ]
          },
          "execution_count": 65,
          "metadata": {},
          "output_type": "execute_result"
        }
      ],
      "source": [
        "valor = '5'\n",
        "\n",
        "valor.isdigit()"
      ]
    },
    {
      "cell_type": "code",
      "execution_count": null,
      "id": "479f4a50",
      "metadata": {
        "id": "479f4a50",
        "outputId": "cc1d7a4c-b8aa-4c69-e399-3a4bc16a0912"
      },
      "outputs": [
        {
          "name": "stdout",
          "output_type": "stream",
          "text": [
            "Digite a idade: 19\n"
          ]
        }
      ],
      "source": [
        "idade = input('Digite a idade: ')\n",
        "if(idade.isdigit()):\n",
        "    idade_convertida = int(idade)\n",
        "else:\n",
        "    print('Idade não é numerica')"
      ]
    },
    {
      "cell_type": "code",
      "execution_count": null,
      "id": "69c684ae",
      "metadata": {
        "id": "69c684ae",
        "outputId": "918d8a31-8c8a-4fc1-fab4-12c387788707"
      },
      "outputs": [
        {
          "data": {
            "text/plain": [
              "False"
            ]
          },
          "execution_count": 68,
          "metadata": {},
          "output_type": "execute_result"
        }
      ],
      "source": [
        "valor = '5'\n",
        "\n",
        "valor.isalpha()"
      ]
    },
    {
      "cell_type": "code",
      "execution_count": null,
      "id": "b9d34b6e",
      "metadata": {
        "id": "b9d34b6e",
        "outputId": "1006b75a-8e67-4100-f163-805f10b47f45"
      },
      "outputs": [
        {
          "data": {
            "text/plain": [
              "True"
            ]
          },
          "execution_count": 82,
          "metadata": {},
          "output_type": "execute_result"
        }
      ],
      "source": [
        "valor = 'texto123'\n",
        "\n",
        "valor.isalnum()"
      ]
    },
    {
      "cell_type": "code",
      "execution_count": null,
      "id": "baab7bd9",
      "metadata": {
        "id": "baab7bd9",
        "outputId": "00137e0f-11ed-4f22-ba27-b65637b3f742"
      },
      "outputs": [
        {
          "data": {
            "text/plain": [
              "True"
            ]
          },
          "execution_count": 77,
          "metadata": {},
          "output_type": "execute_result"
        }
      ],
      "source": [
        "valor = 'texto'\n",
        "valor.isalpha()"
      ]
    },
    {
      "cell_type": "markdown",
      "id": "8fc83d82",
      "metadata": {
        "id": "8fc83d82"
      },
      "source": [
        "Extra: O que será que acontece quando usamos o operador + com duas strings?"
      ]
    },
    {
      "cell_type": "code",
      "execution_count": null,
      "id": "8bd9f1c8",
      "metadata": {
        "id": "8bd9f1c8"
      },
      "outputs": [],
      "source": []
    },
    {
      "cell_type": "code",
      "execution_count": null,
      "id": "ead12e59",
      "metadata": {
        "id": "ead12e59",
        "outputId": "5c792b81-9e89-4d43-d6d7-96ea1d22a70f"
      },
      "outputs": [
        {
          "data": {
            "text/plain": [
              "'AB'"
            ]
          },
          "execution_count": 74,
          "metadata": {},
          "output_type": "execute_result"
        }
      ],
      "source": [
        "\"A\" + \"B\" ## Concatena quando é string"
      ]
    },
    {
      "cell_type": "markdown",
      "id": "94c64b66",
      "metadata": {
        "id": "94c64b66"
      },
      "source": [
        "**Bora praticar**\n",
        "\n",
        "1) Faça um programa que peça a idade do usuário e imprima se ele é maior ou menor de 18 anos.\n",
        "\n",
        "2) Faça um programa que peça um número e mostre se ele é positivo ou negativo. Alternativa: acrescentar nulo\n",
        "\n",
        "3) Faça um programa que peça dois números e mostre o maior deles.\n",
        "\n",
        "4) Faça um programa que leia a validade das informações:\n",
        "\n",
        "a. Idade: entre 0 e 150;\n",
        "\n",
        "b. Salário: maior que 0;\n",
        "\n",
        "c. Sexo: M, F ou Outro;\n",
        "\n",
        "O programa deve imprimir uma mensagem de erro para cada informação inválida.\n",
        "\n",
        "5) Escreva um programa que peça a nota de 3 provas de um aluno e verifique se ele passou ou não de ano.\n",
        "Obs.: O aluno irá passar de ano se sua média for maior que 6.\n",
        "\n",
        "6) Faça um programa que mostre uma questão de múltipla escolha com 5 opções (letras a, b, c, d, e).\n",
        "Sabendo a resposta certa, o programa deve receber a opção do usuário e informar a letra que o usuário marcou e se a resposta está certa ou errada.\n",
        "\n",
        "7)\n",
        "Vamos fazer um programa para verificar quem é o assassino de um crime. Para descobrir o assassino,\n",
        "a polícia faz um pequeno questionário com 5 perguntas\n",
        "onde a resposta só pode ser sim ou não:\n",
        "\n",
        "a. Mora perto da vítima?\n",
        "\n",
        "b. Já trabalhou com a vítima?\n",
        "\n",
        "c. Telefonou para a vítima?\n",
        "\n",
        "d. Esteve no local do crime?\n",
        "\n",
        "e. Devia para a vítima?\n",
        "\n",
        "Cada resposta sim dá um ponto para o suspeito. A polícia considera que os suspeitos com 5 pontos são os assassinos, com 4 a 3 pontos\n",
        "são cúmplices e 2 pontos são apenas suspeitos, necessitando outras investigações. Valores iguais ou abaixo de 1 são liberados.'''\n",
        "\n",
        "8) Um produto vai sofrer aumento de acordo com a Tabela 1 abaixo. Faça um programa que peça para o usuário digitar o valor do produto de acordo\n",
        "com o preço antigo e escreva uma das mensagens da Tabela 2, de acordo com o preço reajustado:\n",
        "\n",
        "Tabela 1\n",
        "\n",
        "| Preço Antigo         | % de aumento |\n",
        "|----------------------|--------------|\n",
        "| Até 50 reais         | 5%           |\n",
        "| Entre 50 e 100 reais | 10%          |\n",
        "| De 100 a 150 reais   | 13%          |\n",
        "| Acima de 150 reais   | 15%          |\n",
        "\n",
        "Tabela 2\n",
        "\n",
        "| Preço Novo            | Mensagem   |\n",
        "|-----------------------|------------|\n",
        "| Até 80 reais          | Barato     |\n",
        "| Entre 80 e 115 reais  | Razoável   |\n",
        "| Entre 115 e 150 reais | Normal     |\n",
        "| Entre 150 e 170 reais | Caro       |\n",
        "| Acima de 170 reais    | Muito Caro |\n",
        "\n",
        "9) Desafio 1 - Faça um programa que leia 3 números e informe o maior deles.\n",
        "\n",
        "10) Desafio 2 - Faça um programa que leia 4 números e informe o maior deles.\n",
        "\n",
        "# Resolução dos exercícios\n",
        "Lembrando que não há uma única forma de resolver"
      ]
    },
    {
      "cell_type": "markdown",
      "id": "ecb9c538",
      "metadata": {
        "id": "ecb9c538"
      },
      "source": [
        "1) Faça um programa que peça a idade do usuário e imprima se ele é maior ou menor de 18 anos."
      ]
    },
    {
      "cell_type": "code",
      "execution_count": null,
      "id": "a0948962",
      "metadata": {
        "id": "a0948962",
        "outputId": "0e1cab6d-8df2-4d7f-e62a-924ebfebcb9a"
      },
      "outputs": [
        {
          "name": "stdout",
          "output_type": "stream",
          "text": [
            "Digite sua idade: 18\n",
            "Menor de idade\n"
          ]
        }
      ],
      "source": [
        "idade = int(input('Digite sua idade: '))\n",
        "if(idade >= 18): ## Região onde o true vira false é chamada BORDA, testem a borda\n",
        "    print('Maior de idade')\n",
        "else:\n",
        "    print('Menor de idade')"
      ]
    },
    {
      "cell_type": "markdown",
      "id": "8854719d",
      "metadata": {
        "id": "8854719d"
      },
      "source": [
        "2) Faça um programa que peça um número e mostre se ele é positivo ou negativo. Alternativa: acrescentar zero. Desafio: acrescentar nulo"
      ]
    },
    {
      "cell_type": "code",
      "execution_count": null,
      "id": "c4c552d9",
      "metadata": {
        "id": "c4c552d9",
        "outputId": "818ad240-989d-4883-81c0-94092caf793d"
      },
      "outputs": [
        {
          "name": "stdout",
          "output_type": "stream",
          "text": [
            "Digite um número: -0.1\n",
            "Negativo\n"
          ]
        }
      ],
      "source": [
        "numero = float(input('Digite um número: '))\n",
        "\n",
        "if numero > 0:\n",
        "    print('Positivo')\n",
        "elif numero == 0:\n",
        "    print('Nulo')\n",
        "else:\n",
        "    print('Negativo')"
      ]
    },
    {
      "cell_type": "markdown",
      "id": "2d29d00a",
      "metadata": {
        "id": "2d29d00a"
      },
      "source": [
        "3) Faça um programa que peça dois números e mostre o maior deles."
      ]
    },
    {
      "cell_type": "code",
      "execution_count": null,
      "id": "04d34213",
      "metadata": {
        "id": "04d34213",
        "outputId": "e94f92d5-577c-4aa8-c696-4a49be15a3f2"
      },
      "outputs": [
        {
          "name": "stdout",
          "output_type": "stream",
          "text": [
            "Digite um numero: 10\n",
            "Digite outro numero: 10\n",
            "Os dois são iguais\n"
          ]
        }
      ],
      "source": [
        "num_1 = float(input('Digite um numero: '))\n",
        "num_2 = float(input('Digite outro numero: '))\n",
        "\n",
        "if num_1 > num_2:\n",
        "    print(num_1, 'é o maior')\n",
        "elif num_2 > num_1:\n",
        "    print(num_2, 'é o maior')\n",
        "else:\n",
        "    print('Os dois são iguais')"
      ]
    },
    {
      "cell_type": "code",
      "execution_count": null,
      "id": "f751cdc9",
      "metadata": {
        "id": "f751cdc9"
      },
      "outputs": [],
      "source": [
        "# Desafio: se é um número ou é uma string antes de testar\n"
      ]
    },
    {
      "cell_type": "markdown",
      "id": "d1180335",
      "metadata": {
        "id": "d1180335"
      },
      "source": [
        "4) Faça um programa que leia a validade das informações:\n",
        "\n",
        "    a. Idade: entre 0 e 150;\n",
        "\n",
        "    b. Salário: maior que 0;\n",
        "\n",
        "    c. Sexo: M, F ou Outro;\n",
        "\n",
        "O programa deve imprimir uma mensagem de erro para cada informação inválida."
      ]
    },
    {
      "cell_type": "code",
      "execution_count": null,
      "id": "43340ccf",
      "metadata": {
        "id": "43340ccf",
        "outputId": "e11be373-c9bb-42f2-d93c-a6d47f355df3"
      },
      "outputs": [
        {
          "name": "stdout",
          "output_type": "stream",
          "text": [
            "Digite sua idade: 19\n",
            "Digite seu salário: 1000\n",
            "Como você identifica seu sexo entre as opções M, F ou Outros:M\n",
            "Idade valida!\n",
            "Salário válido\n",
            "Informação válida\n"
          ]
        }
      ],
      "source": [
        "idade = int(input('Digite sua idade: '))\n",
        "salario = float(input('Digite seu salário: '))\n",
        "sexo = input('Como você identifica seu sexo entre as opções M, F ou Outros:').upper()\n",
        "\n",
        "if idade >= 0 and idade <= 150:\n",
        "    print('Idade valida!')\n",
        "else:\n",
        "    print('Idade inválida')\n",
        "\n",
        "if salario > 0 :\n",
        "    print('Salário válido')\n",
        "else:\n",
        "    print('Salário inválido')\n",
        "\n",
        "if (sexo == 'M') or (sexo == 'F') or (sexo == 'OUTROS'):\n",
        "    print('Informação válida')\n",
        "else:\n",
        "    print('Sexo inválido')"
      ]
    },
    {
      "cell_type": "code",
      "execution_count": null,
      "id": "f24b424b",
      "metadata": {
        "id": "f24b424b",
        "outputId": "c566f6c6-661d-454d-d0dc-2a9203ad30d6"
      },
      "outputs": [
        {
          "name": "stdout",
          "output_type": "stream",
          "text": [
            "digite idade: 100\n",
            "OK\n",
            "digite seu salário: 10000\n",
            "OK\n",
            "digite seu sexo (F/M/Outro): F\n",
            "OK\n"
          ]
        }
      ],
      "source": []
    },
    {
      "cell_type": "markdown",
      "id": "a8a65e5a",
      "metadata": {
        "id": "a8a65e5a"
      },
      "source": [
        "5) Escreva um programa que peça a nota de 3 provas de um aluno e verifique se ele passou ou não de ano.\n",
        "Obs.: O aluno irá passar de ano se sua média for maior que 6."
      ]
    },
    {
      "cell_type": "code",
      "execution_count": null,
      "id": "e7a19e2f",
      "metadata": {
        "id": "e7a19e2f",
        "outputId": "4cc15c4c-a0e2-4ab2-e6d5-971a8294c994"
      },
      "outputs": [
        {
          "name": "stdout",
          "output_type": "stream",
          "text": [
            "Digite a nota 1: 8\n",
            "Digite a nota 2: 7\n",
            "Digite a nota 3: 6\n",
            "Aluno aprovado! Média: 7.0\n"
          ]
        }
      ],
      "source": [
        "nota_1 = float(input('Digite a nota 1: '))\n",
        "nota_2 = float(input('Digite a nota 2: '))\n",
        "nota_3 = float(input('Digite a nota 3: '))\n",
        "\n",
        "media = (nota_1 + nota_2 + nota_3) / 3\n",
        "\n",
        "if (media > 6):\n",
        "    print(f'Aluno aprovado! Média: {media}')\n",
        "else:\n",
        "    print(f'Aluno reprovado! Média: {media}')"
      ]
    },
    {
      "cell_type": "markdown",
      "id": "e669f8cc",
      "metadata": {
        "id": "e669f8cc"
      },
      "source": [
        "6) Faça um programa que mostre uma questão de múltipla escolha com 5 opções (letras a, b, c, d, e).\n",
        "Sabendo a resposta certa, o programa deve receber a opção do usuário e informar a letra que o usuário marcou e se a resposta está certa ou errada."
      ]
    },
    {
      "cell_type": "code",
      "execution_count": null,
      "id": "afbbc0ac",
      "metadata": {
        "id": "afbbc0ac",
        "outputId": "acf49f5b-4021-4fb7-8258-742b063b261b"
      },
      "outputs": [
        {
          "name": "stdout",
          "output_type": "stream",
          "text": [
            "Qual a capital do Canadá?\n",
            "a) Vancouver\n",
            "b) Quebec\n",
            "c) Toronto\n",
            "d) Ottawa\n",
            "e) Montreal\n",
            "Escolha sua alternativac\n",
            "Na verdade a resposta era d) Ottawa\n"
          ]
        }
      ],
      "source": [
        "pergunta = input('Qual a capital do Canadá?\\na) Vancouver\\nb) Quebec\\nc) Toronto\\nd) Ottawa\\ne) Montreal\\nEscolha sua alternativa').lower()\n",
        "if(pergunta == 'd'):\n",
        "    print('Você acertou!')\n",
        "else:\n",
        "    print('Na verdade a resposta era d) Ottawa')"
      ]
    },
    {
      "cell_type": "markdown",
      "id": "43e66438",
      "metadata": {
        "id": "43e66438"
      },
      "source": [
        "7) Vamos fazer um programa para verificar quem é o assassino de um crime. Para descobrir o assassino, a polícia faz um pequeno questionário com 5 perguntas onde a resposta só pode ser sim ou não:  \n",
        "\n",
        "\n",
        "    a. Mora perto da vítima?\n",
        "\n",
        "    b. Já trabalhou com a vítima?\n",
        "\n",
        "    c. Telefonou para a vítima?\n",
        "\n",
        "    d. Esteve no local do crime?\n",
        "\n",
        "    e. Devia para a vítima?\n",
        "\n",
        "Cada resposta sim dá um ponto para o suspeito. A polícia considera que os suspeitos com 5 pontos são os assassinos, com 4 a 3 pontos\n",
        "são cúmplices e 2 pontos são apenas suspeitos, necessitando outras investigações. Valores iguais ou abaixo de 1 são liberados."
      ]
    },
    {
      "cell_type": "code",
      "execution_count": null,
      "id": "678e153a",
      "metadata": {
        "id": "678e153a",
        "outputId": "6a3bd18a-f506-4bbf-b7fc-75b193230507"
      },
      "outputs": [
        {
          "name": "stdout",
          "output_type": "stream",
          "text": [
            "Informe Sim ou Não para as perguntas abaixo:\n",
            "Mora perto da vítima? nao\n",
            "Já trabalhou com a vítima? nao\n",
            "Telefonou para a vítima? sim\n",
            "Esteve no local do crime? sim\n",
            "Devia para a vítima? nao\n",
            "A pessoa é suspeita\n"
          ]
        }
      ],
      "source": [
        "print('Informe Sim ou Não para as perguntas abaixo:')\n",
        "\n",
        "resp_a = input('Mora perto da vítima? ').upper()\n",
        "resp_b = input('Já trabalhou com a vítima? ').upper()\n",
        "resp_c = input('Telefonou para a vítima? ').upper()\n",
        "resp_d = input('Esteve no local do crime? ').upper()\n",
        "resp_e = input('Devia para a vítima? ').upper()\n",
        "\n",
        "pontos = 0\n",
        "\n",
        "if(resp_a == 'SIM'):\n",
        "    pontos += 1\n",
        "if(resp_b == 'SIM'):\n",
        "    pontos += 1\n",
        "if(resp_c == 'SIM'):\n",
        "    pontos += 1\n",
        "if(resp_d == 'SIM'):\n",
        "    pontos += 1\n",
        "if(resp_e == 'SIM'):\n",
        "    pontos += 1\n",
        "\n",
        "if pontos == 5:\n",
        "    print('A pessoa em questão é a assassina')\n",
        "elif pontos >= 3:\n",
        "    print('A pessoa é cumplice')\n",
        "elif pontos >= 2:\n",
        "    print('A pessoa é suspeita')\n",
        "else:\n",
        "    print('Você está liberado')"
      ]
    },
    {
      "cell_type": "code",
      "execution_count": null,
      "id": "7ca9f7b3",
      "metadata": {
        "id": "7ca9f7b3"
      },
      "outputs": [],
      "source": [
        "## Outra opção\n",
        "\n",
        "if input(\"Mora perto da vítima?\") == \"sim\":\n",
        "    pontos += 1"
      ]
    },
    {
      "cell_type": "markdown",
      "id": "b73da6e2",
      "metadata": {
        "id": "b73da6e2"
      },
      "source": [
        "8) Um produto vai sofrer aumento de acordo com a Tabela 1 abaixo. Faça um programa que peça para o usuário digitar o valor do produto de acordo\n",
        "com o preço antigo e escreva uma das mensagens da Tabela 2, de acordo com o preço reajustado:\n",
        "\n",
        "Tabela 1\n",
        "\n",
        "| Preço Antigo         | % de aumento |\n",
        "|----------------------|--------------|\n",
        "| Até 50 reais         | 5%           |\n",
        "| Entre 50 e 100 reais | 10%          |\n",
        "| De 100 a 150 reais   | 13%          |\n",
        "| Acima de 150 reais   | 15%          |\n",
        "\n",
        "Tabela 2\n",
        "\n",
        "| Preço Novo            | Mensagem   |\n",
        "|-----------------------|------------|\n",
        "| Até 80 reais          | Barato     |\n",
        "| Entre 80 e 115 reais  | Razoável   |\n",
        "| Entre 115 e 150 reais | Normal     |\n",
        "| Entre 150 e 170 reais | Caro       |\n",
        "| Acima de 170 reais    | Muito Caro |"
      ]
    },
    {
      "cell_type": "code",
      "execution_count": null,
      "id": "e8830bae",
      "metadata": {
        "id": "e8830bae",
        "outputId": "9b7a924a-a405-4cc6-bbce-b3676114df32"
      },
      "outputs": [
        {
          "name": "stdout",
          "output_type": "stream",
          "text": [
            "Digite o preço antigo do produto: 30\n",
            "Barato\n"
          ]
        }
      ],
      "source": []
    },
    {
      "cell_type": "markdown",
      "id": "f8b8d13e",
      "metadata": {
        "id": "f8b8d13e"
      },
      "source": [
        "9) Desafio 1 - Faça um programa que leia 3 números e informe o maior deles."
      ]
    },
    {
      "cell_type": "code",
      "execution_count": null,
      "id": "a3f5bce1",
      "metadata": {
        "id": "a3f5bce1"
      },
      "outputs": [],
      "source": []
    },
    {
      "cell_type": "markdown",
      "id": "77a74bb9",
      "metadata": {
        "id": "77a74bb9"
      },
      "source": [
        "10) Desafio 2 - Faça um programa que leia 4 números e informe o maior deles"
      ]
    },
    {
      "cell_type": "code",
      "execution_count": null,
      "id": "90b7320b",
      "metadata": {
        "id": "90b7320b"
      },
      "outputs": [],
      "source": []
    }
  ],
  "metadata": {
    "kernelspec": {
      "display_name": "Python 3 (ipykernel)",
      "language": "python",
      "name": "python3"
    },
    "language_info": {
      "codemirror_mode": {
        "name": "ipython",
        "version": 3
      },
      "file_extension": ".py",
      "mimetype": "text/x-python",
      "name": "python",
      "nbconvert_exporter": "python",
      "pygments_lexer": "ipython3",
      "version": "3.9.6"
    },
    "colab": {
      "provenance": [],
      "include_colab_link": true
    }
  },
  "nbformat": 4,
  "nbformat_minor": 5
}