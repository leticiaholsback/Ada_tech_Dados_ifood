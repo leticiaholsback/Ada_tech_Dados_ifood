{
  "cells": [
    {
      "cell_type": "markdown",
      "metadata": {
        "id": "view-in-github",
        "colab_type": "text"
      },
      "source": [
        "<a href=\"https://colab.research.google.com/github/leticiaholsback/Ada_tech_Dados_ifood/blob/main/Aula_2_Coding_Tank_Vem_Ser_Tech_Alunos.ipynb\" target=\"_parent\"><img src=\"https://colab.research.google.com/assets/colab-badge.svg\" alt=\"Open In Colab\"/></a>"
      ]
    },
    {
      "cell_type": "markdown",
      "id": "bd275093",
      "metadata": {
        "id": "bd275093"
      },
      "source": [
        "<div style=\"background-color: lightgreen; padding: 18px;\">\n",
        "    <h1> Coding Tank | Vem Ser Tech\n",
        "</div>"
      ]
    },
    {
      "cell_type": "markdown",
      "id": "cf23d9e5",
      "metadata": {
        "id": "cf23d9e5"
      },
      "source": [
        "<div style=\"background-color: lightblue; padding: 10px;\">\n",
        "    <h2> Tópicos da aula - AULA 2\n",
        "</div>\n",
        "\n",
        "- Operadores lógicos de conjunção\n",
        "- Estrutura condicional e controle de fluxo\n",
        "- Comando if\n",
        "- Comando else\n",
        "- Comando elif\n",
        "- Funções de string (introdutório) - opcional\n",
        "\n"
      ]
    },
    {
      "cell_type": "markdown",
      "id": "643dc92b",
      "metadata": {
        "id": "643dc92b"
      },
      "source": [
        "Imagine que o critério de aprovação em uma escola seja a média superior a 7.0 e presença superior a 75%. Neste caso, o aluno precisa atender a ambos os critérios para ser aprovado. Se ele tirou uma ótima nota, mas faltou demais, será reprovado. Se ele compareceu a todas as aulas, mas teve notas baixas, idem.\n"
      ]
    },
    {
      "cell_type": "code",
      "execution_count": null,
      "id": "66ebea14",
      "metadata": {
        "colab": {
          "base_uri": "https://localhost:8080/"
        },
        "id": "66ebea14",
        "outputId": "d2bfbafd-abf7-4e10-b181-3b5871534458"
      },
      "outputs": [
        {
          "output_type": "stream",
          "name": "stdout",
          "text": [
            "Digite a média do aluno (0 a 10):5\n",
            "Digite a presença do aluno ( 0 a 10 : 10\n",
            "aprovado por: False\n",
            "aprovado por presenca: True\n"
          ]
        }
      ],
      "source": [
        "media = float(input('Digite a média do aluno (0 a 10):'))\n",
        "presenca = float(input('Digite a presença do aluno ( 0 a 10 : '))\n",
        "\n",
        "print ('aprovado por:', media > 7)\n",
        "print ('aprovado por presenca:', presenca >= 0.75 )"
      ]
    },
    {
      "cell_type": "code",
      "execution_count": null,
      "id": "b9f7c2fe",
      "metadata": {
        "colab": {
          "base_uri": "https://localhost:8080/"
        },
        "id": "b9f7c2fe",
        "outputId": "51a1cbbe-64a0-4f8f-f1b7-6e7f5a8b3f65"
      },
      "outputs": [
        {
          "output_type": "stream",
          "name": "stdout",
          "text": [
            "Digite a média do aluno (0 a 10):10\n",
            "Digite a presença do aluno ( 0 a 10 : 1\n",
            "True\n"
          ]
        }
      ],
      "source": [
        "media = float(input('Digite a média do aluno (0 a 10):'))\n",
        "presenca = float(input('Digite a presença do aluno ( 0 a 10 : '))\n",
        "\n",
        "print((media >7) or (presenca >0.75))"
      ]
    },
    {
      "cell_type": "markdown",
      "id": "3b8a9808",
      "metadata": {
        "id": "3b8a9808"
      },
      "source": [
        "**Operadores lógicos**\n",
        "\n",
        "|     Operador    |                            Definição                           |     Operação    |\n",
        "|:---------------:|:--------------------------------------------------------------:|:---------------:|\n",
        "|        and      |     Retorna   True se ambas as afirmações forem verdadeiras    |         e       |\n",
        "|        or       |       Retorna   True se uma das afirmações for verdadeira      |        ou       |\n",
        "|        not      |          retorna   Falso se o resultado for verdadeiro         |        não      |\n",
        "\n",
        "\n",
        "**AND** é uma conjunção lógica e o **OR** é uma disjunção lógica. O **not** é a negação lógica.\n",
        "\n",
        "| *A*   | *B*   | *A and B* | *A or B* | *not A* |\n",
        "|-------|-------|-----------|----------|---------|\n",
        "| False | False | False     | False    | True    |\n",
        "| False | True  | False     | True     | True    |\n",
        "| True  | False | False     | True     | False   |\n",
        "| True  | True  | True      | True     | False   |\n",
        "\n",
        "\n",
        "Será que conseguimos escrever o problema acima de uma forma mais fácil?\n",
        "\n",
        "## Estrutura condicional\n",
        "\n",
        "- if\n",
        "\n",
        "Obs.: Python é uma linguagem indentada"
      ]
    },
    {
      "cell_type": "code",
      "execution_count": null,
      "id": "9070e790",
      "metadata": {
        "id": "9070e790"
      },
      "outputs": [],
      "source": [
        "nota_1 = float(input('Digite a nota 1:'))\n",
        "nota_2 = float(input('Digite a nota 2:'))\n",
        "\n",
        "media = (nota_1+nota_2)/2\n"
      ]
    },
    {
      "cell_type": "code",
      "source": [
        "\n",
        "print ('Linha 1')\n",
        "if True: # se esta na frente do if é true eu rodo a linha de dentro\n",
        "  print ('linha3')\n",
        "  print ('linha 4')\n",
        "print ('linha 5')"
      ],
      "metadata": {
        "colab": {
          "base_uri": "https://localhost:8080/"
        },
        "id": "8cBfO9X7t5PY",
        "outputId": "a9d1a494-f446-4f19-f08f-5882eed1a9b2"
      },
      "id": "8cBfO9X7t5PY",
      "execution_count": null,
      "outputs": [
        {
          "output_type": "stream",
          "name": "stdout",
          "text": [
            "Linha 1\n",
            "linha3\n",
            "linha 4\n",
            "linha 5\n"
          ]
        }
      ]
    },
    {
      "cell_type": "code",
      "source": [
        "print ('Linha 1')\n",
        "if False: # se esta na frente do if é False eu rodo a linha de dentro\n",
        "  print ('linha3')\n",
        "  print ('linha 4')\n",
        "print ('linha 5')"
      ],
      "metadata": {
        "colab": {
          "base_uri": "https://localhost:8080/"
        },
        "id": "PrtPD0XDuv0m",
        "outputId": "0e4dc3a5-a552-4947-8230-ab8876bab114"
      },
      "id": "PrtPD0XDuv0m",
      "execution_count": null,
      "outputs": [
        {
          "output_type": "stream",
          "name": "stdout",
          "text": [
            "Linha 1\n",
            "linha 5\n"
          ]
        }
      ]
    },
    {
      "cell_type": "markdown",
      "id": "21328f19",
      "metadata": {
        "id": "21328f19"
      },
      "source": [
        "Está faltando alguma coisa"
      ]
    },
    {
      "cell_type": "code",
      "execution_count": null,
      "id": "7375b6a2",
      "metadata": {
        "colab": {
          "base_uri": "https://localhost:8080/"
        },
        "id": "7375b6a2",
        "outputId": "50d0c759-d134-47ef-b4ae-0685769a3073"
      },
      "outputs": [
        {
          "output_type": "stream",
          "name": "stdout",
          "text": [
            " eu sou a leticia \n",
            " muuito feliz\n"
          ]
        }
      ],
      "source": [
        "print (' eu sou a leticia \\n muuito feliz')"
      ]
    },
    {
      "cell_type": "markdown",
      "id": "223d6399",
      "metadata": {
        "id": "223d6399"
      },
      "source": [
        "- else"
      ]
    },
    {
      "cell_type": "markdown",
      "source": [
        "Quando tenho duas condições e se uma acontece e outra nao acontece, dizemos que eles sao mutuaente excludentes (ou acontece ou não acontece)"
      ],
      "metadata": {
        "id": "td2sxZdGwpRB"
      },
      "id": "td2sxZdGwpRB"
    },
    {
      "cell_type": "code",
      "execution_count": null,
      "id": "92cef6ca",
      "metadata": {
        "colab": {
          "base_uri": "https://localhost:8080/"
        },
        "id": "92cef6ca",
        "outputId": "00050bc4-4b38-4bd2-d8ff-2134b37c8d7c"
      },
      "outputs": [
        {
          "output_type": "stream",
          "name": "stdout",
          "text": [
            "Digite a nota 1:5\n",
            "Digite a nota 2:8\n",
            "Reprovado\n",
            "A média é: 6.5\n"
          ]
        }
      ],
      "source": [
        "nota_1 = float(input('Digite a nota 1:'))\n",
        "nota_2 = float(input('Digite a nota 2:'))\n",
        "\n",
        "media = (nota_1+nota_2)/2\n",
        "\n",
        "if media >=7:\n",
        "  print ('Aprovado')\n",
        "else:\n",
        "  print ('Reprovado')\n",
        "\n",
        "print (f'A média é: {media}')"
      ]
    },
    {
      "cell_type": "markdown",
      "id": "36c4da02",
      "metadata": {
        "id": "36c4da02"
      },
      "source": [
        "Vamos acrescentar a presença para a aprovação do aluno"
      ]
    },
    {
      "cell_type": "code",
      "execution_count": null,
      "id": "8fc754ec",
      "metadata": {
        "colab": {
          "base_uri": "https://localhost:8080/"
        },
        "id": "8fc754ec",
        "outputId": "d3246746-6b50-476c-b018-a210c9c717c9"
      },
      "outputs": [
        {
          "output_type": "stream",
          "name": "stdout",
          "text": [
            "Digite a nota 1:10\n",
            "Digite a nota 2:10\n",
            "Digite a presenca10\n",
            "Aprovado\n",
            "A média é: 10.0 e a presenca100.0\n"
          ]
        }
      ],
      "source": [
        "nota_1 = float(input('Digite a nota 1:'))\n",
        "nota_2 = float(input('Digite a nota 2:'))\n",
        "presenca = float (input('Digite a presenca'))\n",
        "\n",
        "media = (nota_1+nota_2)/2\n",
        "\n",
        "if media >=7 and (presenca >=0.75):\n",
        "  print ('Aprovado')\n",
        "else:\n",
        "  print ('Reprovado')\n",
        "\n",
        "print (f'A média é: {media} e a presenca{10* presenca}')"
      ]
    },
    {
      "cell_type": "code",
      "source": [],
      "metadata": {
        "id": "tKdpP8YwyQMt"
      },
      "id": "tKdpP8YwyQMt",
      "execution_count": null,
      "outputs": []
    },
    {
      "cell_type": "markdown",
      "id": "9df03ba0",
      "metadata": {
        "id": "9df03ba0"
      },
      "source": [
        "A estrutura é essa (por enquanto):\n",
        "\n",
        "```python\n",
        "if (condicao): # condição\n",
        "    to do  # só executa se a condição for verdadeira\n",
        "else:\n",
        "    to do\n",
        "```  \n",
        "\n",
        "\n",
        "\n",
        "\n",
        "\n",
        "Vamos incluir a recuperação nesse exemplo (para facilitar, vamos deixar de lado a presença). O aluno tem direito a recuperação se a média é maior que 5.\n",
        "\n",
        "- se media for maior ou igual a 7: aprovado\n",
        "- se a media for maior ou igual a 5 e menor que 7: recuperacao\n",
        "- se a media for menor que 5: reprovado"
      ]
    },
    {
      "cell_type": "code",
      "execution_count": null,
      "id": "334fd649",
      "metadata": {
        "id": "334fd649"
      },
      "outputs": [],
      "source": []
    },
    {
      "cell_type": "markdown",
      "id": "b9e9e46f",
      "metadata": {
        "id": "b9e9e46f"
      },
      "source": [
        "- elif"
      ]
    },
    {
      "cell_type": "code",
      "execution_count": null,
      "id": "2d84dbe3",
      "metadata": {
        "colab": {
          "base_uri": "https://localhost:8080/"
        },
        "id": "2d84dbe3",
        "outputId": "bdaf1a6d-340a-482b-e64d-628604d42c17"
      },
      "outputs": [
        {
          "output_type": "stream",
          "name": "stdout",
          "text": [
            "Digite a nota 1:5\n",
            "Digite a nota 2:4\n",
            "Reporovado\n",
            "A média é: 4.5\n"
          ]
        }
      ],
      "source": [
        "nota_1 = float(input('Digite a nota 1:'))\n",
        "nota_2 = float(input('Digite a nota 2:'))\n",
        "\n",
        "media = (nota_1+nota_2)/2\n",
        "\n",
        "if media >=7:\n",
        "  print ('Aprovado')\n",
        "elif media >=5:\n",
        "  print ('Recuperação')\n",
        "else:\n",
        "  print ('Reporovado')\n",
        "\n",
        "print(f'A média é: {media}')"
      ]
    },
    {
      "cell_type": "code",
      "execution_count": null,
      "id": "d22c248e",
      "metadata": {
        "id": "d22c248e"
      },
      "outputs": [],
      "source": [
        "media = float(input('Media: '))\n",
        "\n",
        "if media >=7:\n",
        "  print ('Aprovado')\n",
        "elif media >=5:\n",
        "  print ('Recuperaçao')\n",
        "elif"
      ]
    },
    {
      "cell_type": "code",
      "execution_count": null,
      "id": "5225a4e0",
      "metadata": {
        "id": "5225a4e0"
      },
      "outputs": [],
      "source": []
    },
    {
      "cell_type": "markdown",
      "id": "1441f388",
      "metadata": {
        "id": "1441f388"
      },
      "source": []
    },
    {
      "cell_type": "markdown",
      "id": "0471ee21",
      "metadata": {
        "id": "0471ee21"
      },
      "source": [
        "## Saiba mais\n",
        "**Funções de strings (só uma introdução para facilitar em alguns exercícios)**\n",
        "\n",
        "Temos algumas funções prontas para alterar a capitalização das letras. Uma delas é a função upper, que transforma todas as letras da string original em maiúsculas:"
      ]
    },
    {
      "cell_type": "code",
      "execution_count": null,
      "id": "e24c3d9f",
      "metadata": {
        "colab": {
          "base_uri": "https://localhost:8080/"
        },
        "id": "e24c3d9f",
        "outputId": "d6c6c59c-ce61-4f8c-aa13-b7bb8cf973f5"
      },
      "outputs": [
        {
          "output_type": "stream",
          "name": "stdout",
          "text": [
            "LETICIA SANTOS\n"
          ]
        }
      ],
      "source": [
        "frase = 'LetiCia SanTOs'\n",
        "maiuscula= frase.upper()\n",
        "print (maiuscula)"
      ]
    },
    {
      "cell_type": "code",
      "source": [
        "frase = 'LetiCia SanTOs'\n",
        "minuscula= frase.lower()\n",
        "print (minuscula)"
      ],
      "metadata": {
        "colab": {
          "base_uri": "https://localhost:8080/"
        },
        "id": "04htV-257BE-",
        "outputId": "bc497021-216e-4f4e-b186-e47b7d0f7e17"
      },
      "id": "04htV-257BE-",
      "execution_count": null,
      "outputs": [
        {
          "output_type": "stream",
          "name": "stdout",
          "text": [
            "leticia santos\n"
          ]
        }
      ]
    },
    {
      "cell_type": "code",
      "source": [
        "valor = 'texto'\n",
        "valor.isalpha()"
      ],
      "metadata": {
        "colab": {
          "base_uri": "https://localhost:8080/"
        },
        "id": "TMXLuy5g7BQd",
        "outputId": "a4ac0230-a368-4d94-817a-e028ba8f7fbf"
      },
      "id": "TMXLuy5g7BQd",
      "execution_count": null,
      "outputs": [
        {
          "output_type": "execute_result",
          "data": {
            "text/plain": [
              "True"
            ]
          },
          "metadata": {},
          "execution_count": 33
        }
      ]
    },
    {
      "cell_type": "markdown",
      "id": "234041d6",
      "metadata": {
        "id": "234041d6"
      },
      "source": [
        "Analogamente, temos a função lower para transformar todas as letras em minúsculas:"
      ]
    },
    {
      "cell_type": "code",
      "execution_count": null,
      "id": "c1ab913c",
      "metadata": {
        "id": "c1ab913c"
      },
      "outputs": [],
      "source": []
    },
    {
      "cell_type": "markdown",
      "id": "7b3e877e",
      "metadata": {
        "id": "7b3e877e"
      },
      "source": [
        "Também é possível formatar a string inteira como um nome próprio: primeira letra de cada palavra maiúscula, todo o restante em minúscula. Para isso temos a função title:"
      ]
    },
    {
      "cell_type": "code",
      "execution_count": null,
      "id": "91d7ba1c",
      "metadata": {
        "id": "91d7ba1c"
      },
      "outputs": [],
      "source": []
    },
    {
      "cell_type": "markdown",
      "id": "8422ef8c",
      "metadata": {
        "id": "8422ef8c"
      },
      "source": [
        "E, por fim, é possível tratar nossa string como uma frase gramaticalmente correta: primeira letra maiúscula, todo o resto minúsculo. Essa função é a capitalize:"
      ]
    },
    {
      "cell_type": "code",
      "execution_count": null,
      "id": "52c0383c",
      "metadata": {
        "id": "52c0383c"
      },
      "outputs": [],
      "source": []
    },
    {
      "cell_type": "markdown",
      "id": "93b4c1f2",
      "metadata": {
        "id": "93b4c1f2"
      },
      "source": [
        "Uma utilidade para essas funções é padronizar entrada de usuário. Quando pedimos para o usuário digitar 'sim' caso ele deseje fazer algo, ele pode digitar 'SIM', 'sim', 'Sim', 'sIm', 'siM', 'SIm', 'sIM' ou 'SiM'. Prever todas essas condições em uma condicional pode ser bastante trabalhoso, ou mesmo impossível. Imagine se fosse uma string de várias letras... Porém, podemos forçar um padrão para a entrada do usuário e comparar com esse padrão:"
      ]
    },
    {
      "cell_type": "code",
      "execution_count": null,
      "id": "0b519b7a",
      "metadata": {
        "id": "0b519b7a"
      },
      "outputs": [],
      "source": []
    },
    {
      "cell_type": "markdown",
      "id": "b723013f",
      "metadata": {
        "id": "b723013f"
      },
      "source": [
        "Qualquer forma que o usuário digite a palavra 'sim' será aceita.\n",
        "\n",
        "Se quiser confirmar se dentro de uma string qo valor é um número, usamos o .isdigit(). Assim como tem o .isalpha()."
      ]
    },
    {
      "cell_type": "code",
      "execution_count": null,
      "id": "b6e84769",
      "metadata": {
        "id": "b6e84769"
      },
      "outputs": [],
      "source": []
    },
    {
      "cell_type": "code",
      "execution_count": null,
      "id": "69c684ae",
      "metadata": {
        "id": "69c684ae"
      },
      "outputs": [],
      "source": []
    },
    {
      "cell_type": "code",
      "execution_count": null,
      "id": "baab7bd9",
      "metadata": {
        "id": "baab7bd9"
      },
      "outputs": [],
      "source": []
    },
    {
      "cell_type": "markdown",
      "id": "8fc83d82",
      "metadata": {
        "id": "8fc83d82"
      },
      "source": [
        "Extra: O que será que acontece quando usamos o operador + com duas strings?"
      ]
    },
    {
      "cell_type": "code",
      "execution_count": null,
      "id": "8bd9f1c8",
      "metadata": {
        "id": "8bd9f1c8"
      },
      "outputs": [],
      "source": []
    },
    {
      "cell_type": "code",
      "execution_count": null,
      "id": "ead12e59",
      "metadata": {
        "id": "ead12e59"
      },
      "outputs": [],
      "source": []
    },
    {
      "cell_type": "markdown",
      "id": "94c64b66",
      "metadata": {
        "id": "94c64b66"
      },
      "source": [
        "**Bora praticar**\n",
        "\n",
        "1) Faça um programa que peça a idade do usuário e imprima se ele é maior ou menor de 18 anos.\n",
        "\n",
        "2) Faça um programa que peça um número e mostre se ele é positivo ou negativo. Alternativa: acrescentar nulo\n",
        "\n",
        "3) Faça um programa que peça dois números e mostre o maior deles.\n",
        "\n",
        "4) Faça um programa que leia a validade das informações:\n",
        "\n",
        "a. Idade: entre 0 e 150;\n",
        "\n",
        "b. Salário: maior que 0;\n",
        "\n",
        "c. Sexo: M, F ou Outro;\n",
        "\n",
        "O programa deve imprimir uma mensagem de erro para cada informação inválida.\n",
        "\n",
        "5) Escreva um programa que peça a nota de 3 provas de um aluno e verifique se ele passou ou não de ano.\n",
        "Obs.: O aluno irá passar de ano se sua média for maior que 6.\n",
        "\n",
        "6) Faça um programa que mostre uma questão de múltipla escolha com 5 opções (letras a, b, c, d, e).\n",
        "Sabendo a resposta certa, o programa deve receber a opção do usuário e informar a letra que o usuário marcou e se a resposta está certa ou errada.\n",
        "\n",
        "7)\n",
        "Vamos fazer um programa para verificar quem é o assassino de um crime. Para descobrir o assassino,\n",
        "a polícia faz um pequeno questionário com 5 perguntas\n",
        "onde a resposta só pode ser sim ou não:\n",
        "\n",
        "a. Mora perto da vítima?\n",
        "\n",
        "b. Já trabalhou com a vítima?\n",
        "\n",
        "c. Telefonou para a vítima?\n",
        "\n",
        "d. Esteve no local do crime?\n",
        "\n",
        "e. Devia para a vítima?\n",
        "\n",
        "Cada resposta sim dá um ponto para o suspeito. A polícia considera que os suspeitos com 5 pontos são os assassinos, com 4 a 3 pontos\n",
        "são cúmplices e 2 pontos são apenas suspeitos, necessitando outras investigações. Valores iguais ou abaixo de 1 são liberados.'''\n",
        "\n",
        "8) Um produto vai sofrer aumento de acordo com a Tabela 1 abaixo. Faça um programa que peça para o usuário digitar o valor do produto de acordo\n",
        "com o preço antigo e escreva uma das mensagens da Tabela 2, de acordo com o preço reajustado:\n",
        "\n",
        "Tabela 1\n",
        "\n",
        "| Preço Antigo         | % de aumento |\n",
        "|----------------------|--------------|\n",
        "| Até 50 reais         | 5%           |\n",
        "| Entre 50 e 100 reais | 10%          |\n",
        "| De 100 a 150 reais   | 13%          |\n",
        "| Acima de 150 reais   | 15%          |\n",
        "\n",
        "Tabela 2\n",
        "\n",
        "| Preço Novo            | Mensagem   |\n",
        "|-----------------------|------------|\n",
        "| Até 80 reais          | Barato     |\n",
        "| Entre 80 e 115 reais  | Razoável   |\n",
        "| Entre 115 e 150 reais | Normal     |\n",
        "| Entre 150 e 170 reais | Caro       |\n",
        "| Acima de 170 reais    | Muito Caro |\n",
        "\n",
        "9) Desafio 1 - Faça um programa que leia 3 números e informe o maior deles.\n",
        "\n",
        "10) Desafio 2 - Faça um programa que leia 4 números e informe o maior deles.\n",
        "\n",
        "# Resolução dos exercícios\n",
        "Lembrando que não há uma única forma de resolver"
      ]
    },
    {
      "cell_type": "markdown",
      "id": "ecb9c538",
      "metadata": {
        "id": "ecb9c538"
      },
      "source": [
        "1) Faça um programa que peça a idade do usuário e imprima se ele é maior ou menor de 18 anos."
      ]
    },
    {
      "cell_type": "code",
      "execution_count": null,
      "id": "a0948962",
      "metadata": {
        "colab": {
          "base_uri": "https://localhost:8080/"
        },
        "id": "a0948962",
        "outputId": "88748998-8524-425e-b612-8a9cb4e22de7"
      },
      "outputs": [
        {
          "output_type": "stream",
          "name": "stdout",
          "text": [
            "Digite a sua idade:15\n",
            "Espere mais um pouquinho\n"
          ]
        }
      ],
      "source": [
        "idade= int(input('Digite a sua idade:'))\n",
        "\n",
        "if idade >=18:\n",
        "  print ('Maior de Idade')\n",
        "else:\n",
        "  print ('Espere mais um pouquinho')"
      ]
    },
    {
      "cell_type": "markdown",
      "id": "8854719d",
      "metadata": {
        "id": "8854719d"
      },
      "source": [
        "2) Faça um programa que peça um número e mostre se ele é positivo ou negativo. Alternativa: acrescentar zero. Desafio: acrescentar nulo"
      ]
    },
    {
      "cell_type": "code",
      "execution_count": null,
      "id": "c4c552d9",
      "metadata": {
        "colab": {
          "base_uri": "https://localhost:8080/"
        },
        "id": "c4c552d9",
        "outputId": "b928e3ae-ab63-447b-9a78-d9925c79267c"
      },
      "outputs": [
        {
          "output_type": "stream",
          "name": "stdout",
          "text": [
            "Digite um número inteiro, podendo ser negativo ou positivo:0\n",
            "esse é um numero positivo\n"
          ]
        }
      ],
      "source": [
        "numero= int(input('Digite um número inteiro, podendo ser negativo ou positivo:'))\n",
        "\n",
        "if numero >=0:\n",
        "  print ('esse é um numero positivo')\n",
        "elif numero <=0:\n",
        "  print ('esse numero é negativo')\n",
        "elif numero ==0:\n",
        "  print('0 é nulo')\n",
        "else:\n",
        "  print ('Digite um numero valido')"
      ]
    },
    {
      "cell_type": "markdown",
      "id": "2d29d00a",
      "metadata": {
        "id": "2d29d00a"
      },
      "source": [
        "3) Faça um programa que peça dois números e mostre o maior deles."
      ]
    },
    {
      "cell_type": "code",
      "execution_count": 9,
      "id": "04d34213",
      "metadata": {
        "id": "04d34213",
        "colab": {
          "base_uri": "https://localhost:8080/"
        },
        "outputId": "a8cad798-baa5-4028-b289-cfdb4216939d"
      },
      "outputs": [
        {
          "output_type": "stream",
          "name": "stdout",
          "text": [
            "Digite apenas números, vamos descobrir qual o maior\n",
            "Digite um numero: -1\n",
            "Digite outro numero: 0.1\n",
            "O segundo numero é o maior: 0.1\n"
          ]
        }
      ],
      "source": [
        "print('Digite apenas números, vamos descobrir qual o maior')\n",
        "num_1 = float(input('Digite um numero: '))\n",
        "num_2= float(input('Digite outro numero: '))\n",
        "\n",
        "if num_1 > num_2:\n",
        "  print (f'O primeiro numero digitado é maior: {num_1}')\n",
        "elif num_1< num_2:\n",
        "  print (f'O segundo numero é o maior: {num_2}')\n",
        "elif num_1 == num_2:\n",
        "  print ('Números iguais não são validos')\n",
        ""
      ]
    },
    {
      "cell_type": "code",
      "execution_count": null,
      "id": "f751cdc9",
      "metadata": {
        "id": "f751cdc9"
      },
      "outputs": [],
      "source": []
    },
    {
      "cell_type": "markdown",
      "id": "d1180335",
      "metadata": {
        "id": "d1180335"
      },
      "source": [
        "4) Faça um programa que leia a validade das informações:\n",
        "\n",
        "    a. Idade: entre 0 e 150;\n",
        "\n",
        "    b. Salário: maior que 0;\n",
        "\n",
        "    c. Sexo: M, F ou Outro;\n",
        "\n",
        "O programa deve imprimir uma mensagem de erro para cada informação inválida."
      ]
    },
    {
      "cell_type": "code",
      "execution_count": 18,
      "id": "f24b424b",
      "metadata": {
        "id": "f24b424b",
        "outputId": "c0d3c318-8957-4827-ebd7-1953d61f807c",
        "colab": {
          "base_uri": "https://localhost:8080/"
        }
      },
      "outputs": [
        {
          "output_type": "stream",
          "name": "stdout",
          "text": [
            "Digite a sua idade: 8\n",
            "Digite o seu salário: 88\n",
            "digite seu SEXO, M,F ou Outrosf\n",
            "Voce tem 8 e é uma idade válida\n",
            "88.0 Salario válido\n",
            "Informação válida\n"
          ]
        }
      ],
      "source": [
        "idade= int(input('Digite a sua idade: '))\n",
        "salario= float(input('Digite o seu salário: '))\n",
        "sexo = input('digite seu SEXO, M,F ou Outros').upper()\n",
        "\n",
        "if idade >= 0 and  idade <= 150:\n",
        "  print (f'Voce tem {idade} e é uma idade válida')\n",
        "else:\n",
        "  print ('idade invalida')\n",
        "if salario > 0:\n",
        "  print (f'{salario} Salario válido')\n",
        "else:\n",
        "  print ('salario invalido')\n",
        "if (sexo == 'M') or (sexo == 'F') or (sexo == 'OUTROS'):\n",
        "    print('Informação válida')\n",
        "else:\n",
        "    print('Sexo inválido')"
      ]
    },
    {
      "cell_type": "markdown",
      "id": "a8a65e5a",
      "metadata": {
        "id": "a8a65e5a"
      },
      "source": [
        "5) Escreva um programa que peça a nota de 3 provas de um aluno e verifique se ele passou ou não de ano.\n",
        "Obs.: O aluno irá passar de ano se sua média for maior que 6."
      ]
    },
    {
      "cell_type": "code",
      "execution_count": 21,
      "id": "e7a19e2f",
      "metadata": {
        "id": "e7a19e2f",
        "outputId": "878971e3-4eb9-4ec8-a99e-0069b1ac0227",
        "colab": {
          "base_uri": "https://localhost:8080/"
        }
      },
      "outputs": [
        {
          "output_type": "stream",
          "name": "stdout",
          "text": [
            "Digite a nota 1:6\n",
            "Digite a nota 2:6\n",
            "Digite a nota 2:6\n",
            "Reporovado\n",
            "A média é: 6.0\n"
          ]
        }
      ],
      "source": [
        "nota_1 = float(input('Digite a nota 1:'))\n",
        "nota_2 = float(input('Digite a nota 2:'))\n",
        "nota_3 = float(input('Digite a nota 2:'))\n",
        "\n",
        "media = (nota_1+nota_2+ nota_3)/3\n",
        "\n",
        "if media >6:\n",
        "  print ('Aprovado')\n",
        "else:\n",
        "  print ('Reporovado')\n",
        "\n",
        "print(f'A média é: {media}')"
      ]
    },
    {
      "cell_type": "markdown",
      "id": "e669f8cc",
      "metadata": {
        "id": "e669f8cc"
      },
      "source": [
        "6) Faça um programa que mostre uma questão de múltipla escolha com 5 opções (letras a, b, c, d, e).\n",
        "Sabendo a resposta certa, o programa deve receber a opção do usuário e informar a letra que o usuário marcou e se a resposta está certa ou errada."
      ]
    },
    {
      "cell_type": "code",
      "execution_count": 32,
      "id": "afbbc0ac",
      "metadata": {
        "id": "afbbc0ac",
        "outputId": "a8d14a04-3399-4768-b84a-abe34bfb73e5",
        "colab": {
          "base_uri": "https://localhost:8080/"
        }
      },
      "outputs": [
        {
          "output_type": "stream",
          "name": "stdout",
          "text": [
            "Quantas asas tem uma borboleta?\n",
            " A) 12 \n",
            " B) 5 \n",
            " c) 5 \n",
            " d) 3 \n",
            " e) 4 e\n",
            "Você acertou!\n"
          ]
        }
      ],
      "source": [
        "pergunta = (input('Quantas asas tem uma borboleta?\\n A) 12 \\n B) 5 \\n c) 5 \\n d) 3 \\n e) 4 ')).lower() # resposta certa e\n",
        "\n",
        "if(pergunta == 'e'):\n",
        "    print('Você acertou!')\n",
        "else:\n",
        "    print('Na verdade a resposta era e) 2')\n"
      ]
    },
    {
      "cell_type": "code",
      "source": [
        "pergunta = input('Qual a capital do Canadá?\\na) Vancouver\\nb) Quebec\\nc) Toronto\\nd) Ottawa\\ne) Montreal\\nEscolha sua alternativa').lower()\n",
        "if(pergunta == 'd'):\n",
        "    print('Você acertou!')\n",
        "else:\n",
        "    print('Na verdade a resposta era d) Ottawa')"
      ],
      "metadata": {
        "colab": {
          "base_uri": "https://localhost:8080/",
          "height": 425
        },
        "id": "CFe-ECWN_TOg",
        "outputId": "03ec90a9-866b-4f0d-d0c6-7290ff783f72"
      },
      "id": "CFe-ECWN_TOg",
      "execution_count": 31,
      "outputs": [
        {
          "output_type": "error",
          "ename": "KeyboardInterrupt",
          "evalue": "ignored",
          "traceback": [
            "\u001b[0;31m---------------------------------------------------------------------------\u001b[0m",
            "\u001b[0;31mKeyboardInterrupt\u001b[0m                         Traceback (most recent call last)",
            "\u001b[0;32m<ipython-input-31-9dfa7cc36aff>\u001b[0m in \u001b[0;36m<cell line: 1>\u001b[0;34m()\u001b[0m\n\u001b[0;32m----> 1\u001b[0;31m \u001b[0mpergunta\u001b[0m \u001b[0;34m=\u001b[0m \u001b[0minput\u001b[0m\u001b[0;34m(\u001b[0m\u001b[0;34m'Qual a capital do Canadá?\\na) Vancouver\\nb) Quebec\\nc) Toronto\\nd) Ottawa\\ne) Montreal\\nEscolha sua alternativa'\u001b[0m\u001b[0;34m)\u001b[0m\u001b[0;34m.\u001b[0m\u001b[0mlower\u001b[0m\u001b[0;34m(\u001b[0m\u001b[0;34m)\u001b[0m\u001b[0;34m\u001b[0m\u001b[0;34m\u001b[0m\u001b[0m\n\u001b[0m\u001b[1;32m      2\u001b[0m \u001b[0;32mif\u001b[0m\u001b[0;34m(\u001b[0m\u001b[0mpergunta\u001b[0m \u001b[0;34m==\u001b[0m \u001b[0;34m'd'\u001b[0m\u001b[0;34m)\u001b[0m\u001b[0;34m:\u001b[0m\u001b[0;34m\u001b[0m\u001b[0;34m\u001b[0m\u001b[0m\n\u001b[1;32m      3\u001b[0m     \u001b[0mprint\u001b[0m\u001b[0;34m(\u001b[0m\u001b[0;34m'Você acertou!'\u001b[0m\u001b[0;34m)\u001b[0m\u001b[0;34m\u001b[0m\u001b[0;34m\u001b[0m\u001b[0m\n\u001b[1;32m      4\u001b[0m \u001b[0;32melse\u001b[0m\u001b[0;34m:\u001b[0m\u001b[0;34m\u001b[0m\u001b[0;34m\u001b[0m\u001b[0m\n\u001b[1;32m      5\u001b[0m     \u001b[0mprint\u001b[0m\u001b[0;34m(\u001b[0m\u001b[0;34m'Na verdade a resposta era d) Ottawa'\u001b[0m\u001b[0;34m)\u001b[0m\u001b[0;34m\u001b[0m\u001b[0;34m\u001b[0m\u001b[0m\n",
            "\u001b[0;32m/usr/local/lib/python3.10/dist-packages/ipykernel/kernelbase.py\u001b[0m in \u001b[0;36mraw_input\u001b[0;34m(self, prompt)\u001b[0m\n\u001b[1;32m    849\u001b[0m                 \u001b[0;34m\"raw_input was called, but this frontend does not support input requests.\"\u001b[0m\u001b[0;34m\u001b[0m\u001b[0;34m\u001b[0m\u001b[0m\n\u001b[1;32m    850\u001b[0m             )\n\u001b[0;32m--> 851\u001b[0;31m         return self._input_request(str(prompt),\n\u001b[0m\u001b[1;32m    852\u001b[0m             \u001b[0mself\u001b[0m\u001b[0;34m.\u001b[0m\u001b[0m_parent_ident\u001b[0m\u001b[0;34m,\u001b[0m\u001b[0;34m\u001b[0m\u001b[0;34m\u001b[0m\u001b[0m\n\u001b[1;32m    853\u001b[0m             \u001b[0mself\u001b[0m\u001b[0;34m.\u001b[0m\u001b[0m_parent_header\u001b[0m\u001b[0;34m,\u001b[0m\u001b[0;34m\u001b[0m\u001b[0;34m\u001b[0m\u001b[0m\n",
            "\u001b[0;32m/usr/local/lib/python3.10/dist-packages/ipykernel/kernelbase.py\u001b[0m in \u001b[0;36m_input_request\u001b[0;34m(self, prompt, ident, parent, password)\u001b[0m\n\u001b[1;32m    893\u001b[0m             \u001b[0;32mexcept\u001b[0m \u001b[0mKeyboardInterrupt\u001b[0m\u001b[0;34m:\u001b[0m\u001b[0;34m\u001b[0m\u001b[0;34m\u001b[0m\u001b[0m\n\u001b[1;32m    894\u001b[0m                 \u001b[0;31m# re-raise KeyboardInterrupt, to truncate traceback\u001b[0m\u001b[0;34m\u001b[0m\u001b[0;34m\u001b[0m\u001b[0m\n\u001b[0;32m--> 895\u001b[0;31m                 \u001b[0;32mraise\u001b[0m \u001b[0mKeyboardInterrupt\u001b[0m\u001b[0;34m(\u001b[0m\u001b[0;34m\"Interrupted by user\"\u001b[0m\u001b[0;34m)\u001b[0m \u001b[0;32mfrom\u001b[0m \u001b[0;32mNone\u001b[0m\u001b[0;34m\u001b[0m\u001b[0;34m\u001b[0m\u001b[0m\n\u001b[0m\u001b[1;32m    896\u001b[0m             \u001b[0;32mexcept\u001b[0m \u001b[0mException\u001b[0m \u001b[0;32mas\u001b[0m \u001b[0me\u001b[0m\u001b[0;34m:\u001b[0m\u001b[0;34m\u001b[0m\u001b[0;34m\u001b[0m\u001b[0m\n\u001b[1;32m    897\u001b[0m                 \u001b[0mself\u001b[0m\u001b[0;34m.\u001b[0m\u001b[0mlog\u001b[0m\u001b[0;34m.\u001b[0m\u001b[0mwarning\u001b[0m\u001b[0;34m(\u001b[0m\u001b[0;34m\"Invalid Message:\"\u001b[0m\u001b[0;34m,\u001b[0m \u001b[0mexc_info\u001b[0m\u001b[0;34m=\u001b[0m\u001b[0;32mTrue\u001b[0m\u001b[0;34m)\u001b[0m\u001b[0;34m\u001b[0m\u001b[0;34m\u001b[0m\u001b[0m\n",
            "\u001b[0;31mKeyboardInterrupt\u001b[0m: Interrupted by user"
          ]
        }
      ]
    },
    {
      "cell_type": "markdown",
      "id": "43e66438",
      "metadata": {
        "id": "43e66438"
      },
      "source": [
        "7) Vamos fazer um programa para verificar quem é o assassino de um crime. Para descobrir o assassino, a polícia faz um pequeno questionário com 5 perguntas onde a resposta só pode ser sim ou não:  \n",
        "\n",
        "\n",
        "    a. Mora perto da vítima?\n",
        "\n",
        "    b. Já trabalhou com a vítima?\n",
        "\n",
        "    c. Telefonou para a vítima?\n",
        "\n",
        "    d. Esteve no local do crime?\n",
        "\n",
        "    e. Devia para a vítima?\n",
        "\n",
        "Cada resposta sim dá um ponto para o suspeito. A polícia considera que os suspeitos com 5 pontos são os assassinos, com 4 a 3 pontos\n",
        "são cúmplices e 2 pontos são apenas suspeitos, necessitando outras investigações. Valores iguais ou abaixo de 1 são liberados."
      ]
    },
    {
      "cell_type": "code",
      "execution_count": null,
      "id": "678e153a",
      "metadata": {
        "id": "678e153a",
        "outputId": "d137bf7c-5257-4996-85c8-a11fd76cb0e3"
      },
      "outputs": [
        {
          "name": "stdout",
          "output_type": "stream",
          "text": [
            "Informe Sim ou Não para as perguntas abaixo:\n",
            "Mora perto da vítima? sim\n",
            "Já trabalhou com a vítima? Sim\n",
            "Telefonou para a vítima? nâo\n",
            "Esteve no local do crime? Não\n",
            "Devia para a vítima? Não\n",
            "A pessoa está liberada\n"
          ]
        }
      ],
      "source": []
    },
    {
      "cell_type": "markdown",
      "id": "b73da6e2",
      "metadata": {
        "id": "b73da6e2"
      },
      "source": [
        "8) Um produto vai sofrer aumento de acordo com a Tabela 1 abaixo. Faça um programa que peça para o usuário digitar o valor do produto de acordo\n",
        "com o preço antigo e escreva uma das mensagens da Tabela 2, de acordo com o preço reajustado:\n",
        "\n",
        "Tabela 1\n",
        "\n",
        "| Preço Antigo         | % de aumento |\n",
        "|----------------------|--------------|\n",
        "| Até 50 reais         | 5%           |\n",
        "| Entre 50 e 100 reais | 10%          |\n",
        "| De 100 a 150 reais   | 13%          |\n",
        "| Acima de 150 reais   | 15%          |\n",
        "\n",
        "Tabela 2\n",
        "\n",
        "| Preço Novo            | Mensagem   |\n",
        "|-----------------------|------------|\n",
        "| Até 80 reais          | Barato     |\n",
        "| Entre 80 e 115 reais  | Razoável   |\n",
        "| Entre 115 e 150 reais | Normal     |\n",
        "| Entre 150 e 170 reais | Caro       |\n",
        "| Acima de 170 reais    | Muito Caro |"
      ]
    },
    {
      "cell_type": "code",
      "execution_count": 58,
      "id": "e8830bae",
      "metadata": {
        "id": "e8830bae",
        "outputId": "2dfbb7ae-c4c7-41fe-8f9a-535d6e1f2b87",
        "colab": {
          "base_uri": "https://localhost:8080/"
        }
      },
      "outputs": [
        {
          "output_type": "stream",
          "name": "stdout",
          "text": [
            "digite o preco antigo: 49\n",
            "preco novo é 51.45 e está barato\n",
            "preco novo é 51.45 e está razoavel\n",
            "preco novo é 51.45 e está normal\n",
            "preco novo é 51.45 e está caro\n"
          ]
        }
      ],
      "source": [
        "preco_antigo = float(input('digite o preco antigo: '))\n",
        "\n",
        "if preco_antigo <= 50:\n",
        "  preco_atual = preco_antigo * 1.05\n",
        "elif preco_antigo < 100:\n",
        "  preco_atual = preco_antigo * 1.1\n",
        "elif preco_antigo < 150:\n",
        "  preco_atual = preco_antigo * 1.3\n",
        "else:\n",
        "  preco_atual = preco_antigo * 1.15\n",
        "\n",
        "if preco_atual <80:\n",
        "  print(f'preco novo é {preco_atual} e está barato')\n",
        "if preco_atual <=115:\n",
        "  print(f'preco novo é {preco_atual} e está razoavel')\n",
        "if preco_atual <=150:\n",
        "  print(f'preco novo é {preco_atual} e está normal')\n",
        "if preco_atual <=170:\n",
        "  print(f'preco novo é {preco_atual} e está caro')\n",
        "else:\n",
        "  print(f'preco novo é {preco_atual} e está muito caro')\n"
      ]
    },
    {
      "cell_type": "markdown",
      "id": "f8b8d13e",
      "metadata": {
        "id": "f8b8d13e"
      },
      "source": [
        "9) Desafio 1 - Faça um programa que leia 3 números e informe o maior deles."
      ]
    },
    {
      "cell_type": "code",
      "execution_count": null,
      "id": "a3f5bce1",
      "metadata": {
        "id": "a3f5bce1"
      },
      "outputs": [],
      "source": [
        "print('Digite apenas números, vamos descobrir qual o maior')\n",
        "num_1 = float(input('Digite um numero: '))\n",
        "num_2= float(input('Digite outro numero: '))\n",
        "num_3= float(input('Digite outro numero: '))\n",
        "\n",
        "if num_1 > num_2  >3 :\n",
        "  print (f'O primeiro numero digitado é maior: {num_1}')\n",
        "elif num_1< num_2:\n",
        "  print (f'O segundo numero é o maior: {num_2}')\n",
        "elif num_1 == num_2:\n",
        "  print ('Números iguais não são validos')"
      ]
    },
    {
      "cell_type": "markdown",
      "id": "77a74bb9",
      "metadata": {
        "id": "77a74bb9"
      },
      "source": [
        "10) Desafio 2 - Faça um programa que leia 4 números e informe o maior deles"
      ]
    },
    {
      "cell_type": "code",
      "execution_count": null,
      "id": "90b7320b",
      "metadata": {
        "id": "90b7320b"
      },
      "outputs": [],
      "source": []
    }
  ],
  "metadata": {
    "kernelspec": {
      "display_name": "Python 3 (ipykernel)",
      "language": "python",
      "name": "python3"
    },
    "language_info": {
      "codemirror_mode": {
        "name": "ipython",
        "version": 3
      },
      "file_extension": ".py",
      "mimetype": "text/x-python",
      "name": "python",
      "nbconvert_exporter": "python",
      "pygments_lexer": "ipython3",
      "version": "3.9.6"
    },
    "colab": {
      "provenance": [],
      "include_colab_link": true
    }
  },
  "nbformat": 4,
  "nbformat_minor": 5
}